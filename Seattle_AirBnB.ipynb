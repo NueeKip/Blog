{
 "cells": [
  {
   "cell_type": "markdown",
   "metadata": {},
   "source": [
    "# Write a blog post Data Science Udacity - Seattle AirBnB \n",
    "## Cheruiyot Emmanuel"
   ]
  },
  {
   "cell_type": "markdown",
   "metadata": {},
   "source": [
    "[Medium Link](https://medium.com/@cheruiyotemmanuel/the-effects-of-user-reviews-in-seattle-airbnb-c899120634a7)"
   ]
  },
  {
   "cell_type": "markdown",
   "metadata": {},
   "source": [
    "Airbnb, operates an online marketplace focused on short-term homestays and experiences. The company acts as a broker and charges a commission from each booking."
   ]
  },
  {
   "cell_type": "markdown",
   "metadata": {},
   "source": [
    "### Questions:\n",
    "\n",
    "1. Which neighborhood is the most expensive and which is the cheapest?\n",
    "2. Are there more comments for highly or poorly rated AirBnBs?\n",
    "3. What factors contribute to the overall rating? Can we predict rating using a model?"
   ]
  },
  {
   "cell_type": "markdown",
   "metadata": {},
   "source": [
    "In this project we have a deep look into the Seattle AirBnB dataset from Kaggle to see if certain trends could be pulled from the information collected by AirBnB. "
   ]
  },
  {
   "cell_type": "markdown",
   "metadata": {},
   "source": [
    "### Data Understanding<a id='dataunderstanding'></a>"
   ]
  },
  {
   "cell_type": "code",
   "execution_count": 83,
   "metadata": {
    "execution": {
     "iopub.execute_input": "2023-01-02T06:57:46.434944Z",
     "iopub.status.busy": "2023-01-02T06:57:46.433474Z",
     "iopub.status.idle": "2023-01-02T06:57:46.445325Z",
     "shell.execute_reply": "2023-01-02T06:57:46.443590Z",
     "shell.execute_reply.started": "2023-01-02T06:57:46.434888Z"
    }
   },
   "outputs": [],
   "source": [
    "import numpy as np\n",
    "import pandas as pd\n",
    "import matplotlib.pyplot as plt\n",
    "from sklearn.linear_model import LinearRegression\n",
    "from sklearn.model_selection import train_test_split\n",
    "from sklearn.metrics import r2_score, mean_squared_error\n",
    "import seaborn as sns \n",
    "%matplotlib inline\n",
    "import warnings\n",
    "warnings.filterwarnings(\"ignore\")"
   ]
  },
  {
   "cell_type": "code",
   "execution_count": 84,
   "metadata": {
    "execution": {
     "iopub.execute_input": "2023-01-02T06:57:46.483668Z",
     "iopub.status.busy": "2023-01-02T06:57:46.482935Z",
     "iopub.status.idle": "2023-01-02T06:57:47.912322Z",
     "shell.execute_reply": "2023-01-02T06:57:47.911100Z",
     "shell.execute_reply.started": "2023-01-02T06:57:46.483630Z"
    }
   },
   "outputs": [],
   "source": [
    "calendar = pd.read_csv('/kaggle/input/seattle/calendar.csv')\n",
    "listings = pd.read_csv('/kaggle/input/seattle/listings.csv')\n",
    "reviews = pd.read_csv('/kaggle/input/seattle/reviews.csv')"
   ]
  },
  {
   "cell_type": "code",
   "execution_count": 85,
   "metadata": {
    "execution": {
     "iopub.execute_input": "2023-01-02T06:57:47.915127Z",
     "iopub.status.busy": "2023-01-02T06:57:47.914683Z",
     "iopub.status.idle": "2023-01-02T06:57:47.927819Z",
     "shell.execute_reply": "2023-01-02T06:57:47.926745Z",
     "shell.execute_reply.started": "2023-01-02T06:57:47.915094Z"
    }
   },
   "outputs": [
    {
     "data": {
      "text/html": [
       "<div>\n",
       "<style scoped>\n",
       "    .dataframe tbody tr th:only-of-type {\n",
       "        vertical-align: middle;\n",
       "    }\n",
       "\n",
       "    .dataframe tbody tr th {\n",
       "        vertical-align: top;\n",
       "    }\n",
       "\n",
       "    .dataframe thead th {\n",
       "        text-align: right;\n",
       "    }\n",
       "</style>\n",
       "<table border=\"1\" class=\"dataframe\">\n",
       "  <thead>\n",
       "    <tr style=\"text-align: right;\">\n",
       "      <th></th>\n",
       "      <th>listing_id</th>\n",
       "      <th>date</th>\n",
       "      <th>available</th>\n",
       "      <th>price</th>\n",
       "    </tr>\n",
       "  </thead>\n",
       "  <tbody>\n",
       "    <tr>\n",
       "      <th>0</th>\n",
       "      <td>241032</td>\n",
       "      <td>2016-01-04</td>\n",
       "      <td>t</td>\n",
       "      <td>$85.00</td>\n",
       "    </tr>\n",
       "    <tr>\n",
       "      <th>1</th>\n",
       "      <td>241032</td>\n",
       "      <td>2016-01-05</td>\n",
       "      <td>t</td>\n",
       "      <td>$85.00</td>\n",
       "    </tr>\n",
       "    <tr>\n",
       "      <th>2</th>\n",
       "      <td>241032</td>\n",
       "      <td>2016-01-06</td>\n",
       "      <td>f</td>\n",
       "      <td>NaN</td>\n",
       "    </tr>\n",
       "    <tr>\n",
       "      <th>3</th>\n",
       "      <td>241032</td>\n",
       "      <td>2016-01-07</td>\n",
       "      <td>f</td>\n",
       "      <td>NaN</td>\n",
       "    </tr>\n",
       "    <tr>\n",
       "      <th>4</th>\n",
       "      <td>241032</td>\n",
       "      <td>2016-01-08</td>\n",
       "      <td>f</td>\n",
       "      <td>NaN</td>\n",
       "    </tr>\n",
       "  </tbody>\n",
       "</table>\n",
       "</div>"
      ],
      "text/plain": [
       "   listing_id        date available   price\n",
       "0      241032  2016-01-04         t  $85.00\n",
       "1      241032  2016-01-05         t  $85.00\n",
       "2      241032  2016-01-06         f     NaN\n",
       "3      241032  2016-01-07         f     NaN\n",
       "4      241032  2016-01-08         f     NaN"
      ]
     },
     "execution_count": 85,
     "metadata": {},
     "output_type": "execute_result"
    }
   ],
   "source": [
    "calendar.head()"
   ]
  },
  {
   "cell_type": "code",
   "execution_count": 86,
   "metadata": {
    "execution": {
     "iopub.execute_input": "2023-01-02T06:57:47.930149Z",
     "iopub.status.busy": "2023-01-02T06:57:47.929200Z",
     "iopub.status.idle": "2023-01-02T06:57:47.964630Z",
     "shell.execute_reply": "2023-01-02T06:57:47.963020Z",
     "shell.execute_reply.started": "2023-01-02T06:57:47.930111Z"
    }
   },
   "outputs": [
    {
     "data": {
      "text/html": [
       "<div>\n",
       "<style scoped>\n",
       "    .dataframe tbody tr th:only-of-type {\n",
       "        vertical-align: middle;\n",
       "    }\n",
       "\n",
       "    .dataframe tbody tr th {\n",
       "        vertical-align: top;\n",
       "    }\n",
       "\n",
       "    .dataframe thead th {\n",
       "        text-align: right;\n",
       "    }\n",
       "</style>\n",
       "<table border=\"1\" class=\"dataframe\">\n",
       "  <thead>\n",
       "    <tr style=\"text-align: right;\">\n",
       "      <th></th>\n",
       "      <th>id</th>\n",
       "      <th>listing_url</th>\n",
       "      <th>scrape_id</th>\n",
       "      <th>last_scraped</th>\n",
       "      <th>name</th>\n",
       "      <th>summary</th>\n",
       "      <th>space</th>\n",
       "      <th>description</th>\n",
       "      <th>experiences_offered</th>\n",
       "      <th>neighborhood_overview</th>\n",
       "      <th>...</th>\n",
       "      <th>review_scores_value</th>\n",
       "      <th>requires_license</th>\n",
       "      <th>license</th>\n",
       "      <th>jurisdiction_names</th>\n",
       "      <th>instant_bookable</th>\n",
       "      <th>cancellation_policy</th>\n",
       "      <th>require_guest_profile_picture</th>\n",
       "      <th>require_guest_phone_verification</th>\n",
       "      <th>calculated_host_listings_count</th>\n",
       "      <th>reviews_per_month</th>\n",
       "    </tr>\n",
       "  </thead>\n",
       "  <tbody>\n",
       "    <tr>\n",
       "      <th>0</th>\n",
       "      <td>241032</td>\n",
       "      <td>https://www.airbnb.com/rooms/241032</td>\n",
       "      <td>20160104002432</td>\n",
       "      <td>2016-01-04</td>\n",
       "      <td>Stylish Queen Anne Apartment</td>\n",
       "      <td>NaN</td>\n",
       "      <td>Make your self at home in this charming one-be...</td>\n",
       "      <td>Make your self at home in this charming one-be...</td>\n",
       "      <td>none</td>\n",
       "      <td>NaN</td>\n",
       "      <td>...</td>\n",
       "      <td>10.0</td>\n",
       "      <td>f</td>\n",
       "      <td>NaN</td>\n",
       "      <td>WASHINGTON</td>\n",
       "      <td>f</td>\n",
       "      <td>moderate</td>\n",
       "      <td>f</td>\n",
       "      <td>f</td>\n",
       "      <td>2</td>\n",
       "      <td>4.07</td>\n",
       "    </tr>\n",
       "    <tr>\n",
       "      <th>1</th>\n",
       "      <td>953595</td>\n",
       "      <td>https://www.airbnb.com/rooms/953595</td>\n",
       "      <td>20160104002432</td>\n",
       "      <td>2016-01-04</td>\n",
       "      <td>Bright &amp; Airy Queen Anne Apartment</td>\n",
       "      <td>Chemically sensitive? We've removed the irrita...</td>\n",
       "      <td>Beautiful, hypoallergenic apartment in an extr...</td>\n",
       "      <td>Chemically sensitive? We've removed the irrita...</td>\n",
       "      <td>none</td>\n",
       "      <td>Queen Anne is a wonderful, truly functional vi...</td>\n",
       "      <td>...</td>\n",
       "      <td>10.0</td>\n",
       "      <td>f</td>\n",
       "      <td>NaN</td>\n",
       "      <td>WASHINGTON</td>\n",
       "      <td>f</td>\n",
       "      <td>strict</td>\n",
       "      <td>t</td>\n",
       "      <td>t</td>\n",
       "      <td>6</td>\n",
       "      <td>1.48</td>\n",
       "    </tr>\n",
       "    <tr>\n",
       "      <th>2</th>\n",
       "      <td>3308979</td>\n",
       "      <td>https://www.airbnb.com/rooms/3308979</td>\n",
       "      <td>20160104002432</td>\n",
       "      <td>2016-01-04</td>\n",
       "      <td>New Modern House-Amazing water view</td>\n",
       "      <td>New modern house built in 2013.  Spectacular s...</td>\n",
       "      <td>Our house is modern, light and fresh with a wa...</td>\n",
       "      <td>New modern house built in 2013.  Spectacular s...</td>\n",
       "      <td>none</td>\n",
       "      <td>Upper Queen Anne is a charming neighborhood fu...</td>\n",
       "      <td>...</td>\n",
       "      <td>10.0</td>\n",
       "      <td>f</td>\n",
       "      <td>NaN</td>\n",
       "      <td>WASHINGTON</td>\n",
       "      <td>f</td>\n",
       "      <td>strict</td>\n",
       "      <td>f</td>\n",
       "      <td>f</td>\n",
       "      <td>2</td>\n",
       "      <td>1.15</td>\n",
       "    </tr>\n",
       "    <tr>\n",
       "      <th>3</th>\n",
       "      <td>7421966</td>\n",
       "      <td>https://www.airbnb.com/rooms/7421966</td>\n",
       "      <td>20160104002432</td>\n",
       "      <td>2016-01-04</td>\n",
       "      <td>Queen Anne Chateau</td>\n",
       "      <td>A charming apartment that sits atop Queen Anne...</td>\n",
       "      <td>NaN</td>\n",
       "      <td>A charming apartment that sits atop Queen Anne...</td>\n",
       "      <td>none</td>\n",
       "      <td>NaN</td>\n",
       "      <td>...</td>\n",
       "      <td>NaN</td>\n",
       "      <td>f</td>\n",
       "      <td>NaN</td>\n",
       "      <td>WASHINGTON</td>\n",
       "      <td>f</td>\n",
       "      <td>flexible</td>\n",
       "      <td>f</td>\n",
       "      <td>f</td>\n",
       "      <td>1</td>\n",
       "      <td>NaN</td>\n",
       "    </tr>\n",
       "    <tr>\n",
       "      <th>4</th>\n",
       "      <td>278830</td>\n",
       "      <td>https://www.airbnb.com/rooms/278830</td>\n",
       "      <td>20160104002432</td>\n",
       "      <td>2016-01-04</td>\n",
       "      <td>Charming craftsman 3 bdm house</td>\n",
       "      <td>Cozy family craftman house in beautiful neighb...</td>\n",
       "      <td>Cozy family craftman house in beautiful neighb...</td>\n",
       "      <td>Cozy family craftman house in beautiful neighb...</td>\n",
       "      <td>none</td>\n",
       "      <td>We are in the beautiful neighborhood of Queen ...</td>\n",
       "      <td>...</td>\n",
       "      <td>9.0</td>\n",
       "      <td>f</td>\n",
       "      <td>NaN</td>\n",
       "      <td>WASHINGTON</td>\n",
       "      <td>f</td>\n",
       "      <td>strict</td>\n",
       "      <td>f</td>\n",
       "      <td>f</td>\n",
       "      <td>1</td>\n",
       "      <td>0.89</td>\n",
       "    </tr>\n",
       "  </tbody>\n",
       "</table>\n",
       "<p>5 rows × 92 columns</p>\n",
       "</div>"
      ],
      "text/plain": [
       "        id                           listing_url       scrape_id last_scraped  \\\n",
       "0   241032   https://www.airbnb.com/rooms/241032  20160104002432   2016-01-04   \n",
       "1   953595   https://www.airbnb.com/rooms/953595  20160104002432   2016-01-04   \n",
       "2  3308979  https://www.airbnb.com/rooms/3308979  20160104002432   2016-01-04   \n",
       "3  7421966  https://www.airbnb.com/rooms/7421966  20160104002432   2016-01-04   \n",
       "4   278830   https://www.airbnb.com/rooms/278830  20160104002432   2016-01-04   \n",
       "\n",
       "                                  name  \\\n",
       "0         Stylish Queen Anne Apartment   \n",
       "1   Bright & Airy Queen Anne Apartment   \n",
       "2  New Modern House-Amazing water view   \n",
       "3                   Queen Anne Chateau   \n",
       "4       Charming craftsman 3 bdm house   \n",
       "\n",
       "                                             summary  \\\n",
       "0                                                NaN   \n",
       "1  Chemically sensitive? We've removed the irrita...   \n",
       "2  New modern house built in 2013.  Spectacular s...   \n",
       "3  A charming apartment that sits atop Queen Anne...   \n",
       "4  Cozy family craftman house in beautiful neighb...   \n",
       "\n",
       "                                               space  \\\n",
       "0  Make your self at home in this charming one-be...   \n",
       "1  Beautiful, hypoallergenic apartment in an extr...   \n",
       "2  Our house is modern, light and fresh with a wa...   \n",
       "3                                                NaN   \n",
       "4  Cozy family craftman house in beautiful neighb...   \n",
       "\n",
       "                                         description experiences_offered  \\\n",
       "0  Make your self at home in this charming one-be...                none   \n",
       "1  Chemically sensitive? We've removed the irrita...                none   \n",
       "2  New modern house built in 2013.  Spectacular s...                none   \n",
       "3  A charming apartment that sits atop Queen Anne...                none   \n",
       "4  Cozy family craftman house in beautiful neighb...                none   \n",
       "\n",
       "                               neighborhood_overview  ... review_scores_value  \\\n",
       "0                                                NaN  ...                10.0   \n",
       "1  Queen Anne is a wonderful, truly functional vi...  ...                10.0   \n",
       "2  Upper Queen Anne is a charming neighborhood fu...  ...                10.0   \n",
       "3                                                NaN  ...                 NaN   \n",
       "4  We are in the beautiful neighborhood of Queen ...  ...                 9.0   \n",
       "\n",
       "  requires_license license jurisdiction_names instant_bookable  \\\n",
       "0                f     NaN         WASHINGTON                f   \n",
       "1                f     NaN         WASHINGTON                f   \n",
       "2                f     NaN         WASHINGTON                f   \n",
       "3                f     NaN         WASHINGTON                f   \n",
       "4                f     NaN         WASHINGTON                f   \n",
       "\n",
       "  cancellation_policy  require_guest_profile_picture  \\\n",
       "0            moderate                              f   \n",
       "1              strict                              t   \n",
       "2              strict                              f   \n",
       "3            flexible                              f   \n",
       "4              strict                              f   \n",
       "\n",
       "  require_guest_phone_verification calculated_host_listings_count  \\\n",
       "0                                f                              2   \n",
       "1                                t                              6   \n",
       "2                                f                              2   \n",
       "3                                f                              1   \n",
       "4                                f                              1   \n",
       "\n",
       "  reviews_per_month  \n",
       "0              4.07  \n",
       "1              1.48  \n",
       "2              1.15  \n",
       "3               NaN  \n",
       "4              0.89  \n",
       "\n",
       "[5 rows x 92 columns]"
      ]
     },
     "execution_count": 86,
     "metadata": {},
     "output_type": "execute_result"
    }
   ],
   "source": [
    "listings.head()"
   ]
  },
  {
   "cell_type": "code",
   "execution_count": 87,
   "metadata": {
    "execution": {
     "iopub.execute_input": "2023-01-02T06:57:47.967480Z",
     "iopub.status.busy": "2023-01-02T06:57:47.967079Z",
     "iopub.status.idle": "2023-01-02T06:57:47.985635Z",
     "shell.execute_reply": "2023-01-02T06:57:47.984083Z",
     "shell.execute_reply.started": "2023-01-02T06:57:47.967427Z"
    }
   },
   "outputs": [
    {
     "data": {
      "text/html": [
       "<div>\n",
       "<style scoped>\n",
       "    .dataframe tbody tr th:only-of-type {\n",
       "        vertical-align: middle;\n",
       "    }\n",
       "\n",
       "    .dataframe tbody tr th {\n",
       "        vertical-align: top;\n",
       "    }\n",
       "\n",
       "    .dataframe thead th {\n",
       "        text-align: right;\n",
       "    }\n",
       "</style>\n",
       "<table border=\"1\" class=\"dataframe\">\n",
       "  <thead>\n",
       "    <tr style=\"text-align: right;\">\n",
       "      <th></th>\n",
       "      <th>listing_id</th>\n",
       "      <th>id</th>\n",
       "      <th>date</th>\n",
       "      <th>reviewer_id</th>\n",
       "      <th>reviewer_name</th>\n",
       "      <th>comments</th>\n",
       "    </tr>\n",
       "  </thead>\n",
       "  <tbody>\n",
       "    <tr>\n",
       "      <th>0</th>\n",
       "      <td>7202016</td>\n",
       "      <td>38917982</td>\n",
       "      <td>2015-07-19</td>\n",
       "      <td>28943674</td>\n",
       "      <td>Bianca</td>\n",
       "      <td>Cute and cozy place. Perfect location to every...</td>\n",
       "    </tr>\n",
       "    <tr>\n",
       "      <th>1</th>\n",
       "      <td>7202016</td>\n",
       "      <td>39087409</td>\n",
       "      <td>2015-07-20</td>\n",
       "      <td>32440555</td>\n",
       "      <td>Frank</td>\n",
       "      <td>Kelly has a great room in a very central locat...</td>\n",
       "    </tr>\n",
       "    <tr>\n",
       "      <th>2</th>\n",
       "      <td>7202016</td>\n",
       "      <td>39820030</td>\n",
       "      <td>2015-07-26</td>\n",
       "      <td>37722850</td>\n",
       "      <td>Ian</td>\n",
       "      <td>Very spacious apartment, and in a great neighb...</td>\n",
       "    </tr>\n",
       "    <tr>\n",
       "      <th>3</th>\n",
       "      <td>7202016</td>\n",
       "      <td>40813543</td>\n",
       "      <td>2015-08-02</td>\n",
       "      <td>33671805</td>\n",
       "      <td>George</td>\n",
       "      <td>Close to Seattle Center and all it has to offe...</td>\n",
       "    </tr>\n",
       "    <tr>\n",
       "      <th>4</th>\n",
       "      <td>7202016</td>\n",
       "      <td>41986501</td>\n",
       "      <td>2015-08-10</td>\n",
       "      <td>34959538</td>\n",
       "      <td>Ming</td>\n",
       "      <td>Kelly was a great host and very accommodating ...</td>\n",
       "    </tr>\n",
       "  </tbody>\n",
       "</table>\n",
       "</div>"
      ],
      "text/plain": [
       "   listing_id        id        date  reviewer_id reviewer_name  \\\n",
       "0     7202016  38917982  2015-07-19     28943674        Bianca   \n",
       "1     7202016  39087409  2015-07-20     32440555         Frank   \n",
       "2     7202016  39820030  2015-07-26     37722850           Ian   \n",
       "3     7202016  40813543  2015-08-02     33671805        George   \n",
       "4     7202016  41986501  2015-08-10     34959538          Ming   \n",
       "\n",
       "                                            comments  \n",
       "0  Cute and cozy place. Perfect location to every...  \n",
       "1  Kelly has a great room in a very central locat...  \n",
       "2  Very spacious apartment, and in a great neighb...  \n",
       "3  Close to Seattle Center and all it has to offe...  \n",
       "4  Kelly was a great host and very accommodating ...  "
      ]
     },
     "execution_count": 87,
     "metadata": {},
     "output_type": "execute_result"
    }
   ],
   "source": [
    "reviews.head()"
   ]
  },
  {
   "cell_type": "markdown",
   "metadata": {},
   "source": [
    "Calendar contains dates, availability, and prices. Listings contains information about the posts themselves, such as review scores, neighborhoods, etc. Reviews holds the customer review information. All three contain listing_id in common."
   ]
  },
  {
   "cell_type": "code",
   "execution_count": 88,
   "metadata": {
    "execution": {
     "iopub.execute_input": "2023-01-02T06:57:47.990186Z",
     "iopub.status.busy": "2023-01-02T06:57:47.988735Z",
     "iopub.status.idle": "2023-01-02T06:57:48.000484Z",
     "shell.execute_reply": "2023-01-02T06:57:47.999287Z",
     "shell.execute_reply.started": "2023-01-02T06:57:47.990134Z"
    }
   },
   "outputs": [
    {
     "name": "stdout",
     "output_type": "stream",
     "text": [
      "listings: (3818, 92)\n",
      "calendar: (1393570, 4)\n",
      "reviews: (84849, 6)\n"
     ]
    }
   ],
   "source": [
    "print('listings: '+ str(listings.shape))\n",
    "print('calendar: '+ str(calendar.shape))\n",
    "print('reviews: '+ str(reviews.shape))"
   ]
  },
  {
   "cell_type": "markdown",
   "metadata": {},
   "source": [
    "From this, we can gather that listings contains the most columns, and therefore, the most relevant information needed to answer our questions. Let's explore what these columns are."
   ]
  },
  {
   "cell_type": "code",
   "execution_count": 89,
   "metadata": {
    "execution": {
     "iopub.execute_input": "2023-01-02T06:57:48.002656Z",
     "iopub.status.busy": "2023-01-02T06:57:48.002147Z",
     "iopub.status.idle": "2023-01-02T06:57:48.186435Z",
     "shell.execute_reply": "2023-01-02T06:57:48.185175Z",
     "shell.execute_reply.started": "2023-01-02T06:57:48.002610Z"
    }
   },
   "outputs": [
    {
     "name": "stdout",
     "output_type": "stream",
     "text": [
      "<class 'pandas.core.frame.DataFrame'>\n",
      "RangeIndex: 3818 entries, 0 to 3817\n",
      "Data columns (total 92 columns):\n",
      " #   Column                            Non-Null Count  Dtype  \n",
      "---  ------                            --------------  -----  \n",
      " 0   id                                3818 non-null   int64  \n",
      " 1   listing_url                       3818 non-null   object \n",
      " 2   scrape_id                         3818 non-null   int64  \n",
      " 3   last_scraped                      3818 non-null   object \n",
      " 4   name                              3818 non-null   object \n",
      " 5   summary                           3641 non-null   object \n",
      " 6   space                             3249 non-null   object \n",
      " 7   description                       3818 non-null   object \n",
      " 8   experiences_offered               3818 non-null   object \n",
      " 9   neighborhood_overview             2786 non-null   object \n",
      " 10  notes                             2212 non-null   object \n",
      " 11  transit                           2884 non-null   object \n",
      " 12  thumbnail_url                     3498 non-null   object \n",
      " 13  medium_url                        3498 non-null   object \n",
      " 14  picture_url                       3818 non-null   object \n",
      " 15  xl_picture_url                    3498 non-null   object \n",
      " 16  host_id                           3818 non-null   int64  \n",
      " 17  host_url                          3818 non-null   object \n",
      " 18  host_name                         3816 non-null   object \n",
      " 19  host_since                        3816 non-null   object \n",
      " 20  host_location                     3810 non-null   object \n",
      " 21  host_about                        2959 non-null   object \n",
      " 22  host_response_time                3295 non-null   object \n",
      " 23  host_response_rate                3295 non-null   object \n",
      " 24  host_acceptance_rate              3045 non-null   object \n",
      " 25  host_is_superhost                 3816 non-null   object \n",
      " 26  host_thumbnail_url                3816 non-null   object \n",
      " 27  host_picture_url                  3816 non-null   object \n",
      " 28  host_neighbourhood                3518 non-null   object \n",
      " 29  host_listings_count               3816 non-null   float64\n",
      " 30  host_total_listings_count         3816 non-null   float64\n",
      " 31  host_verifications                3818 non-null   object \n",
      " 32  host_has_profile_pic              3816 non-null   object \n",
      " 33  host_identity_verified            3816 non-null   object \n",
      " 34  street                            3818 non-null   object \n",
      " 35  neighbourhood                     3402 non-null   object \n",
      " 36  neighbourhood_cleansed            3818 non-null   object \n",
      " 37  neighbourhood_group_cleansed      3818 non-null   object \n",
      " 38  city                              3818 non-null   object \n",
      " 39  state                             3818 non-null   object \n",
      " 40  zipcode                           3811 non-null   object \n",
      " 41  market                            3818 non-null   object \n",
      " 42  smart_location                    3818 non-null   object \n",
      " 43  country_code                      3818 non-null   object \n",
      " 44  country                           3818 non-null   object \n",
      " 45  latitude                          3818 non-null   float64\n",
      " 46  longitude                         3818 non-null   float64\n",
      " 47  is_location_exact                 3818 non-null   object \n",
      " 48  property_type                     3817 non-null   object \n",
      " 49  room_type                         3818 non-null   object \n",
      " 50  accommodates                      3818 non-null   int64  \n",
      " 51  bathrooms                         3802 non-null   float64\n",
      " 52  bedrooms                          3812 non-null   float64\n",
      " 53  beds                              3817 non-null   float64\n",
      " 54  bed_type                          3818 non-null   object \n",
      " 55  amenities                         3818 non-null   object \n",
      " 56  square_feet                       97 non-null     float64\n",
      " 57  price                             3818 non-null   object \n",
      " 58  weekly_price                      2009 non-null   object \n",
      " 59  monthly_price                     1517 non-null   object \n",
      " 60  security_deposit                  1866 non-null   object \n",
      " 61  cleaning_fee                      2788 non-null   object \n",
      " 62  guests_included                   3818 non-null   int64  \n",
      " 63  extra_people                      3818 non-null   object \n",
      " 64  minimum_nights                    3818 non-null   int64  \n",
      " 65  maximum_nights                    3818 non-null   int64  \n",
      " 66  calendar_updated                  3818 non-null   object \n",
      " 67  has_availability                  3818 non-null   object \n",
      " 68  availability_30                   3818 non-null   int64  \n",
      " 69  availability_60                   3818 non-null   int64  \n",
      " 70  availability_90                   3818 non-null   int64  \n",
      " 71  availability_365                  3818 non-null   int64  \n",
      " 72  calendar_last_scraped             3818 non-null   object \n",
      " 73  number_of_reviews                 3818 non-null   int64  \n",
      " 74  first_review                      3191 non-null   object \n",
      " 75  last_review                       3191 non-null   object \n",
      " 76  review_scores_rating              3171 non-null   float64\n",
      " 77  review_scores_accuracy            3160 non-null   float64\n",
      " 78  review_scores_cleanliness         3165 non-null   float64\n",
      " 79  review_scores_checkin             3160 non-null   float64\n",
      " 80  review_scores_communication       3167 non-null   float64\n",
      " 81  review_scores_location            3163 non-null   float64\n",
      " 82  review_scores_value               3162 non-null   float64\n",
      " 83  requires_license                  3818 non-null   object \n",
      " 84  license                           0 non-null      float64\n",
      " 85  jurisdiction_names                3818 non-null   object \n",
      " 86  instant_bookable                  3818 non-null   object \n",
      " 87  cancellation_policy               3818 non-null   object \n",
      " 88  require_guest_profile_picture     3818 non-null   object \n",
      " 89  require_guest_phone_verification  3818 non-null   object \n",
      " 90  calculated_host_listings_count    3818 non-null   int64  \n",
      " 91  reviews_per_month                 3191 non-null   float64\n",
      "dtypes: float64(17), int64(13), object(62)\n",
      "memory usage: 2.7+ MB\n"
     ]
    }
   ],
   "source": [
    "listings.info()"
   ]
  },
  {
   "cell_type": "markdown",
   "metadata": {},
   "source": [
    "We note that there are some null values in this dataset that we may have to fix. \n",
    "Also note that there is a column with one ONLY null objects (license). This one can be deleted. "
   ]
  },
  {
   "cell_type": "code",
   "execution_count": 90,
   "metadata": {
    "execution": {
     "iopub.execute_input": "2023-01-02T06:57:48.187867Z",
     "iopub.status.busy": "2023-01-02T06:57:48.187542Z",
     "iopub.status.idle": "2023-01-02T06:57:48.377312Z",
     "shell.execute_reply": "2023-01-02T06:57:48.375976Z",
     "shell.execute_reply.started": "2023-01-02T06:57:48.187838Z"
    }
   },
   "outputs": [
    {
     "name": "stdout",
     "output_type": "stream",
     "text": [
      "<class 'pandas.core.frame.DataFrame'>\n",
      "RangeIndex: 1393570 entries, 0 to 1393569\n",
      "Data columns (total 4 columns):\n",
      " #   Column      Non-Null Count    Dtype \n",
      "---  ------      --------------    ----- \n",
      " 0   listing_id  1393570 non-null  int64 \n",
      " 1   date        1393570 non-null  object\n",
      " 2   available   1393570 non-null  object\n",
      " 3   price       934542 non-null   object\n",
      "dtypes: int64(1), object(3)\n",
      "memory usage: 42.5+ MB\n"
     ]
    }
   ],
   "source": [
    "calendar.info()"
   ]
  },
  {
   "cell_type": "code",
   "execution_count": 91,
   "metadata": {
    "execution": {
     "iopub.execute_input": "2023-01-02T06:57:48.379186Z",
     "iopub.status.busy": "2023-01-02T06:57:48.378865Z",
     "iopub.status.idle": "2023-01-02T06:57:48.412446Z",
     "shell.execute_reply": "2023-01-02T06:57:48.410912Z",
     "shell.execute_reply.started": "2023-01-02T06:57:48.379157Z"
    }
   },
   "outputs": [
    {
     "name": "stdout",
     "output_type": "stream",
     "text": [
      "<class 'pandas.core.frame.DataFrame'>\n",
      "RangeIndex: 84849 entries, 0 to 84848\n",
      "Data columns (total 6 columns):\n",
      " #   Column         Non-Null Count  Dtype \n",
      "---  ------         --------------  ----- \n",
      " 0   listing_id     84849 non-null  int64 \n",
      " 1   id             84849 non-null  int64 \n",
      " 2   date           84849 non-null  object\n",
      " 3   reviewer_id    84849 non-null  int64 \n",
      " 4   reviewer_name  84849 non-null  object\n",
      " 5   comments       84831 non-null  object\n",
      "dtypes: int64(3), object(3)\n",
      "memory usage: 3.9+ MB\n"
     ]
    }
   ],
   "source": [
    "reviews.info()"
   ]
  },
  {
   "cell_type": "markdown",
   "metadata": {},
   "source": [
    "We can check the listing details for a correlation between basic ammenities( accomodates,beds, bathrooms, square_feet) and reviews (review_scores_rating) focus on review ratings."
   ]
  },
  {
   "cell_type": "code",
   "execution_count": 92,
   "metadata": {
    "execution": {
     "iopub.execute_input": "2023-01-02T06:57:48.414493Z",
     "iopub.status.busy": "2023-01-02T06:57:48.414108Z",
     "iopub.status.idle": "2023-01-02T06:57:48.801875Z",
     "shell.execute_reply": "2023-01-02T06:57:48.800550Z",
     "shell.execute_reply.started": "2023-01-02T06:57:48.414437Z"
    }
   },
   "outputs": [
    {
     "data": {
      "image/png": "[encoded data removed]",
      "text/plain": [
       "<Figure size 432x288 with 2 Axes>"
      ]
     },
     "metadata": {
      "needs_background": "light"
     },
     "output_type": "display_data"
    }
   ],
   "source": [
    "sns.heatmap(listings[['accommodates','beds','bathrooms','square_feet','review_scores_rating']].corr(), annot=True, fmt='2f');"
   ]
  },
  {
   "cell_type": "markdown",
   "metadata": {},
   "source": [
    "Before we proceed to investigating our questions we can note from the correlation chart above that (focus on review score rating):\n",
    "- There is a strong relationship between review score rating and square feet\n",
    "- All the three components (Accommodates,beds and bathrooms) have an edge over square feet."
   ]
  },
  {
   "cell_type": "markdown",
   "metadata": {},
   "source": [
    "In the next step we check for nulls"
   ]
  },
  {
   "cell_type": "code",
   "execution_count": 93,
   "metadata": {
    "execution": {
     "iopub.execute_input": "2023-01-02T06:57:48.808012Z",
     "iopub.status.busy": "2023-01-02T06:57:48.807624Z",
     "iopub.status.idle": "2023-01-02T06:57:48.816779Z",
     "shell.execute_reply": "2023-01-02T06:57:48.815532Z",
     "shell.execute_reply.started": "2023-01-02T06:57:48.807979Z"
    }
   },
   "outputs": [
    {
     "data": {
      "text/plain": [
       "647"
      ]
     },
     "execution_count": 93,
     "metadata": {},
     "output_type": "execute_result"
    }
   ],
   "source": [
    "# Focus on review_score rating check for null\n",
    "listings.review_scores_rating.isnull().sum()"
   ]
  },
  {
   "cell_type": "code",
   "execution_count": 94,
   "metadata": {
    "execution": {
     "iopub.execute_input": "2023-01-02T06:57:48.818339Z",
     "iopub.status.busy": "2023-01-02T06:57:48.817967Z",
     "iopub.status.idle": "2023-01-02T06:57:48.834427Z",
     "shell.execute_reply": "2023-01-02T06:57:48.832940Z",
     "shell.execute_reply.started": "2023-01-02T06:57:48.818302Z"
    }
   },
   "outputs": [
    {
     "data": {
      "text/plain": [
       "none    3818\n",
       "Name: experiences_offered, dtype: int64"
      ]
     },
     "execution_count": 94,
     "metadata": {},
     "output_type": "execute_result"
    }
   ],
   "source": [
    "#Value count for experiences_offered\n",
    "listings.experiences_offered.value_counts()"
   ]
  },
  {
   "cell_type": "code",
   "execution_count": 95,
   "metadata": {
    "execution": {
     "iopub.execute_input": "2023-01-02T06:57:48.837176Z",
     "iopub.status.busy": "2023-01-02T06:57:48.836583Z",
     "iopub.status.idle": "2023-01-02T06:57:48.850558Z",
     "shell.execute_reply": "2023-01-02T06:57:48.849136Z",
     "shell.execute_reply.started": "2023-01-02T06:57:48.837125Z"
    }
   },
   "outputs": [
    {
     "data": {
      "text/plain": [
       "f    3818\n",
       "Name: requires_license, dtype: int64"
      ]
     },
     "execution_count": 95,
     "metadata": {},
     "output_type": "execute_result"
    }
   ],
   "source": [
    "# Value count for thosee listing that require license\n",
    "listings.requires_license.value_counts()"
   ]
  },
  {
   "cell_type": "code",
   "execution_count": 96,
   "metadata": {
    "execution": {
     "iopub.execute_input": "2023-01-02T06:57:48.852675Z",
     "iopub.status.busy": "2023-01-02T06:57:48.852130Z",
     "iopub.status.idle": "2023-01-02T06:57:48.874036Z",
     "shell.execute_reply": "2023-01-02T06:57:48.872298Z",
     "shell.execute_reply.started": "2023-01-02T06:57:48.852626Z"
    }
   },
   "outputs": [
    {
     "data": {
      "text/plain": [
       "WASHINGTON    3818\n",
       "Name: jurisdiction_names, dtype: int64"
      ]
     },
     "execution_count": 96,
     "metadata": {},
     "output_type": "execute_result"
    }
   ],
   "source": [
    "# Jurisdiction names\n",
    "listings.jurisdiction_names.value_counts()"
   ]
  },
  {
   "cell_type": "markdown",
   "metadata": {},
   "source": [
    "In the next step, we clean this data to ensure we achieve the best possible outputs thereafter. "
   ]
  },
  {
   "cell_type": "markdown",
   "metadata": {},
   "source": [
    "### Data Preparation<a id='datapreparation'></a>"
   ]
  },
  {
   "cell_type": "markdown",
   "metadata": {},
   "source": [
    "In this section we are goin to make changes to some columns\n",
    "1. Columns that are entirely NaN\n",
    "2. Columns that only contain 1 unique non-NaN value\n",
    "3. Columns that have a high number of NaN values that won't affect our analysis\n",
    "4. Columns that contain irrelevant quantitative or qualitative information"
   ]
  },
  {
   "cell_type": "markdown",
   "metadata": {},
   "source": [
    "#### Step 1: NaN Column"
   ]
  },
  {
   "cell_type": "code",
   "execution_count": 97,
   "metadata": {
    "execution": {
     "iopub.execute_input": "2023-01-02T06:57:48.877884Z",
     "iopub.status.busy": "2023-01-02T06:57:48.877096Z",
     "iopub.status.idle": "2023-01-02T06:57:48.889295Z",
     "shell.execute_reply": "2023-01-02T06:57:48.887874Z",
     "shell.execute_reply.started": "2023-01-02T06:57:48.877832Z"
    }
   },
   "outputs": [],
   "source": [
    "listings.drop(columns=['license'],inplace=True)"
   ]
  },
  {
   "cell_type": "markdown",
   "metadata": {},
   "source": [
    "#### Step 2: Non unique columns\n",
    "First, we need to determine which columns contain only 1 non-NaN value"
   ]
  },
  {
   "cell_type": "code",
   "execution_count": 98,
   "metadata": {
    "execution": {
     "iopub.execute_input": "2023-01-02T06:57:48.892224Z",
     "iopub.status.busy": "2023-01-02T06:57:48.891685Z",
     "iopub.status.idle": "2023-01-02T06:57:48.966105Z",
     "shell.execute_reply": "2023-01-02T06:57:48.964908Z",
     "shell.execute_reply.started": "2023-01-02T06:57:48.892175Z"
    }
   },
   "outputs": [
    {
     "data": {
      "text/plain": [
       "scrape_id                True\n",
       "last_scraped             True\n",
       "experiences_offered      True\n",
       "market                   True\n",
       "country_code             True\n",
       "country                  True\n",
       "has_availability         True\n",
       "calendar_last_scraped    True\n",
       "requires_license         True\n",
       "jurisdiction_names       True\n",
       "dtype: bool"
      ]
     },
     "execution_count": 98,
     "metadata": {},
     "output_type": "execute_result"
    }
   ],
   "source": [
    "x = listings.nunique()==1\n",
    "#print(x)\n",
    "x[x == True]"
   ]
  },
  {
   "cell_type": "code",
   "execution_count": 99,
   "metadata": {
    "execution": {
     "iopub.execute_input": "2023-01-02T06:57:48.968584Z",
     "iopub.status.busy": "2023-01-02T06:57:48.967763Z",
     "iopub.status.idle": "2023-01-02T06:57:48.976729Z",
     "shell.execute_reply": "2023-01-02T06:57:48.975614Z",
     "shell.execute_reply.started": "2023-01-02T06:57:48.968534Z"
    }
   },
   "outputs": [
    {
     "data": {
      "text/plain": [
       "array(['WA', 'wa'], dtype=object)"
      ]
     },
     "execution_count": 99,
     "metadata": {},
     "output_type": "execute_result"
    }
   ],
   "source": [
    "listings.state.unique()"
   ]
  },
  {
   "cell_type": "markdown",
   "metadata": {},
   "source": [
    "We can proceed to drop these columns, including state, because it looks like it was an entry difference rather than a value difference that contributed to its uniqueness."
   ]
  },
  {
   "cell_type": "code",
   "execution_count": 100,
   "metadata": {
    "execution": {
     "iopub.execute_input": "2023-01-02T06:57:48.978773Z",
     "iopub.status.busy": "2023-01-02T06:57:48.978386Z",
     "iopub.status.idle": "2023-01-02T06:57:49.020829Z",
     "shell.execute_reply": "2023-01-02T06:57:49.019635Z",
     "shell.execute_reply.started": "2023-01-02T06:57:48.978741Z"
    }
   },
   "outputs": [
    {
     "name": "stdout",
     "output_type": "stream",
     "text": [
      "<class 'pandas.core.frame.DataFrame'>\n",
      "RangeIndex: 3818 entries, 0 to 3817\n",
      "Data columns (total 80 columns):\n",
      " #   Column                            Non-Null Count  Dtype  \n",
      "---  ------                            --------------  -----  \n",
      " 0   id                                3818 non-null   int64  \n",
      " 1   listing_url                       3818 non-null   object \n",
      " 2   name                              3818 non-null   object \n",
      " 3   summary                           3641 non-null   object \n",
      " 4   space                             3249 non-null   object \n",
      " 5   description                       3818 non-null   object \n",
      " 6   neighborhood_overview             2786 non-null   object \n",
      " 7   notes                             2212 non-null   object \n",
      " 8   transit                           2884 non-null   object \n",
      " 9   thumbnail_url                     3498 non-null   object \n",
      " 10  medium_url                        3498 non-null   object \n",
      " 11  picture_url                       3818 non-null   object \n",
      " 12  xl_picture_url                    3498 non-null   object \n",
      " 13  host_id                           3818 non-null   int64  \n",
      " 14  host_url                          3818 non-null   object \n",
      " 15  host_name                         3816 non-null   object \n",
      " 16  host_since                        3816 non-null   object \n",
      " 17  host_location                     3810 non-null   object \n",
      " 18  host_about                        2959 non-null   object \n",
      " 19  host_response_time                3295 non-null   object \n",
      " 20  host_response_rate                3295 non-null   object \n",
      " 21  host_acceptance_rate              3045 non-null   object \n",
      " 22  host_is_superhost                 3816 non-null   object \n",
      " 23  host_thumbnail_url                3816 non-null   object \n",
      " 24  host_picture_url                  3816 non-null   object \n",
      " 25  host_neighbourhood                3518 non-null   object \n",
      " 26  host_listings_count               3816 non-null   float64\n",
      " 27  host_total_listings_count         3816 non-null   float64\n",
      " 28  host_verifications                3818 non-null   object \n",
      " 29  host_has_profile_pic              3816 non-null   object \n",
      " 30  host_identity_verified            3816 non-null   object \n",
      " 31  street                            3818 non-null   object \n",
      " 32  neighbourhood                     3402 non-null   object \n",
      " 33  neighbourhood_cleansed            3818 non-null   object \n",
      " 34  neighbourhood_group_cleansed      3818 non-null   object \n",
      " 35  city                              3818 non-null   object \n",
      " 36  zipcode                           3811 non-null   object \n",
      " 37  smart_location                    3818 non-null   object \n",
      " 38  latitude                          3818 non-null   float64\n",
      " 39  longitude                         3818 non-null   float64\n",
      " 40  is_location_exact                 3818 non-null   object \n",
      " 41  property_type                     3817 non-null   object \n",
      " 42  room_type                         3818 non-null   object \n",
      " 43  accommodates                      3818 non-null   int64  \n",
      " 44  bathrooms                         3802 non-null   float64\n",
      " 45  bedrooms                          3812 non-null   float64\n",
      " 46  beds                              3817 non-null   float64\n",
      " 47  bed_type                          3818 non-null   object \n",
      " 48  amenities                         3818 non-null   object \n",
      " 49  square_feet                       97 non-null     float64\n",
      " 50  price                             3818 non-null   object \n",
      " 51  weekly_price                      2009 non-null   object \n",
      " 52  monthly_price                     1517 non-null   object \n",
      " 53  security_deposit                  1866 non-null   object \n",
      " 54  cleaning_fee                      2788 non-null   object \n",
      " 55  guests_included                   3818 non-null   int64  \n",
      " 56  extra_people                      3818 non-null   object \n",
      " 57  minimum_nights                    3818 non-null   int64  \n",
      " 58  maximum_nights                    3818 non-null   int64  \n",
      " 59  calendar_updated                  3818 non-null   object \n",
      " 60  availability_30                   3818 non-null   int64  \n",
      " 61  availability_60                   3818 non-null   int64  \n",
      " 62  availability_90                   3818 non-null   int64  \n",
      " 63  availability_365                  3818 non-null   int64  \n",
      " 64  number_of_reviews                 3818 non-null   int64  \n",
      " 65  first_review                      3191 non-null   object \n",
      " 66  last_review                       3191 non-null   object \n",
      " 67  review_scores_rating              3171 non-null   float64\n",
      " 68  review_scores_accuracy            3160 non-null   float64\n",
      " 69  review_scores_cleanliness         3165 non-null   float64\n",
      " 70  review_scores_checkin             3160 non-null   float64\n",
      " 71  review_scores_communication       3167 non-null   float64\n",
      " 72  review_scores_location            3163 non-null   float64\n",
      " 73  review_scores_value               3162 non-null   float64\n",
      " 74  instant_bookable                  3818 non-null   object \n",
      " 75  cancellation_policy               3818 non-null   object \n",
      " 76  require_guest_profile_picture     3818 non-null   object \n",
      " 77  require_guest_phone_verification  3818 non-null   object \n",
      " 78  calculated_host_listings_count    3818 non-null   int64  \n",
      " 79  reviews_per_month                 3191 non-null   float64\n",
      "dtypes: float64(16), int64(12), object(52)\n",
      "memory usage: 2.3+ MB\n"
     ]
    }
   ],
   "source": [
    "listings.drop(['scrape_id', 'last_scraped', 'experiences_offered','market','country_code',\n",
    "                         'country','has_availability','calendar_last_scraped','requires_license','jurisdiction_names','state'],\n",
    "                axis=1,\n",
    "                inplace = True)\n",
    "listings.info()"
   ]
  },
  {
   "cell_type": "markdown",
   "metadata": {},
   "source": [
    "#### Step 3: High NaN Percentage"
   ]
  },
  {
   "cell_type": "markdown",
   "metadata": {},
   "source": [
    "First, we will attempt to put a limit on how many null values a column needs to have in order to consider dropping it. I propose that any column with more than 25% null values should be dropped. Let's identify these columns."
   ]
  },
  {
   "cell_type": "code",
   "execution_count": 101,
   "metadata": {
    "execution": {
     "iopub.execute_input": "2023-01-02T06:57:49.022551Z",
     "iopub.status.busy": "2023-01-02T06:57:49.022193Z",
     "iopub.status.idle": "2023-01-02T06:57:49.061125Z",
     "shell.execute_reply": "2023-01-02T06:57:49.059836Z",
     "shell.execute_reply.started": "2023-01-02T06:57:49.022517Z"
    }
   },
   "outputs": [
    {
     "data": {
      "text/plain": [
       "['neighborhood_overview',\n",
       " 'notes',\n",
       " 'square_feet',\n",
       " 'weekly_price',\n",
       " 'monthly_price',\n",
       " 'security_deposit',\n",
       " 'cleaning_fee']"
      ]
     },
     "execution_count": 101,
     "metadata": {},
     "output_type": "execute_result"
    }
   ],
   "source": [
    "over_25 = [cat for cat in listings.columns.values if (listings[cat].isna().sum()/len(listings))>=0.25]\n",
    "over_25"
   ]
  },
  {
   "cell_type": "code",
   "execution_count": 102,
   "metadata": {
    "execution": {
     "iopub.execute_input": "2023-01-02T06:57:49.063086Z",
     "iopub.status.busy": "2023-01-02T06:57:49.062360Z",
     "iopub.status.idle": "2023-01-02T06:57:49.073336Z",
     "shell.execute_reply": "2023-01-02T06:57:49.071902Z",
     "shell.execute_reply.started": "2023-01-02T06:57:49.063052Z"
    }
   },
   "outputs": [],
   "source": [
    "listings.drop(over_25,\n",
    "                axis=1,\n",
    "                inplace = True)"
   ]
  },
  {
   "cell_type": "code",
   "execution_count": 103,
   "metadata": {
    "execution": {
     "iopub.execute_input": "2023-01-02T06:57:49.075740Z",
     "iopub.status.busy": "2023-01-02T06:57:49.075190Z",
     "iopub.status.idle": "2023-01-02T06:57:49.122675Z",
     "shell.execute_reply": "2023-01-02T06:57:49.121665Z",
     "shell.execute_reply.started": "2023-01-02T06:57:49.075701Z"
    }
   },
   "outputs": [
    {
     "data": {
      "text/plain": [
       "[]"
      ]
     },
     "execution_count": 103,
     "metadata": {},
     "output_type": "execute_result"
    }
   ],
   "source": [
    "[cat for cat in listings.columns.values if (listings[cat].isna().sum()/len(listings))>=0.25]"
   ]
  },
  {
   "cell_type": "code",
   "execution_count": 104,
   "metadata": {
    "execution": {
     "iopub.execute_input": "2023-01-02T06:57:49.125148Z",
     "iopub.status.busy": "2023-01-02T06:57:49.124008Z",
     "iopub.status.idle": "2023-01-02T06:57:49.153892Z",
     "shell.execute_reply": "2023-01-02T06:57:49.152516Z",
     "shell.execute_reply.started": "2023-01-02T06:57:49.125096Z"
    }
   },
   "outputs": [
    {
     "name": "stdout",
     "output_type": "stream",
     "text": [
      "<class 'pandas.core.frame.DataFrame'>\n",
      "RangeIndex: 3818 entries, 0 to 3817\n",
      "Data columns (total 73 columns):\n",
      " #   Column                            Non-Null Count  Dtype  \n",
      "---  ------                            --------------  -----  \n",
      " 0   id                                3818 non-null   int64  \n",
      " 1   listing_url                       3818 non-null   object \n",
      " 2   name                              3818 non-null   object \n",
      " 3   summary                           3641 non-null   object \n",
      " 4   space                             3249 non-null   object \n",
      " 5   description                       3818 non-null   object \n",
      " 6   transit                           2884 non-null   object \n",
      " 7   thumbnail_url                     3498 non-null   object \n",
      " 8   medium_url                        3498 non-null   object \n",
      " 9   picture_url                       3818 non-null   object \n",
      " 10  xl_picture_url                    3498 non-null   object \n",
      " 11  host_id                           3818 non-null   int64  \n",
      " 12  host_url                          3818 non-null   object \n",
      " 13  host_name                         3816 non-null   object \n",
      " 14  host_since                        3816 non-null   object \n",
      " 15  host_location                     3810 non-null   object \n",
      " 16  host_about                        2959 non-null   object \n",
      " 17  host_response_time                3295 non-null   object \n",
      " 18  host_response_rate                3295 non-null   object \n",
      " 19  host_acceptance_rate              3045 non-null   object \n",
      " 20  host_is_superhost                 3816 non-null   object \n",
      " 21  host_thumbnail_url                3816 non-null   object \n",
      " 22  host_picture_url                  3816 non-null   object \n",
      " 23  host_neighbourhood                3518 non-null   object \n",
      " 24  host_listings_count               3816 non-null   float64\n",
      " 25  host_total_listings_count         3816 non-null   float64\n",
      " 26  host_verifications                3818 non-null   object \n",
      " 27  host_has_profile_pic              3816 non-null   object \n",
      " 28  host_identity_verified            3816 non-null   object \n",
      " 29  street                            3818 non-null   object \n",
      " 30  neighbourhood                     3402 non-null   object \n",
      " 31  neighbourhood_cleansed            3818 non-null   object \n",
      " 32  neighbourhood_group_cleansed      3818 non-null   object \n",
      " 33  city                              3818 non-null   object \n",
      " 34  zipcode                           3811 non-null   object \n",
      " 35  smart_location                    3818 non-null   object \n",
      " 36  latitude                          3818 non-null   float64\n",
      " 37  longitude                         3818 non-null   float64\n",
      " 38  is_location_exact                 3818 non-null   object \n",
      " 39  property_type                     3817 non-null   object \n",
      " 40  room_type                         3818 non-null   object \n",
      " 41  accommodates                      3818 non-null   int64  \n",
      " 42  bathrooms                         3802 non-null   float64\n",
      " 43  bedrooms                          3812 non-null   float64\n",
      " 44  beds                              3817 non-null   float64\n",
      " 45  bed_type                          3818 non-null   object \n",
      " 46  amenities                         3818 non-null   object \n",
      " 47  price                             3818 non-null   object \n",
      " 48  guests_included                   3818 non-null   int64  \n",
      " 49  extra_people                      3818 non-null   object \n",
      " 50  minimum_nights                    3818 non-null   int64  \n",
      " 51  maximum_nights                    3818 non-null   int64  \n",
      " 52  calendar_updated                  3818 non-null   object \n",
      " 53  availability_30                   3818 non-null   int64  \n",
      " 54  availability_60                   3818 non-null   int64  \n",
      " 55  availability_90                   3818 non-null   int64  \n",
      " 56  availability_365                  3818 non-null   int64  \n",
      " 57  number_of_reviews                 3818 non-null   int64  \n",
      " 58  first_review                      3191 non-null   object \n",
      " 59  last_review                       3191 non-null   object \n",
      " 60  review_scores_rating              3171 non-null   float64\n",
      " 61  review_scores_accuracy            3160 non-null   float64\n",
      " 62  review_scores_cleanliness         3165 non-null   float64\n",
      " 63  review_scores_checkin             3160 non-null   float64\n",
      " 64  review_scores_communication       3167 non-null   float64\n",
      " 65  review_scores_location            3163 non-null   float64\n",
      " 66  review_scores_value               3162 non-null   float64\n",
      " 67  instant_bookable                  3818 non-null   object \n",
      " 68  cancellation_policy               3818 non-null   object \n",
      " 69  require_guest_profile_picture     3818 non-null   object \n",
      " 70  require_guest_phone_verification  3818 non-null   object \n",
      " 71  calculated_host_listings_count    3818 non-null   int64  \n",
      " 72  reviews_per_month                 3191 non-null   float64\n",
      "dtypes: float64(15), int64(12), object(46)\n",
      "memory usage: 2.1+ MB\n"
     ]
    }
   ],
   "source": [
    "listings.info()"
   ]
  },
  {
   "cell_type": "markdown",
   "metadata": {},
   "source": [
    "#### Step 4: Irrelevant columns\n",
    "Finally, we can remove columns that don't pertain to our analysis:\n",
    "I will remove any columns that contain url because they won't contribute anything to answering my questions"
   ]
  },
  {
   "cell_type": "code",
   "execution_count": 105,
   "metadata": {
    "execution": {
     "iopub.execute_input": "2023-01-02T06:57:49.156588Z",
     "iopub.status.busy": "2023-01-02T06:57:49.156036Z",
     "iopub.status.idle": "2023-01-02T06:57:49.191626Z",
     "shell.execute_reply": "2023-01-02T06:57:49.190141Z",
     "shell.execute_reply.started": "2023-01-02T06:57:49.156540Z"
    }
   },
   "outputs": [
    {
     "name": "stdout",
     "output_type": "stream",
     "text": [
      "<class 'pandas.core.frame.DataFrame'>\n",
      "RangeIndex: 3818 entries, 0 to 3817\n",
      "Data columns (total 65 columns):\n",
      " #   Column                            Non-Null Count  Dtype  \n",
      "---  ------                            --------------  -----  \n",
      " 0   id                                3818 non-null   int64  \n",
      " 1   name                              3818 non-null   object \n",
      " 2   summary                           3641 non-null   object \n",
      " 3   space                             3249 non-null   object \n",
      " 4   description                       3818 non-null   object \n",
      " 5   transit                           2884 non-null   object \n",
      " 6   host_id                           3818 non-null   int64  \n",
      " 7   host_name                         3816 non-null   object \n",
      " 8   host_since                        3816 non-null   object \n",
      " 9   host_location                     3810 non-null   object \n",
      " 10  host_about                        2959 non-null   object \n",
      " 11  host_response_time                3295 non-null   object \n",
      " 12  host_response_rate                3295 non-null   object \n",
      " 13  host_acceptance_rate              3045 non-null   object \n",
      " 14  host_is_superhost                 3816 non-null   object \n",
      " 15  host_neighbourhood                3518 non-null   object \n",
      " 16  host_listings_count               3816 non-null   float64\n",
      " 17  host_total_listings_count         3816 non-null   float64\n",
      " 18  host_verifications                3818 non-null   object \n",
      " 19  host_has_profile_pic              3816 non-null   object \n",
      " 20  host_identity_verified            3816 non-null   object \n",
      " 21  street                            3818 non-null   object \n",
      " 22  neighbourhood                     3402 non-null   object \n",
      " 23  neighbourhood_cleansed            3818 non-null   object \n",
      " 24  neighbourhood_group_cleansed      3818 non-null   object \n",
      " 25  city                              3818 non-null   object \n",
      " 26  zipcode                           3811 non-null   object \n",
      " 27  smart_location                    3818 non-null   object \n",
      " 28  latitude                          3818 non-null   float64\n",
      " 29  longitude                         3818 non-null   float64\n",
      " 30  is_location_exact                 3818 non-null   object \n",
      " 31  property_type                     3817 non-null   object \n",
      " 32  room_type                         3818 non-null   object \n",
      " 33  accommodates                      3818 non-null   int64  \n",
      " 34  bathrooms                         3802 non-null   float64\n",
      " 35  bedrooms                          3812 non-null   float64\n",
      " 36  beds                              3817 non-null   float64\n",
      " 37  bed_type                          3818 non-null   object \n",
      " 38  amenities                         3818 non-null   object \n",
      " 39  price                             3818 non-null   object \n",
      " 40  guests_included                   3818 non-null   int64  \n",
      " 41  extra_people                      3818 non-null   object \n",
      " 42  minimum_nights                    3818 non-null   int64  \n",
      " 43  maximum_nights                    3818 non-null   int64  \n",
      " 44  calendar_updated                  3818 non-null   object \n",
      " 45  availability_30                   3818 non-null   int64  \n",
      " 46  availability_60                   3818 non-null   int64  \n",
      " 47  availability_90                   3818 non-null   int64  \n",
      " 48  availability_365                  3818 non-null   int64  \n",
      " 49  number_of_reviews                 3818 non-null   int64  \n",
      " 50  first_review                      3191 non-null   object \n",
      " 51  last_review                       3191 non-null   object \n",
      " 52  review_scores_rating              3171 non-null   float64\n",
      " 53  review_scores_accuracy            3160 non-null   float64\n",
      " 54  review_scores_cleanliness         3165 non-null   float64\n",
      " 55  review_scores_checkin             3160 non-null   float64\n",
      " 56  review_scores_communication       3167 non-null   float64\n",
      " 57  review_scores_location            3163 non-null   float64\n",
      " 58  review_scores_value               3162 non-null   float64\n",
      " 59  instant_bookable                  3818 non-null   object \n",
      " 60  cancellation_policy               3818 non-null   object \n",
      " 61  require_guest_profile_picture     3818 non-null   object \n",
      " 62  require_guest_phone_verification  3818 non-null   object \n",
      " 63  calculated_host_listings_count    3818 non-null   int64  \n",
      " 64  reviews_per_month                 3191 non-null   float64\n",
      "dtypes: float64(15), int64(12), object(38)\n",
      "memory usage: 1.9+ MB\n"
     ]
    }
   ],
   "source": [
    "listings.drop(listings.filter(regex='url').columns, axis=1, inplace = True)\n",
    "listings.info()"
   ]
  },
  {
   "cell_type": "markdown",
   "metadata": {},
   "source": [
    "The data is now completely cleaned. We explore our questions."
   ]
  },
  {
   "cell_type": "markdown",
   "metadata": {},
   "source": [
    "#### Question 1: Which neighborhood is the most expensive and which is the cheapest?\n",
    "The first step to take would be grouping price and neighborhood. I decided to use the neighborhood_cleansed column because it specifies the neighborhoods in a clear yet specific way. Before grouping these two categories, the price column needs to be converted from object to float and the $ sign must be removed."
   ]
  },
  {
   "cell_type": "code",
   "execution_count": 106,
   "metadata": {
    "execution": {
     "iopub.execute_input": "2023-01-02T06:57:49.193368Z",
     "iopub.status.busy": "2023-01-02T06:57:49.193027Z",
     "iopub.status.idle": "2023-01-02T06:57:49.210888Z",
     "shell.execute_reply": "2023-01-02T06:57:49.209648Z",
     "shell.execute_reply.started": "2023-01-02T06:57:49.193338Z"
    }
   },
   "outputs": [
    {
     "data": {
      "text/plain": [
       "0     85.00\n",
       "1    150.00\n",
       "2    975.00\n",
       "3    100.00\n",
       "4    450.00\n",
       "Name: price, dtype: object"
      ]
     },
     "execution_count": 106,
     "metadata": {},
     "output_type": "execute_result"
    }
   ],
   "source": [
    "#Remove $ from price column\n",
    "listings['price'].replace('[\\$,]', '', regex=True, inplace = True)\n",
    "listings.price.head()"
   ]
  },
  {
   "cell_type": "code",
   "execution_count": 107,
   "metadata": {
    "execution": {
     "iopub.execute_input": "2023-01-02T06:57:49.212941Z",
     "iopub.status.busy": "2023-01-02T06:57:49.212564Z",
     "iopub.status.idle": "2023-01-02T06:57:49.227651Z",
     "shell.execute_reply": "2023-01-02T06:57:49.226345Z",
     "shell.execute_reply.started": "2023-01-02T06:57:49.212910Z"
    }
   },
   "outputs": [
    {
     "data": {
      "text/plain": [
       "dtype('float64')"
      ]
     },
     "execution_count": 107,
     "metadata": {},
     "output_type": "execute_result"
    }
   ],
   "source": [
    "#Convert price from object (string) to float\n",
    "listings.price = listings.price.astype(float)\n",
    "listings.price.dtypes"
   ]
  },
  {
   "cell_type": "markdown",
   "metadata": {},
   "source": [
    "The average price per neighborhood is how the neighborhoods will be grouped"
   ]
  },
  {
   "cell_type": "code",
   "execution_count": 108,
   "metadata": {
    "execution": {
     "iopub.execute_input": "2023-01-02T06:57:49.230478Z",
     "iopub.status.busy": "2023-01-02T06:57:49.229287Z",
     "iopub.status.idle": "2023-01-02T06:57:49.245282Z",
     "shell.execute_reply": "2023-01-02T06:57:49.243914Z",
     "shell.execute_reply.started": "2023-01-02T06:57:49.230410Z"
    }
   },
   "outputs": [
    {
     "name": "stdout",
     "output_type": "stream",
     "text": [
      "                             price\n",
      "neighbourhood_cleansed            \n",
      "Southeast Magnolia      231.705882\n",
      "Portage Bay             227.857143\n",
      "Westlake                194.470588\n",
      "West Queen Anne         187.769231\n",
      "Montlake                182.789474\n",
      "...                            ...\n",
      "North Delridge           76.375000\n",
      "Georgetown               76.125000\n",
      "South Delridge           74.666667\n",
      "Olympic Hills            71.687500\n",
      "Rainier Beach            68.555556\n",
      "\n",
      "[87 rows x 1 columns]\n"
     ]
    }
   ],
   "source": [
    "price_neighborhood = listings.groupby(['neighbourhood_cleansed'])[['price']].mean().sort_values(by='price',ascending=False)\n",
    "print(price_neighborhood)"
   ]
  },
  {
   "cell_type": "code",
   "execution_count": 109,
   "metadata": {
    "execution": {
     "iopub.execute_input": "2023-01-02T06:57:49.247922Z",
     "iopub.status.busy": "2023-01-02T06:57:49.246870Z",
     "iopub.status.idle": "2023-01-02T06:57:49.491893Z",
     "shell.execute_reply": "2023-01-02T06:57:49.490700Z",
     "shell.execute_reply.started": "2023-01-02T06:57:49.247868Z"
    }
   },
   "outputs": [
    {
     "data": {
      "image/png": "[encoded data removed]",
      "text/plain": [
       "<Figure size 432x288 with 1 Axes>"
      ]
     },
     "metadata": {
      "needs_background": "light"
     },
     "output_type": "display_data"
    }
   ],
   "source": [
    "price_neighborhood.plot()\n",
    "plt.xticks(rotation=90);"
   ]
  },
  {
   "cell_type": "markdown",
   "metadata": {},
   "source": [
    "The most expensive neighborhoods are Southeast Magnolia, Portage Bay and Westlake. The three cheapest neighborhoods are Rainier Beach, Olympic Hills, and South Delridge. We can look at how they defer with large neighborhoods."
   ]
  },
  {
   "cell_type": "code",
   "execution_count": 110,
   "metadata": {
    "execution": {
     "iopub.execute_input": "2023-01-02T06:57:49.494786Z",
     "iopub.status.busy": "2023-01-02T06:57:49.493426Z",
     "iopub.status.idle": "2023-01-02T06:57:49.507113Z",
     "shell.execute_reply": "2023-01-02T06:57:49.505534Z",
     "shell.execute_reply.started": "2023-01-02T06:57:49.494742Z"
    }
   },
   "outputs": [
    {
     "name": "stdout",
     "output_type": "stream",
     "text": [
      "                                   price\n",
      "neighbourhood_group_cleansed            \n",
      "Magnolia                      177.672131\n",
      "Queen Anne                    157.223729\n",
      "Downtown                      154.405660\n",
      "West Seattle                  141.359606\n",
      "Cascade                       140.101124\n",
      "Capitol Hill                  130.592593\n",
      "Central Area                  128.338753\n",
      "Ballard                       124.682609\n",
      "Other neighborhoods           119.968514\n",
      "Interbay                      109.727273\n",
      "Seward Park                   108.477273\n",
      "Beacon Hill                    94.669492\n",
      "University District            93.639344\n",
      "Lake City                      92.671642\n",
      "Rainier Valley                 91.899371\n",
      "Northgate                      88.550000\n",
      "Delridge                       83.278481\n"
     ]
    }
   ],
   "source": [
    "price_group = listings.groupby(['neighbourhood_group_cleansed'])[['price']].mean().sort_values(by='price',ascending=False)\n",
    "print(price_group)"
   ]
  },
  {
   "cell_type": "code",
   "execution_count": 111,
   "metadata": {
    "execution": {
     "iopub.execute_input": "2023-01-02T06:57:49.513860Z",
     "iopub.status.busy": "2023-01-02T06:57:49.513441Z",
     "iopub.status.idle": "2023-01-02T06:57:49.771338Z",
     "shell.execute_reply": "2023-01-02T06:57:49.769940Z",
     "shell.execute_reply.started": "2023-01-02T06:57:49.513829Z"
    }
   },
   "outputs": [
    {
     "data": {
      "image/png": "[encoded data removed]",
      "text/plain": [
       "<Figure size 432x288 with 1 Axes>"
      ]
     },
     "metadata": {
      "needs_background": "light"
     },
     "output_type": "display_data"
    }
   ],
   "source": [
    "price_group.plot()\n",
    "plt.xticks(rotation=90);"
   ]
  },
  {
   "cell_type": "markdown",
   "metadata": {},
   "source": [
    "When the neighborhood groups are analyzed, we see some of the top and bottom neighborhoods switched around; the top 3, Magnolia, Queen Anne, and Downtown, introduce the Queen Anne neighborhood group as a more pricy area to stay. The bottom 3, Delridge, Northgate, and Rainier Valley, brings in Northgate as a new contender, while Rainier Valley moves up even though it contains the average cheapest single neighborhood of Rainier Beach. The plot looks a lot more linear, as averaging many neighborhoods lessens the difference seen between them."
   ]
  },
  {
   "cell_type": "markdown",
   "metadata": {},
   "source": [
    "#### Conclusion\n",
    "Most expensive neighborhoods (individual):\n",
    "1. Southeast Magnolia - 231.70\n",
    "2. Portage - 227.86\n",
    "3. Westlake - 194.47\n",
    "\n",
    "Cheapest neighborhoods (individual):\n",
    "1. Rainier Beach - 68.56\n",
    "2. Olympic Hills - 71.69\n",
    "3. South Delridge - 74.67"
   ]
  },
  {
   "cell_type": "markdown",
   "metadata": {},
   "source": [
    "#### Question 2: Are there more comments for highly or poorly rated AirBnBs?\n",
    "The idea behind leaving a review is to let the host know if there is something notable about their AirBnB, or to warn future clients. This question seeks if leaving a comment is associated with the rating left. \n",
    "> The first step would be to create a separate dataframe by using the id from a rating in the listings dataframe and finding the number of comments corresponding to that listing in the reviews dataframe. We have to first remove all of the rows with a NaN rating in listings"
   ]
  },
  {
   "cell_type": "code",
   "execution_count": 112,
   "metadata": {
    "execution": {
     "iopub.execute_input": "2023-01-02T06:57:49.773841Z",
     "iopub.status.busy": "2023-01-02T06:57:49.772995Z",
     "iopub.status.idle": "2023-01-02T06:57:49.788538Z",
     "shell.execute_reply": "2023-01-02T06:57:49.787237Z",
     "shell.execute_reply.started": "2023-01-02T06:57:49.773804Z"
    }
   },
   "outputs": [
    {
     "data": {
      "text/plain": [
       "0"
      ]
     },
     "execution_count": 112,
     "metadata": {},
     "output_type": "execute_result"
    }
   ],
   "source": [
    "#First drop all of the rows with a NaN value for overall rating\n",
    "listings.dropna(subset=['review_scores_rating'],inplace = True)\n",
    "listings.review_scores_rating.isna().sum()"
   ]
  },
  {
   "cell_type": "code",
   "execution_count": 113,
   "metadata": {
    "execution": {
     "iopub.execute_input": "2023-01-02T06:57:49.790371Z",
     "iopub.status.busy": "2023-01-02T06:57:49.790023Z",
     "iopub.status.idle": "2023-01-02T06:57:49.834846Z",
     "shell.execute_reply": "2023-01-02T06:57:49.833480Z",
     "shell.execute_reply.started": "2023-01-02T06:57:49.790341Z"
    }
   },
   "outputs": [
    {
     "data": {
      "text/plain": [
       "0"
      ]
     },
     "execution_count": 113,
     "metadata": {},
     "output_type": "execute_result"
    }
   ],
   "source": [
    "#Drop all rows with NaN comments because there are only 18\n",
    "reviews.dropna(subset=['comments'], inplace = True)\n",
    "reviews.comments.isna().sum()"
   ]
  },
  {
   "cell_type": "markdown",
   "metadata": {},
   "source": [
    "Now we can define a function to get the number of comments from an id corresponding to a certain rating"
   ]
  },
  {
   "cell_type": "code",
   "execution_count": 114,
   "metadata": {
    "execution": {
     "iopub.execute_input": "2023-01-02T06:57:49.836810Z",
     "iopub.status.busy": "2023-01-02T06:57:49.836324Z",
     "iopub.status.idle": "2023-01-02T06:57:49.848346Z",
     "shell.execute_reply": "2023-01-02T06:57:49.847299Z",
     "shell.execute_reply.started": "2023-01-02T06:57:49.836774Z"
    }
   },
   "outputs": [
    {
     "data": {
      "text/plain": [
       "(207, 16)"
      ]
     },
     "execution_count": 114,
     "metadata": {},
     "output_type": "execute_result"
    }
   ],
   "source": [
    "#This function counts the number of comments from the reviews datafram associated with a certain id from the listings dataframe. \n",
    "#This can be used to create a separate dataframe for every rating with its number of comments\n",
    "def get_comment(id_num):\n",
    "    '''\n",
    "    Function uses listing id and returns the associated from the listings data set\n",
    "    INPUT:\n",
    "    id_num:  listing id for an AirBnB\n",
    "    OUTPUT:\n",
    "    comment_num: number of comments associated with that listing\n",
    "    \n",
    "    '''\n",
    "        \n",
    "    comment_num = (reviews.loc[reviews['listing_id'] == id_num, 'comments']).count()\n",
    "    return comment_num\n",
    "\n",
    "#test function\n",
    "get_comment(241032),get_comment(7202016)"
   ]
  },
  {
   "cell_type": "code",
   "execution_count": 115,
   "metadata": {
    "execution": {
     "iopub.execute_input": "2023-01-02T06:57:49.850645Z",
     "iopub.status.busy": "2023-01-02T06:57:49.849742Z",
     "iopub.status.idle": "2023-01-02T06:57:49.871227Z",
     "shell.execute_reply": "2023-01-02T06:57:49.869495Z",
     "shell.execute_reply.started": "2023-01-02T06:57:49.850606Z"
    }
   },
   "outputs": [
    {
     "data": {
      "text/html": [
       "<div>\n",
       "<style scoped>\n",
       "    .dataframe tbody tr th:only-of-type {\n",
       "        vertical-align: middle;\n",
       "    }\n",
       "\n",
       "    .dataframe tbody tr th {\n",
       "        vertical-align: top;\n",
       "    }\n",
       "\n",
       "    .dataframe thead th {\n",
       "        text-align: right;\n",
       "    }\n",
       "</style>\n",
       "<table border=\"1\" class=\"dataframe\">\n",
       "  <thead>\n",
       "    <tr style=\"text-align: right;\">\n",
       "      <th></th>\n",
       "      <th>id</th>\n",
       "      <th>rating</th>\n",
       "    </tr>\n",
       "  </thead>\n",
       "  <tbody>\n",
       "    <tr>\n",
       "      <th>0</th>\n",
       "      <td>241032</td>\n",
       "      <td>95.0</td>\n",
       "    </tr>\n",
       "    <tr>\n",
       "      <th>1</th>\n",
       "      <td>953595</td>\n",
       "      <td>96.0</td>\n",
       "    </tr>\n",
       "    <tr>\n",
       "      <th>2</th>\n",
       "      <td>3308979</td>\n",
       "      <td>97.0</td>\n",
       "    </tr>\n",
       "    <tr>\n",
       "      <th>4</th>\n",
       "      <td>278830</td>\n",
       "      <td>92.0</td>\n",
       "    </tr>\n",
       "    <tr>\n",
       "      <th>5</th>\n",
       "      <td>5956968</td>\n",
       "      <td>95.0</td>\n",
       "    </tr>\n",
       "  </tbody>\n",
       "</table>\n",
       "</div>"
      ],
      "text/plain": [
       "        id  rating\n",
       "0   241032    95.0\n",
       "1   953595    96.0\n",
       "2  3308979    97.0\n",
       "4   278830    92.0\n",
       "5  5956968    95.0"
      ]
     },
     "execution_count": 115,
     "metadata": {},
     "output_type": "execute_result"
    }
   ],
   "source": [
    "#Create new dataframe with id and ratings from listings\n",
    "comment_rating = listings[['id','review_scores_rating']]\n",
    "\n",
    "#Rename bulky column title to 'rating'\n",
    "comment_rating.rename(columns={\"review_scores_rating\": \"rating\"}, inplace = True)\n",
    "comment_rating.head()"
   ]
  },
  {
   "cell_type": "code",
   "execution_count": 116,
   "metadata": {
    "execution": {
     "iopub.execute_input": "2023-01-02T06:57:49.873950Z",
     "iopub.status.busy": "2023-01-02T06:57:49.872837Z",
     "iopub.status.idle": "2023-01-02T06:57:51.315807Z",
     "shell.execute_reply": "2023-01-02T06:57:51.314546Z",
     "shell.execute_reply.started": "2023-01-02T06:57:49.873909Z"
    }
   },
   "outputs": [
    {
     "data": {
      "text/html": [
       "<div>\n",
       "<style scoped>\n",
       "    .dataframe tbody tr th:only-of-type {\n",
       "        vertical-align: middle;\n",
       "    }\n",
       "\n",
       "    .dataframe tbody tr th {\n",
       "        vertical-align: top;\n",
       "    }\n",
       "\n",
       "    .dataframe thead th {\n",
       "        text-align: right;\n",
       "    }\n",
       "</style>\n",
       "<table border=\"1\" class=\"dataframe\">\n",
       "  <thead>\n",
       "    <tr style=\"text-align: right;\">\n",
       "      <th></th>\n",
       "      <th>id</th>\n",
       "      <th>rating</th>\n",
       "      <th>num_comments</th>\n",
       "    </tr>\n",
       "  </thead>\n",
       "  <tbody>\n",
       "    <tr>\n",
       "      <th>0</th>\n",
       "      <td>241032</td>\n",
       "      <td>95.0</td>\n",
       "      <td>207</td>\n",
       "    </tr>\n",
       "    <tr>\n",
       "      <th>1</th>\n",
       "      <td>953595</td>\n",
       "      <td>96.0</td>\n",
       "      <td>43</td>\n",
       "    </tr>\n",
       "    <tr>\n",
       "      <th>2</th>\n",
       "      <td>3308979</td>\n",
       "      <td>97.0</td>\n",
       "      <td>20</td>\n",
       "    </tr>\n",
       "    <tr>\n",
       "      <th>4</th>\n",
       "      <td>278830</td>\n",
       "      <td>92.0</td>\n",
       "      <td>38</td>\n",
       "    </tr>\n",
       "    <tr>\n",
       "      <th>5</th>\n",
       "      <td>5956968</td>\n",
       "      <td>95.0</td>\n",
       "      <td>17</td>\n",
       "    </tr>\n",
       "    <tr>\n",
       "      <th>6</th>\n",
       "      <td>1909058</td>\n",
       "      <td>99.0</td>\n",
       "      <td>58</td>\n",
       "    </tr>\n",
       "    <tr>\n",
       "      <th>7</th>\n",
       "      <td>856550</td>\n",
       "      <td>97.0</td>\n",
       "      <td>173</td>\n",
       "    </tr>\n",
       "    <tr>\n",
       "      <th>8</th>\n",
       "      <td>4948745</td>\n",
       "      <td>97.0</td>\n",
       "      <td>8</td>\n",
       "    </tr>\n",
       "    <tr>\n",
       "      <th>9</th>\n",
       "      <td>2493658</td>\n",
       "      <td>97.0</td>\n",
       "      <td>32</td>\n",
       "    </tr>\n",
       "    <tr>\n",
       "      <th>10</th>\n",
       "      <td>175576</td>\n",
       "      <td>97.0</td>\n",
       "      <td>181</td>\n",
       "    </tr>\n",
       "  </tbody>\n",
       "</table>\n",
       "</div>"
      ],
      "text/plain": [
       "         id  rating  num_comments\n",
       "0    241032    95.0           207\n",
       "1    953595    96.0            43\n",
       "2   3308979    97.0            20\n",
       "4    278830    92.0            38\n",
       "5   5956968    95.0            17\n",
       "6   1909058    99.0            58\n",
       "7    856550    97.0           173\n",
       "8   4948745    97.0             8\n",
       "9   2493658    97.0            32\n",
       "10   175576    97.0           181"
      ]
     },
     "execution_count": 116,
     "metadata": {},
     "output_type": "execute_result"
    }
   ],
   "source": [
    "#Apply the get_comment function to each id in comment_rating to create a new column with total comment number for each id\n",
    "comment_rating['num_comments'] = comment_rating['id'].apply(get_comment)\n",
    "comment_rating.head(10)"
   ]
  },
  {
   "cell_type": "code",
   "execution_count": 117,
   "metadata": {
    "execution": {
     "iopub.execute_input": "2023-01-02T06:57:51.318488Z",
     "iopub.status.busy": "2023-01-02T06:57:51.317289Z",
     "iopub.status.idle": "2023-01-02T06:57:51.337546Z",
     "shell.execute_reply": "2023-01-02T06:57:51.336346Z",
     "shell.execute_reply.started": "2023-01-02T06:57:51.318417Z"
    }
   },
   "outputs": [
    {
     "data": {
      "text/html": [
       "<div>\n",
       "<style scoped>\n",
       "    .dataframe tbody tr th:only-of-type {\n",
       "        vertical-align: middle;\n",
       "    }\n",
       "\n",
       "    .dataframe tbody tr th {\n",
       "        vertical-align: top;\n",
       "    }\n",
       "\n",
       "    .dataframe thead th {\n",
       "        text-align: right;\n",
       "    }\n",
       "</style>\n",
       "<table border=\"1\" class=\"dataframe\">\n",
       "  <thead>\n",
       "    <tr style=\"text-align: right;\">\n",
       "      <th></th>\n",
       "      <th>id</th>\n",
       "      <th>rating</th>\n",
       "      <th>num_comments</th>\n",
       "    </tr>\n",
       "  </thead>\n",
       "  <tbody>\n",
       "    <tr>\n",
       "      <th>1222</th>\n",
       "      <td>9183838</td>\n",
       "      <td>20.0</td>\n",
       "      <td>1</td>\n",
       "    </tr>\n",
       "    <tr>\n",
       "      <th>3148</th>\n",
       "      <td>5639238</td>\n",
       "      <td>40.0</td>\n",
       "      <td>2</td>\n",
       "    </tr>\n",
       "    <tr>\n",
       "      <th>2320</th>\n",
       "      <td>8474294</td>\n",
       "      <td>40.0</td>\n",
       "      <td>1</td>\n",
       "    </tr>\n",
       "    <tr>\n",
       "      <th>1162</th>\n",
       "      <td>9151865</td>\n",
       "      <td>40.0</td>\n",
       "      <td>1</td>\n",
       "    </tr>\n",
       "    <tr>\n",
       "      <th>1666</th>\n",
       "      <td>9151374</td>\n",
       "      <td>40.0</td>\n",
       "      <td>3</td>\n",
       "    </tr>\n",
       "    <tr>\n",
       "      <th>...</th>\n",
       "      <td>...</td>\n",
       "      <td>...</td>\n",
       "      <td>...</td>\n",
       "    </tr>\n",
       "    <tr>\n",
       "      <th>2014</th>\n",
       "      <td>7674720</td>\n",
       "      <td>100.0</td>\n",
       "      <td>2</td>\n",
       "    </tr>\n",
       "    <tr>\n",
       "      <th>2000</th>\n",
       "      <td>9908591</td>\n",
       "      <td>100.0</td>\n",
       "      <td>2</td>\n",
       "    </tr>\n",
       "    <tr>\n",
       "      <th>1999</th>\n",
       "      <td>6926511</td>\n",
       "      <td>100.0</td>\n",
       "      <td>7</td>\n",
       "    </tr>\n",
       "    <tr>\n",
       "      <th>2029</th>\n",
       "      <td>4567243</td>\n",
       "      <td>100.0</td>\n",
       "      <td>2</td>\n",
       "    </tr>\n",
       "    <tr>\n",
       "      <th>3814</th>\n",
       "      <td>8902327</td>\n",
       "      <td>100.0</td>\n",
       "      <td>2</td>\n",
       "    </tr>\n",
       "  </tbody>\n",
       "</table>\n",
       "<p>3171 rows × 3 columns</p>\n",
       "</div>"
      ],
      "text/plain": [
       "           id  rating  num_comments\n",
       "1222  9183838    20.0             1\n",
       "3148  5639238    40.0             2\n",
       "2320  8474294    40.0             1\n",
       "1162  9151865    40.0             1\n",
       "1666  9151374    40.0             3\n",
       "...       ...     ...           ...\n",
       "2014  7674720   100.0             2\n",
       "2000  9908591   100.0             2\n",
       "1999  6926511   100.0             7\n",
       "2029  4567243   100.0             2\n",
       "3814  8902327   100.0             2\n",
       "\n",
       "[3171 rows x 3 columns]"
      ]
     },
     "execution_count": 117,
     "metadata": {},
     "output_type": "execute_result"
    }
   ],
   "source": [
    "#Get a general view of ratings sorted from lowest to highest\n",
    "comment_rating.sort_values(by=['rating'])"
   ]
  },
  {
   "cell_type": "code",
   "execution_count": 118,
   "metadata": {
    "execution": {
     "iopub.execute_input": "2023-01-02T06:57:51.339692Z",
     "iopub.status.busy": "2023-01-02T06:57:51.339205Z",
     "iopub.status.idle": "2023-01-02T06:57:51.613411Z",
     "shell.execute_reply": "2023-01-02T06:57:51.611900Z",
     "shell.execute_reply.started": "2023-01-02T06:57:51.339643Z"
    }
   },
   "outputs": [
    {
     "data": {
      "image/png": "[encoded data removed]",
      "text/plain": [
       "<Figure size 432x288 with 1 Axes>"
      ]
     },
     "metadata": {
      "needs_background": "light"
     },
     "output_type": "display_data"
    }
   ],
   "source": [
    "#Plot histogram of number of comments against ratings as bins\n",
    "from matplotlib.pyplot import hist\n",
    "hist(comment_rating.rating, weights=comment_rating.num_comments)\n",
    "plt.title(\"Distribution of Comments by Rating\")\n",
    "plt.xlabel(\"Rating\")\n",
    "plt.ylabel(\"Number of Comments\");"
   ]
  },
  {
   "cell_type": "markdown",
   "metadata": {},
   "source": [
    "There is a left skew; the higher rank numbers have more reviews. This leads to an assumption that better ranking AirBnBs will have more comments, but since this dataset is relatively small (n~3000), it would suitable to gather more data."
   ]
  },
  {
   "cell_type": "markdown",
   "metadata": {},
   "source": [
    "#### Question 3: What factors contribute to the overall rating? Can we predict rating using a model?\n",
    "We create new dataframe with dummies (amenities, etc.)"
   ]
  },
  {
   "cell_type": "code",
   "execution_count": 119,
   "metadata": {
    "execution": {
     "iopub.execute_input": "2023-01-02T06:57:51.617876Z",
     "iopub.status.busy": "2023-01-02T06:57:51.617506Z",
     "iopub.status.idle": "2023-01-02T06:57:51.626485Z",
     "shell.execute_reply": "2023-01-02T06:57:51.625026Z",
     "shell.execute_reply.started": "2023-01-02T06:57:51.617844Z"
    }
   },
   "outputs": [],
   "source": [
    "# Split the data into features and target label\n",
    "target = listings['review_scores_rating']\n",
    "features = listings.drop('review_scores_rating', axis = 1)"
   ]
  },
  {
   "cell_type": "code",
   "execution_count": 120,
   "metadata": {
    "execution": {
     "iopub.execute_input": "2023-01-02T06:57:51.628789Z",
     "iopub.status.busy": "2023-01-02T06:57:51.628223Z",
     "iopub.status.idle": "2023-01-02T06:57:51.641267Z",
     "shell.execute_reply": "2023-01-02T06:57:51.639877Z",
     "shell.execute_reply.started": "2023-01-02T06:57:51.628706Z"
    }
   },
   "outputs": [],
   "source": [
    "features.drop(columns='id',inplace=True)"
   ]
  },
  {
   "cell_type": "markdown",
   "metadata": {},
   "source": [
    "Now columns that don't seem to affect the price can be dropped. Some of the host data can be dropped because the data seems messy and processing it will likely not lead to any meaningful contribution to price."
   ]
  },
  {
   "cell_type": "code",
   "execution_count": 121,
   "metadata": {
    "execution": {
     "iopub.execute_input": "2023-01-02T06:57:51.642746Z",
     "iopub.status.busy": "2023-01-02T06:57:51.642394Z",
     "iopub.status.idle": "2023-01-02T06:57:51.683051Z",
     "shell.execute_reply": "2023-01-02T06:57:51.681405Z",
     "shell.execute_reply.started": "2023-01-02T06:57:51.642717Z"
    }
   },
   "outputs": [
    {
     "data": {
      "text/html": [
       "<div>\n",
       "<style scoped>\n",
       "    .dataframe tbody tr th:only-of-type {\n",
       "        vertical-align: middle;\n",
       "    }\n",
       "\n",
       "    .dataframe tbody tr th {\n",
       "        vertical-align: top;\n",
       "    }\n",
       "\n",
       "    .dataframe thead th {\n",
       "        text-align: right;\n",
       "    }\n",
       "</style>\n",
       "<table border=\"1\" class=\"dataframe\">\n",
       "  <thead>\n",
       "    <tr style=\"text-align: right;\">\n",
       "      <th></th>\n",
       "      <th>name</th>\n",
       "      <th>summary</th>\n",
       "      <th>space</th>\n",
       "      <th>description</th>\n",
       "      <th>transit</th>\n",
       "      <th>host_response_time</th>\n",
       "      <th>host_response_rate</th>\n",
       "      <th>host_acceptance_rate</th>\n",
       "      <th>host_is_superhost</th>\n",
       "      <th>host_neighbourhood</th>\n",
       "      <th>...</th>\n",
       "      <th>review_scores_checkin</th>\n",
       "      <th>review_scores_communication</th>\n",
       "      <th>review_scores_location</th>\n",
       "      <th>review_scores_value</th>\n",
       "      <th>instant_bookable</th>\n",
       "      <th>cancellation_policy</th>\n",
       "      <th>require_guest_profile_picture</th>\n",
       "      <th>require_guest_phone_verification</th>\n",
       "      <th>calculated_host_listings_count</th>\n",
       "      <th>reviews_per_month</th>\n",
       "    </tr>\n",
       "  </thead>\n",
       "  <tbody>\n",
       "    <tr>\n",
       "      <th>0</th>\n",
       "      <td>Stylish Queen Anne Apartment</td>\n",
       "      <td>NaN</td>\n",
       "      <td>Make your self at home in this charming one-be...</td>\n",
       "      <td>Make your self at home in this charming one-be...</td>\n",
       "      <td>NaN</td>\n",
       "      <td>within a few hours</td>\n",
       "      <td>96%</td>\n",
       "      <td>100%</td>\n",
       "      <td>f</td>\n",
       "      <td>Queen Anne</td>\n",
       "      <td>...</td>\n",
       "      <td>10.0</td>\n",
       "      <td>10.0</td>\n",
       "      <td>9.0</td>\n",
       "      <td>10.0</td>\n",
       "      <td>f</td>\n",
       "      <td>moderate</td>\n",
       "      <td>f</td>\n",
       "      <td>f</td>\n",
       "      <td>2</td>\n",
       "      <td>4.07</td>\n",
       "    </tr>\n",
       "    <tr>\n",
       "      <th>1</th>\n",
       "      <td>Bright &amp; Airy Queen Anne Apartment</td>\n",
       "      <td>Chemically sensitive? We've removed the irrita...</td>\n",
       "      <td>Beautiful, hypoallergenic apartment in an extr...</td>\n",
       "      <td>Chemically sensitive? We've removed the irrita...</td>\n",
       "      <td>Convenient bus stops are just down the block, ...</td>\n",
       "      <td>within an hour</td>\n",
       "      <td>98%</td>\n",
       "      <td>100%</td>\n",
       "      <td>t</td>\n",
       "      <td>Queen Anne</td>\n",
       "      <td>...</td>\n",
       "      <td>10.0</td>\n",
       "      <td>10.0</td>\n",
       "      <td>10.0</td>\n",
       "      <td>10.0</td>\n",
       "      <td>f</td>\n",
       "      <td>strict</td>\n",
       "      <td>t</td>\n",
       "      <td>t</td>\n",
       "      <td>6</td>\n",
       "      <td>1.48</td>\n",
       "    </tr>\n",
       "    <tr>\n",
       "      <th>2</th>\n",
       "      <td>New Modern House-Amazing water view</td>\n",
       "      <td>New modern house built in 2013.  Spectacular s...</td>\n",
       "      <td>Our house is modern, light and fresh with a wa...</td>\n",
       "      <td>New modern house built in 2013.  Spectacular s...</td>\n",
       "      <td>A bus stop is just 2 blocks away.   Easy bus a...</td>\n",
       "      <td>within a few hours</td>\n",
       "      <td>67%</td>\n",
       "      <td>100%</td>\n",
       "      <td>f</td>\n",
       "      <td>Queen Anne</td>\n",
       "      <td>...</td>\n",
       "      <td>10.0</td>\n",
       "      <td>10.0</td>\n",
       "      <td>10.0</td>\n",
       "      <td>10.0</td>\n",
       "      <td>f</td>\n",
       "      <td>strict</td>\n",
       "      <td>f</td>\n",
       "      <td>f</td>\n",
       "      <td>2</td>\n",
       "      <td>1.15</td>\n",
       "    </tr>\n",
       "    <tr>\n",
       "      <th>4</th>\n",
       "      <td>Charming craftsman 3 bdm house</td>\n",
       "      <td>Cozy family craftman house in beautiful neighb...</td>\n",
       "      <td>Cozy family craftman house in beautiful neighb...</td>\n",
       "      <td>Cozy family craftman house in beautiful neighb...</td>\n",
       "      <td>The nearest public transit bus (D Line) is 2 b...</td>\n",
       "      <td>within an hour</td>\n",
       "      <td>100%</td>\n",
       "      <td>NaN</td>\n",
       "      <td>f</td>\n",
       "      <td>Queen Anne</td>\n",
       "      <td>...</td>\n",
       "      <td>10.0</td>\n",
       "      <td>10.0</td>\n",
       "      <td>9.0</td>\n",
       "      <td>9.0</td>\n",
       "      <td>f</td>\n",
       "      <td>strict</td>\n",
       "      <td>f</td>\n",
       "      <td>f</td>\n",
       "      <td>1</td>\n",
       "      <td>0.89</td>\n",
       "    </tr>\n",
       "    <tr>\n",
       "      <th>5</th>\n",
       "      <td>Private unit in a 1920s mansion</td>\n",
       "      <td>We're renting out a small private unit of one ...</td>\n",
       "      <td>If you include a bit of your background in you...</td>\n",
       "      <td>We're renting out a small private unit of one ...</td>\n",
       "      <td>The #1 and #2 bus picks up 2-3 blocks away (di...</td>\n",
       "      <td>NaN</td>\n",
       "      <td>NaN</td>\n",
       "      <td>NaN</td>\n",
       "      <td>f</td>\n",
       "      <td>Queen Anne</td>\n",
       "      <td>...</td>\n",
       "      <td>10.0</td>\n",
       "      <td>10.0</td>\n",
       "      <td>10.0</td>\n",
       "      <td>10.0</td>\n",
       "      <td>f</td>\n",
       "      <td>strict</td>\n",
       "      <td>f</td>\n",
       "      <td>f</td>\n",
       "      <td>1</td>\n",
       "      <td>2.45</td>\n",
       "    </tr>\n",
       "  </tbody>\n",
       "</table>\n",
       "<p>5 rows × 57 columns</p>\n",
       "</div>"
      ],
      "text/plain": [
       "                                  name  \\\n",
       "0         Stylish Queen Anne Apartment   \n",
       "1   Bright & Airy Queen Anne Apartment   \n",
       "2  New Modern House-Amazing water view   \n",
       "4       Charming craftsman 3 bdm house   \n",
       "5      Private unit in a 1920s mansion   \n",
       "\n",
       "                                             summary  \\\n",
       "0                                                NaN   \n",
       "1  Chemically sensitive? We've removed the irrita...   \n",
       "2  New modern house built in 2013.  Spectacular s...   \n",
       "4  Cozy family craftman house in beautiful neighb...   \n",
       "5  We're renting out a small private unit of one ...   \n",
       "\n",
       "                                               space  \\\n",
       "0  Make your self at home in this charming one-be...   \n",
       "1  Beautiful, hypoallergenic apartment in an extr...   \n",
       "2  Our house is modern, light and fresh with a wa...   \n",
       "4  Cozy family craftman house in beautiful neighb...   \n",
       "5  If you include a bit of your background in you...   \n",
       "\n",
       "                                         description  \\\n",
       "0  Make your self at home in this charming one-be...   \n",
       "1  Chemically sensitive? We've removed the irrita...   \n",
       "2  New modern house built in 2013.  Spectacular s...   \n",
       "4  Cozy family craftman house in beautiful neighb...   \n",
       "5  We're renting out a small private unit of one ...   \n",
       "\n",
       "                                             transit  host_response_time  \\\n",
       "0                                                NaN  within a few hours   \n",
       "1  Convenient bus stops are just down the block, ...      within an hour   \n",
       "2  A bus stop is just 2 blocks away.   Easy bus a...  within a few hours   \n",
       "4  The nearest public transit bus (D Line) is 2 b...      within an hour   \n",
       "5  The #1 and #2 bus picks up 2-3 blocks away (di...                 NaN   \n",
       "\n",
       "  host_response_rate host_acceptance_rate host_is_superhost  \\\n",
       "0                96%                 100%                 f   \n",
       "1                98%                 100%                 t   \n",
       "2                67%                 100%                 f   \n",
       "4               100%                  NaN                 f   \n",
       "5                NaN                  NaN                 f   \n",
       "\n",
       "  host_neighbourhood  ...  review_scores_checkin  review_scores_communication  \\\n",
       "0         Queen Anne  ...                   10.0                         10.0   \n",
       "1         Queen Anne  ...                   10.0                         10.0   \n",
       "2         Queen Anne  ...                   10.0                         10.0   \n",
       "4         Queen Anne  ...                   10.0                         10.0   \n",
       "5         Queen Anne  ...                   10.0                         10.0   \n",
       "\n",
       "  review_scores_location review_scores_value instant_bookable  \\\n",
       "0                    9.0                10.0                f   \n",
       "1                   10.0                10.0                f   \n",
       "2                   10.0                10.0                f   \n",
       "4                    9.0                 9.0                f   \n",
       "5                   10.0                10.0                f   \n",
       "\n",
       "  cancellation_policy require_guest_profile_picture  \\\n",
       "0            moderate                             f   \n",
       "1              strict                             t   \n",
       "2              strict                             f   \n",
       "4              strict                             f   \n",
       "5              strict                             f   \n",
       "\n",
       "  require_guest_phone_verification calculated_host_listings_count  \\\n",
       "0                                f                              2   \n",
       "1                                t                              6   \n",
       "2                                f                              2   \n",
       "4                                f                              1   \n",
       "5                                f                              1   \n",
       "\n",
       "  reviews_per_month  \n",
       "0              4.07  \n",
       "1              1.48  \n",
       "2              1.15  \n",
       "4              0.89  \n",
       "5              2.45  \n",
       "\n",
       "[5 rows x 57 columns]"
      ]
     },
     "execution_count": 121,
     "metadata": {},
     "output_type": "execute_result"
    }
   ],
   "source": [
    "#drop some host variables\n",
    "host_cols = ['host_id','host_name','host_since','host_location','host_about','host_verifications']\n",
    "features.drop(host_cols, axis = 1, inplace = True)\n",
    "features.head()"
   ]
  },
  {
   "cell_type": "code",
   "execution_count": 122,
   "metadata": {
    "execution": {
     "iopub.execute_input": "2023-01-02T06:57:51.685525Z",
     "iopub.status.busy": "2023-01-02T06:57:51.684450Z",
     "iopub.status.idle": "2023-01-02T06:57:51.699421Z",
     "shell.execute_reply": "2023-01-02T06:57:51.697959Z",
     "shell.execute_reply.started": "2023-01-02T06:57:51.685486Z"
    }
   },
   "outputs": [
    {
     "data": {
      "text/plain": [
       "count     2694\n",
       "unique       2\n",
       "top       100%\n",
       "freq      2693\n",
       "Name: host_acceptance_rate, dtype: object"
      ]
     },
     "execution_count": 122,
     "metadata": {},
     "output_type": "execute_result"
    }
   ],
   "source": [
    "features.host_acceptance_rate.describe()"
   ]
  },
  {
   "cell_type": "markdown",
   "metadata": {},
   "source": [
    "host_acceptance_rate appears is 100% as a value, so we can drop this column as well"
   ]
  },
  {
   "cell_type": "code",
   "execution_count": 123,
   "metadata": {
    "execution": {
     "iopub.execute_input": "2023-01-02T06:57:51.701258Z",
     "iopub.status.busy": "2023-01-02T06:57:51.700805Z",
     "iopub.status.idle": "2023-01-02T06:57:51.742495Z",
     "shell.execute_reply": "2023-01-02T06:57:51.741073Z",
     "shell.execute_reply.started": "2023-01-02T06:57:51.701192Z"
    }
   },
   "outputs": [
    {
     "data": {
      "text/html": [
       "<div>\n",
       "<style scoped>\n",
       "    .dataframe tbody tr th:only-of-type {\n",
       "        vertical-align: middle;\n",
       "    }\n",
       "\n",
       "    .dataframe tbody tr th {\n",
       "        vertical-align: top;\n",
       "    }\n",
       "\n",
       "    .dataframe thead th {\n",
       "        text-align: right;\n",
       "    }\n",
       "</style>\n",
       "<table border=\"1\" class=\"dataframe\">\n",
       "  <thead>\n",
       "    <tr style=\"text-align: right;\">\n",
       "      <th></th>\n",
       "      <th>name</th>\n",
       "      <th>summary</th>\n",
       "      <th>space</th>\n",
       "      <th>description</th>\n",
       "      <th>transit</th>\n",
       "      <th>host_response_time</th>\n",
       "      <th>host_response_rate</th>\n",
       "      <th>host_is_superhost</th>\n",
       "      <th>host_neighbourhood</th>\n",
       "      <th>host_listings_count</th>\n",
       "      <th>...</th>\n",
       "      <th>review_scores_checkin</th>\n",
       "      <th>review_scores_communication</th>\n",
       "      <th>review_scores_location</th>\n",
       "      <th>review_scores_value</th>\n",
       "      <th>instant_bookable</th>\n",
       "      <th>cancellation_policy</th>\n",
       "      <th>require_guest_profile_picture</th>\n",
       "      <th>require_guest_phone_verification</th>\n",
       "      <th>calculated_host_listings_count</th>\n",
       "      <th>reviews_per_month</th>\n",
       "    </tr>\n",
       "  </thead>\n",
       "  <tbody>\n",
       "    <tr>\n",
       "      <th>0</th>\n",
       "      <td>Stylish Queen Anne Apartment</td>\n",
       "      <td>NaN</td>\n",
       "      <td>Make your self at home in this charming one-be...</td>\n",
       "      <td>Make your self at home in this charming one-be...</td>\n",
       "      <td>NaN</td>\n",
       "      <td>within a few hours</td>\n",
       "      <td>96%</td>\n",
       "      <td>f</td>\n",
       "      <td>Queen Anne</td>\n",
       "      <td>3.0</td>\n",
       "      <td>...</td>\n",
       "      <td>10.0</td>\n",
       "      <td>10.0</td>\n",
       "      <td>9.0</td>\n",
       "      <td>10.0</td>\n",
       "      <td>f</td>\n",
       "      <td>moderate</td>\n",
       "      <td>f</td>\n",
       "      <td>f</td>\n",
       "      <td>2</td>\n",
       "      <td>4.07</td>\n",
       "    </tr>\n",
       "    <tr>\n",
       "      <th>1</th>\n",
       "      <td>Bright &amp; Airy Queen Anne Apartment</td>\n",
       "      <td>Chemically sensitive? We've removed the irrita...</td>\n",
       "      <td>Beautiful, hypoallergenic apartment in an extr...</td>\n",
       "      <td>Chemically sensitive? We've removed the irrita...</td>\n",
       "      <td>Convenient bus stops are just down the block, ...</td>\n",
       "      <td>within an hour</td>\n",
       "      <td>98%</td>\n",
       "      <td>t</td>\n",
       "      <td>Queen Anne</td>\n",
       "      <td>6.0</td>\n",
       "      <td>...</td>\n",
       "      <td>10.0</td>\n",
       "      <td>10.0</td>\n",
       "      <td>10.0</td>\n",
       "      <td>10.0</td>\n",
       "      <td>f</td>\n",
       "      <td>strict</td>\n",
       "      <td>t</td>\n",
       "      <td>t</td>\n",
       "      <td>6</td>\n",
       "      <td>1.48</td>\n",
       "    </tr>\n",
       "    <tr>\n",
       "      <th>2</th>\n",
       "      <td>New Modern House-Amazing water view</td>\n",
       "      <td>New modern house built in 2013.  Spectacular s...</td>\n",
       "      <td>Our house is modern, light and fresh with a wa...</td>\n",
       "      <td>New modern house built in 2013.  Spectacular s...</td>\n",
       "      <td>A bus stop is just 2 blocks away.   Easy bus a...</td>\n",
       "      <td>within a few hours</td>\n",
       "      <td>67%</td>\n",
       "      <td>f</td>\n",
       "      <td>Queen Anne</td>\n",
       "      <td>2.0</td>\n",
       "      <td>...</td>\n",
       "      <td>10.0</td>\n",
       "      <td>10.0</td>\n",
       "      <td>10.0</td>\n",
       "      <td>10.0</td>\n",
       "      <td>f</td>\n",
       "      <td>strict</td>\n",
       "      <td>f</td>\n",
       "      <td>f</td>\n",
       "      <td>2</td>\n",
       "      <td>1.15</td>\n",
       "    </tr>\n",
       "    <tr>\n",
       "      <th>4</th>\n",
       "      <td>Charming craftsman 3 bdm house</td>\n",
       "      <td>Cozy family craftman house in beautiful neighb...</td>\n",
       "      <td>Cozy family craftman house in beautiful neighb...</td>\n",
       "      <td>Cozy family craftman house in beautiful neighb...</td>\n",
       "      <td>The nearest public transit bus (D Line) is 2 b...</td>\n",
       "      <td>within an hour</td>\n",
       "      <td>100%</td>\n",
       "      <td>f</td>\n",
       "      <td>Queen Anne</td>\n",
       "      <td>2.0</td>\n",
       "      <td>...</td>\n",
       "      <td>10.0</td>\n",
       "      <td>10.0</td>\n",
       "      <td>9.0</td>\n",
       "      <td>9.0</td>\n",
       "      <td>f</td>\n",
       "      <td>strict</td>\n",
       "      <td>f</td>\n",
       "      <td>f</td>\n",
       "      <td>1</td>\n",
       "      <td>0.89</td>\n",
       "    </tr>\n",
       "    <tr>\n",
       "      <th>5</th>\n",
       "      <td>Private unit in a 1920s mansion</td>\n",
       "      <td>We're renting out a small private unit of one ...</td>\n",
       "      <td>If you include a bit of your background in you...</td>\n",
       "      <td>We're renting out a small private unit of one ...</td>\n",
       "      <td>The #1 and #2 bus picks up 2-3 blocks away (di...</td>\n",
       "      <td>NaN</td>\n",
       "      <td>NaN</td>\n",
       "      <td>f</td>\n",
       "      <td>Queen Anne</td>\n",
       "      <td>1.0</td>\n",
       "      <td>...</td>\n",
       "      <td>10.0</td>\n",
       "      <td>10.0</td>\n",
       "      <td>10.0</td>\n",
       "      <td>10.0</td>\n",
       "      <td>f</td>\n",
       "      <td>strict</td>\n",
       "      <td>f</td>\n",
       "      <td>f</td>\n",
       "      <td>1</td>\n",
       "      <td>2.45</td>\n",
       "    </tr>\n",
       "  </tbody>\n",
       "</table>\n",
       "<p>5 rows × 56 columns</p>\n",
       "</div>"
      ],
      "text/plain": [
       "                                  name  \\\n",
       "0         Stylish Queen Anne Apartment   \n",
       "1   Bright & Airy Queen Anne Apartment   \n",
       "2  New Modern House-Amazing water view   \n",
       "4       Charming craftsman 3 bdm house   \n",
       "5      Private unit in a 1920s mansion   \n",
       "\n",
       "                                             summary  \\\n",
       "0                                                NaN   \n",
       "1  Chemically sensitive? We've removed the irrita...   \n",
       "2  New modern house built in 2013.  Spectacular s...   \n",
       "4  Cozy family craftman house in beautiful neighb...   \n",
       "5  We're renting out a small private unit of one ...   \n",
       "\n",
       "                                               space  \\\n",
       "0  Make your self at home in this charming one-be...   \n",
       "1  Beautiful, hypoallergenic apartment in an extr...   \n",
       "2  Our house is modern, light and fresh with a wa...   \n",
       "4  Cozy family craftman house in beautiful neighb...   \n",
       "5  If you include a bit of your background in you...   \n",
       "\n",
       "                                         description  \\\n",
       "0  Make your self at home in this charming one-be...   \n",
       "1  Chemically sensitive? We've removed the irrita...   \n",
       "2  New modern house built in 2013.  Spectacular s...   \n",
       "4  Cozy family craftman house in beautiful neighb...   \n",
       "5  We're renting out a small private unit of one ...   \n",
       "\n",
       "                                             transit  host_response_time  \\\n",
       "0                                                NaN  within a few hours   \n",
       "1  Convenient bus stops are just down the block, ...      within an hour   \n",
       "2  A bus stop is just 2 blocks away.   Easy bus a...  within a few hours   \n",
       "4  The nearest public transit bus (D Line) is 2 b...      within an hour   \n",
       "5  The #1 and #2 bus picks up 2-3 blocks away (di...                 NaN   \n",
       "\n",
       "  host_response_rate host_is_superhost host_neighbourhood  \\\n",
       "0                96%                 f         Queen Anne   \n",
       "1                98%                 t         Queen Anne   \n",
       "2                67%                 f         Queen Anne   \n",
       "4               100%                 f         Queen Anne   \n",
       "5                NaN                 f         Queen Anne   \n",
       "\n",
       "   host_listings_count  ...  review_scores_checkin  \\\n",
       "0                  3.0  ...                   10.0   \n",
       "1                  6.0  ...                   10.0   \n",
       "2                  2.0  ...                   10.0   \n",
       "4                  2.0  ...                   10.0   \n",
       "5                  1.0  ...                   10.0   \n",
       "\n",
       "  review_scores_communication review_scores_location review_scores_value  \\\n",
       "0                        10.0                    9.0                10.0   \n",
       "1                        10.0                   10.0                10.0   \n",
       "2                        10.0                   10.0                10.0   \n",
       "4                        10.0                    9.0                 9.0   \n",
       "5                        10.0                   10.0                10.0   \n",
       "\n",
       "  instant_bookable cancellation_policy require_guest_profile_picture  \\\n",
       "0                f            moderate                             f   \n",
       "1                f              strict                             t   \n",
       "2                f              strict                             f   \n",
       "4                f              strict                             f   \n",
       "5                f              strict                             f   \n",
       "\n",
       "  require_guest_phone_verification calculated_host_listings_count  \\\n",
       "0                                f                              2   \n",
       "1                                t                              6   \n",
       "2                                f                              2   \n",
       "4                                f                              1   \n",
       "5                                f                              1   \n",
       "\n",
       "  reviews_per_month  \n",
       "0              4.07  \n",
       "1              1.48  \n",
       "2              1.15  \n",
       "4              0.89  \n",
       "5              2.45  \n",
       "\n",
       "[5 rows x 56 columns]"
      ]
     },
     "execution_count": 123,
     "metadata": {},
     "output_type": "execute_result"
    }
   ],
   "source": [
    "features.drop(['host_acceptance_rate'], axis = 1, inplace = True)\n",
    "features.head()"
   ]
  },
  {
   "cell_type": "markdown",
   "metadata": {},
   "source": [
    "The next step would be to drop some more irrelevant data. These are mostly location based data."
   ]
  },
  {
   "cell_type": "code",
   "execution_count": 124,
   "metadata": {
    "execution": {
     "iopub.execute_input": "2023-01-02T06:57:51.744813Z",
     "iopub.status.busy": "2023-01-02T06:57:51.744305Z",
     "iopub.status.idle": "2023-01-02T06:57:51.784605Z",
     "shell.execute_reply": "2023-01-02T06:57:51.783544Z",
     "shell.execute_reply.started": "2023-01-02T06:57:51.744771Z"
    }
   },
   "outputs": [
    {
     "data": {
      "text/html": [
       "<div>\n",
       "<style scoped>\n",
       "    .dataframe tbody tr th:only-of-type {\n",
       "        vertical-align: middle;\n",
       "    }\n",
       "\n",
       "    .dataframe tbody tr th {\n",
       "        vertical-align: top;\n",
       "    }\n",
       "\n",
       "    .dataframe thead th {\n",
       "        text-align: right;\n",
       "    }\n",
       "</style>\n",
       "<table border=\"1\" class=\"dataframe\">\n",
       "  <thead>\n",
       "    <tr style=\"text-align: right;\">\n",
       "      <th></th>\n",
       "      <th>name</th>\n",
       "      <th>summary</th>\n",
       "      <th>space</th>\n",
       "      <th>description</th>\n",
       "      <th>transit</th>\n",
       "      <th>host_response_time</th>\n",
       "      <th>host_response_rate</th>\n",
       "      <th>host_is_superhost</th>\n",
       "      <th>host_neighbourhood</th>\n",
       "      <th>host_listings_count</th>\n",
       "      <th>...</th>\n",
       "      <th>review_scores_checkin</th>\n",
       "      <th>review_scores_communication</th>\n",
       "      <th>review_scores_location</th>\n",
       "      <th>review_scores_value</th>\n",
       "      <th>instant_bookable</th>\n",
       "      <th>cancellation_policy</th>\n",
       "      <th>require_guest_profile_picture</th>\n",
       "      <th>require_guest_phone_verification</th>\n",
       "      <th>calculated_host_listings_count</th>\n",
       "      <th>reviews_per_month</th>\n",
       "    </tr>\n",
       "  </thead>\n",
       "  <tbody>\n",
       "    <tr>\n",
       "      <th>0</th>\n",
       "      <td>Stylish Queen Anne Apartment</td>\n",
       "      <td>NaN</td>\n",
       "      <td>Make your self at home in this charming one-be...</td>\n",
       "      <td>Make your self at home in this charming one-be...</td>\n",
       "      <td>NaN</td>\n",
       "      <td>within a few hours</td>\n",
       "      <td>96%</td>\n",
       "      <td>f</td>\n",
       "      <td>Queen Anne</td>\n",
       "      <td>3.0</td>\n",
       "      <td>...</td>\n",
       "      <td>10.0</td>\n",
       "      <td>10.0</td>\n",
       "      <td>9.0</td>\n",
       "      <td>10.0</td>\n",
       "      <td>f</td>\n",
       "      <td>moderate</td>\n",
       "      <td>f</td>\n",
       "      <td>f</td>\n",
       "      <td>2</td>\n",
       "      <td>4.07</td>\n",
       "    </tr>\n",
       "    <tr>\n",
       "      <th>1</th>\n",
       "      <td>Bright &amp; Airy Queen Anne Apartment</td>\n",
       "      <td>Chemically sensitive? We've removed the irrita...</td>\n",
       "      <td>Beautiful, hypoallergenic apartment in an extr...</td>\n",
       "      <td>Chemically sensitive? We've removed the irrita...</td>\n",
       "      <td>Convenient bus stops are just down the block, ...</td>\n",
       "      <td>within an hour</td>\n",
       "      <td>98%</td>\n",
       "      <td>t</td>\n",
       "      <td>Queen Anne</td>\n",
       "      <td>6.0</td>\n",
       "      <td>...</td>\n",
       "      <td>10.0</td>\n",
       "      <td>10.0</td>\n",
       "      <td>10.0</td>\n",
       "      <td>10.0</td>\n",
       "      <td>f</td>\n",
       "      <td>strict</td>\n",
       "      <td>t</td>\n",
       "      <td>t</td>\n",
       "      <td>6</td>\n",
       "      <td>1.48</td>\n",
       "    </tr>\n",
       "    <tr>\n",
       "      <th>2</th>\n",
       "      <td>New Modern House-Amazing water view</td>\n",
       "      <td>New modern house built in 2013.  Spectacular s...</td>\n",
       "      <td>Our house is modern, light and fresh with a wa...</td>\n",
       "      <td>New modern house built in 2013.  Spectacular s...</td>\n",
       "      <td>A bus stop is just 2 blocks away.   Easy bus a...</td>\n",
       "      <td>within a few hours</td>\n",
       "      <td>67%</td>\n",
       "      <td>f</td>\n",
       "      <td>Queen Anne</td>\n",
       "      <td>2.0</td>\n",
       "      <td>...</td>\n",
       "      <td>10.0</td>\n",
       "      <td>10.0</td>\n",
       "      <td>10.0</td>\n",
       "      <td>10.0</td>\n",
       "      <td>f</td>\n",
       "      <td>strict</td>\n",
       "      <td>f</td>\n",
       "      <td>f</td>\n",
       "      <td>2</td>\n",
       "      <td>1.15</td>\n",
       "    </tr>\n",
       "    <tr>\n",
       "      <th>4</th>\n",
       "      <td>Charming craftsman 3 bdm house</td>\n",
       "      <td>Cozy family craftman house in beautiful neighb...</td>\n",
       "      <td>Cozy family craftman house in beautiful neighb...</td>\n",
       "      <td>Cozy family craftman house in beautiful neighb...</td>\n",
       "      <td>The nearest public transit bus (D Line) is 2 b...</td>\n",
       "      <td>within an hour</td>\n",
       "      <td>100%</td>\n",
       "      <td>f</td>\n",
       "      <td>Queen Anne</td>\n",
       "      <td>2.0</td>\n",
       "      <td>...</td>\n",
       "      <td>10.0</td>\n",
       "      <td>10.0</td>\n",
       "      <td>9.0</td>\n",
       "      <td>9.0</td>\n",
       "      <td>f</td>\n",
       "      <td>strict</td>\n",
       "      <td>f</td>\n",
       "      <td>f</td>\n",
       "      <td>1</td>\n",
       "      <td>0.89</td>\n",
       "    </tr>\n",
       "    <tr>\n",
       "      <th>5</th>\n",
       "      <td>Private unit in a 1920s mansion</td>\n",
       "      <td>We're renting out a small private unit of one ...</td>\n",
       "      <td>If you include a bit of your background in you...</td>\n",
       "      <td>We're renting out a small private unit of one ...</td>\n",
       "      <td>The #1 and #2 bus picks up 2-3 blocks away (di...</td>\n",
       "      <td>NaN</td>\n",
       "      <td>NaN</td>\n",
       "      <td>f</td>\n",
       "      <td>Queen Anne</td>\n",
       "      <td>1.0</td>\n",
       "      <td>...</td>\n",
       "      <td>10.0</td>\n",
       "      <td>10.0</td>\n",
       "      <td>10.0</td>\n",
       "      <td>10.0</td>\n",
       "      <td>f</td>\n",
       "      <td>strict</td>\n",
       "      <td>f</td>\n",
       "      <td>f</td>\n",
       "      <td>1</td>\n",
       "      <td>2.45</td>\n",
       "    </tr>\n",
       "  </tbody>\n",
       "</table>\n",
       "<p>5 rows × 45 columns</p>\n",
       "</div>"
      ],
      "text/plain": [
       "                                  name  \\\n",
       "0         Stylish Queen Anne Apartment   \n",
       "1   Bright & Airy Queen Anne Apartment   \n",
       "2  New Modern House-Amazing water view   \n",
       "4       Charming craftsman 3 bdm house   \n",
       "5      Private unit in a 1920s mansion   \n",
       "\n",
       "                                             summary  \\\n",
       "0                                                NaN   \n",
       "1  Chemically sensitive? We've removed the irrita...   \n",
       "2  New modern house built in 2013.  Spectacular s...   \n",
       "4  Cozy family craftman house in beautiful neighb...   \n",
       "5  We're renting out a small private unit of one ...   \n",
       "\n",
       "                                               space  \\\n",
       "0  Make your self at home in this charming one-be...   \n",
       "1  Beautiful, hypoallergenic apartment in an extr...   \n",
       "2  Our house is modern, light and fresh with a wa...   \n",
       "4  Cozy family craftman house in beautiful neighb...   \n",
       "5  If you include a bit of your background in you...   \n",
       "\n",
       "                                         description  \\\n",
       "0  Make your self at home in this charming one-be...   \n",
       "1  Chemically sensitive? We've removed the irrita...   \n",
       "2  New modern house built in 2013.  Spectacular s...   \n",
       "4  Cozy family craftman house in beautiful neighb...   \n",
       "5  We're renting out a small private unit of one ...   \n",
       "\n",
       "                                             transit  host_response_time  \\\n",
       "0                                                NaN  within a few hours   \n",
       "1  Convenient bus stops are just down the block, ...      within an hour   \n",
       "2  A bus stop is just 2 blocks away.   Easy bus a...  within a few hours   \n",
       "4  The nearest public transit bus (D Line) is 2 b...      within an hour   \n",
       "5  The #1 and #2 bus picks up 2-3 blocks away (di...                 NaN   \n",
       "\n",
       "  host_response_rate host_is_superhost host_neighbourhood  \\\n",
       "0                96%                 f         Queen Anne   \n",
       "1                98%                 t         Queen Anne   \n",
       "2                67%                 f         Queen Anne   \n",
       "4               100%                 f         Queen Anne   \n",
       "5                NaN                 f         Queen Anne   \n",
       "\n",
       "   host_listings_count  ...  review_scores_checkin  \\\n",
       "0                  3.0  ...                   10.0   \n",
       "1                  6.0  ...                   10.0   \n",
       "2                  2.0  ...                   10.0   \n",
       "4                  2.0  ...                   10.0   \n",
       "5                  1.0  ...                   10.0   \n",
       "\n",
       "  review_scores_communication review_scores_location review_scores_value  \\\n",
       "0                        10.0                    9.0                10.0   \n",
       "1                        10.0                   10.0                10.0   \n",
       "2                        10.0                   10.0                10.0   \n",
       "4                        10.0                    9.0                 9.0   \n",
       "5                        10.0                   10.0                10.0   \n",
       "\n",
       "  instant_bookable cancellation_policy require_guest_profile_picture  \\\n",
       "0                f            moderate                             f   \n",
       "1                f              strict                             t   \n",
       "2                f              strict                             f   \n",
       "4                f              strict                             f   \n",
       "5                f              strict                             f   \n",
       "\n",
       "   require_guest_phone_verification  calculated_host_listings_count  \\\n",
       "0                                 f                               2   \n",
       "1                                 t                               6   \n",
       "2                                 f                               2   \n",
       "4                                 f                               1   \n",
       "5                                 f                               1   \n",
       "\n",
       "   reviews_per_month  \n",
       "0               4.07  \n",
       "1               1.48  \n",
       "2               1.15  \n",
       "4               0.89  \n",
       "5               2.45  \n",
       "\n",
       "[5 rows x 45 columns]"
      ]
     },
     "execution_count": 124,
     "metadata": {},
     "output_type": "execute_result"
    }
   ],
   "source": [
    "#Drop redundant neighborhood BUT KEEP NEIGHBOURHOOD_GROUP_CLEANSED\n",
    "loc_cols = ['neighbourhood','neighbourhood_cleansed','city','street','smart_location','latitude','longitude','zipcode','first_review','last_review','calendar_updated']\n",
    "features.drop(loc_cols, axis = 1, inplace = True)\n",
    "features.head()"
   ]
  },
  {
   "cell_type": "markdown",
   "metadata": {},
   "source": [
    "> In the next step we modify categorical data."
   ]
  },
  {
   "cell_type": "code",
   "execution_count": 125,
   "metadata": {
    "execution": {
     "iopub.execute_input": "2023-01-02T06:57:51.786894Z",
     "iopub.status.busy": "2023-01-02T06:57:51.786418Z",
     "iopub.status.idle": "2023-01-02T06:57:51.799156Z",
     "shell.execute_reply": "2023-01-02T06:57:51.797746Z",
     "shell.execute_reply.started": "2023-01-02T06:57:51.786849Z"
    }
   },
   "outputs": [
    {
     "data": {
      "text/plain": [
       "['name',\n",
       " 'summary',\n",
       " 'space',\n",
       " 'description',\n",
       " 'transit',\n",
       " 'host_response_time',\n",
       " 'host_response_rate',\n",
       " 'host_is_superhost',\n",
       " 'host_neighbourhood',\n",
       " 'host_has_profile_pic',\n",
       " 'host_identity_verified',\n",
       " 'neighbourhood_group_cleansed',\n",
       " 'is_location_exact',\n",
       " 'property_type',\n",
       " 'room_type',\n",
       " 'bed_type',\n",
       " 'amenities',\n",
       " 'extra_people',\n",
       " 'instant_bookable',\n",
       " 'cancellation_policy',\n",
       " 'require_guest_profile_picture',\n",
       " 'require_guest_phone_verification']"
      ]
     },
     "execution_count": 125,
     "metadata": {},
     "output_type": "execute_result"
    }
   ],
   "source": [
    "list(features.select_dtypes(include='object'))"
   ]
  },
  {
   "cell_type": "markdown",
   "metadata": {},
   "source": [
    "There are some object type variables that should be numerical; host_response_time and host_response_rate can be converted"
   ]
  },
  {
   "cell_type": "code",
   "execution_count": 126,
   "metadata": {
    "execution": {
     "iopub.execute_input": "2023-01-02T06:57:51.802205Z",
     "iopub.status.busy": "2023-01-02T06:57:51.801637Z",
     "iopub.status.idle": "2023-01-02T06:57:51.813120Z",
     "shell.execute_reply": "2023-01-02T06:57:51.812052Z",
     "shell.execute_reply.started": "2023-01-02T06:57:51.802156Z"
    }
   },
   "outputs": [
    {
     "data": {
      "text/plain": [
       "array(['96%', '98%', '67%', '100%', nan, '71%', '97%', '60%', '50%',\n",
       "       '31%', '70%', '90%', '88%', '80%', '63%', '33%', '99%', '75%',\n",
       "       '83%', '94%', '58%', '43%', '93%', '92%', '40%', '57%', '89%',\n",
       "       '95%', '81%', '91%', '78%', '38%', '86%', '30%', '56%', '76%',\n",
       "       '64%', '82%', '17%', '87%', '25%', '69%', '53%', '65%'],\n",
       "      dtype=object)"
      ]
     },
     "execution_count": 126,
     "metadata": {},
     "output_type": "execute_result"
    }
   ],
   "source": [
    "features.host_response_rate.unique()"
   ]
  },
  {
   "cell_type": "markdown",
   "metadata": {},
   "source": [
    "String variables that need to be converted to floats:\n",
    "- host_response_rate\n",
    "- extra_people\n",
    "host_response_time needs to be handled with dummy variables as the entries aren't numerical in nature"
   ]
  },
  {
   "cell_type": "code",
   "execution_count": 127,
   "metadata": {
    "execution": {
     "iopub.execute_input": "2023-01-02T06:57:51.821296Z",
     "iopub.status.busy": "2023-01-02T06:57:51.820896Z",
     "iopub.status.idle": "2023-01-02T06:57:51.841942Z",
     "shell.execute_reply": "2023-01-02T06:57:51.840660Z",
     "shell.execute_reply.started": "2023-01-02T06:57:51.821262Z"
    }
   },
   "outputs": [
    {
     "data": {
      "text/plain": [
       "0    0.96\n",
       "1    0.98\n",
       "2    0.67\n",
       "4    1.00\n",
       "5     NaN\n",
       "Name: host_response_rate, dtype: float64"
      ]
     },
     "execution_count": 127,
     "metadata": {},
     "output_type": "execute_result"
    }
   ],
   "source": [
    "#Strip '%' from rates and convert to float\n",
    "features['host_response_rate'].replace('%', '', regex=True, inplace = True)\n",
    "features['host_response_rate'] = features['host_response_rate'].astype(float)\n",
    "\n",
    "#Divide by 100 to get response rate as a fraction\n",
    "features['host_response_rate']=features['host_response_rate']/100\n",
    "features['host_response_rate'].head()"
   ]
  },
  {
   "cell_type": "code",
   "execution_count": 128,
   "metadata": {
    "execution": {
     "iopub.execute_input": "2023-01-02T06:57:51.844921Z",
     "iopub.status.busy": "2023-01-02T06:57:51.843600Z",
     "iopub.status.idle": "2023-01-02T06:57:51.865854Z",
     "shell.execute_reply": "2023-01-02T06:57:51.864526Z",
     "shell.execute_reply.started": "2023-01-02T06:57:51.844865Z"
    }
   },
   "outputs": [
    {
     "data": {
      "text/plain": [
       "0     5.0\n",
       "1     0.0\n",
       "2    25.0\n",
       "4    15.0\n",
       "5    30.0\n",
       "Name: extra_people, dtype: float64"
      ]
     },
     "execution_count": 128,
     "metadata": {},
     "output_type": "execute_result"
    }
   ],
   "source": [
    "#Strip dollar sign from extra_people and convert to float as well\n",
    "features['extra_people'].replace('[\\$,]', '', regex=True, inplace = True)\n",
    "features['extra_people'] = features['extra_people'].astype(float)\n",
    "\n",
    "features.extra_people.head()"
   ]
  },
  {
   "cell_type": "markdown",
   "metadata": {},
   "source": [
    "#### Boolean variables:\n",
    "- host_is_superhost\n",
    "- host_has_profile_pic\n",
    "- host_identity_verified\n",
    "- is_location_exact\n",
    "- instant_bookable\n",
    "- require_guest_profile_picture\n",
    "- require_guest_phone_verification\n",
    "\n",
    "#### Categorical variables (need dummies):\n",
    "- name\n",
    "- summary\n",
    "- space\n",
    "- description\n",
    "- transit\n",
    "- host_response_time\n",
    "- host_neighbourhood\n",
    "- neighbourhood_cleansed\n",
    "- property_type\n",
    "- room_type\n",
    "- bed_type\n",
    "- amenities\n",
    "- cancellation_policy"
   ]
  },
  {
   "cell_type": "markdown",
   "metadata": {},
   "source": [
    "To convert TRUE FALSE to 1 0 so that they can be used in our calculation."
   ]
  },
  {
   "cell_type": "code",
   "execution_count": 129,
   "metadata": {
    "execution": {
     "iopub.execute_input": "2023-01-02T06:57:51.868403Z",
     "iopub.status.busy": "2023-01-02T06:57:51.867920Z",
     "iopub.status.idle": "2023-01-02T06:57:51.896900Z",
     "shell.execute_reply": "2023-01-02T06:57:51.895551Z",
     "shell.execute_reply.started": "2023-01-02T06:57:51.868353Z"
    }
   },
   "outputs": [
    {
     "data": {
      "text/html": [
       "<div>\n",
       "<style scoped>\n",
       "    .dataframe tbody tr th:only-of-type {\n",
       "        vertical-align: middle;\n",
       "    }\n",
       "\n",
       "    .dataframe tbody tr th {\n",
       "        vertical-align: top;\n",
       "    }\n",
       "\n",
       "    .dataframe thead th {\n",
       "        text-align: right;\n",
       "    }\n",
       "</style>\n",
       "<table border=\"1\" class=\"dataframe\">\n",
       "  <thead>\n",
       "    <tr style=\"text-align: right;\">\n",
       "      <th></th>\n",
       "      <th>host_is_superhost</th>\n",
       "      <th>host_has_profile_pic</th>\n",
       "      <th>host_identity_verified</th>\n",
       "      <th>is_location_exact</th>\n",
       "      <th>instant_bookable</th>\n",
       "      <th>require_guest_profile_picture</th>\n",
       "      <th>require_guest_phone_verification</th>\n",
       "    </tr>\n",
       "  </thead>\n",
       "  <tbody>\n",
       "    <tr>\n",
       "      <th>0</th>\n",
       "      <td>0</td>\n",
       "      <td>1</td>\n",
       "      <td>1</td>\n",
       "      <td>1</td>\n",
       "      <td>0</td>\n",
       "      <td>0</td>\n",
       "      <td>0</td>\n",
       "    </tr>\n",
       "    <tr>\n",
       "      <th>1</th>\n",
       "      <td>1</td>\n",
       "      <td>1</td>\n",
       "      <td>1</td>\n",
       "      <td>1</td>\n",
       "      <td>0</td>\n",
       "      <td>1</td>\n",
       "      <td>1</td>\n",
       "    </tr>\n",
       "    <tr>\n",
       "      <th>2</th>\n",
       "      <td>0</td>\n",
       "      <td>1</td>\n",
       "      <td>1</td>\n",
       "      <td>1</td>\n",
       "      <td>0</td>\n",
       "      <td>0</td>\n",
       "      <td>0</td>\n",
       "    </tr>\n",
       "    <tr>\n",
       "      <th>4</th>\n",
       "      <td>0</td>\n",
       "      <td>1</td>\n",
       "      <td>1</td>\n",
       "      <td>1</td>\n",
       "      <td>0</td>\n",
       "      <td>0</td>\n",
       "      <td>0</td>\n",
       "    </tr>\n",
       "    <tr>\n",
       "      <th>5</th>\n",
       "      <td>0</td>\n",
       "      <td>1</td>\n",
       "      <td>1</td>\n",
       "      <td>1</td>\n",
       "      <td>0</td>\n",
       "      <td>0</td>\n",
       "      <td>0</td>\n",
       "    </tr>\n",
       "  </tbody>\n",
       "</table>\n",
       "</div>"
      ],
      "text/plain": [
       "   host_is_superhost  host_has_profile_pic  host_identity_verified  \\\n",
       "0                  0                     1                       1   \n",
       "1                  1                     1                       1   \n",
       "2                  0                     1                       1   \n",
       "4                  0                     1                       1   \n",
       "5                  0                     1                       1   \n",
       "\n",
       "   is_location_exact  instant_bookable  require_guest_profile_picture  \\\n",
       "0                  1                 0                              0   \n",
       "1                  1                 0                              1   \n",
       "2                  1                 0                              0   \n",
       "4                  1                 0                              0   \n",
       "5                  1                 0                              0   \n",
       "\n",
       "   require_guest_phone_verification  \n",
       "0                                 0  \n",
       "1                                 1  \n",
       "2                                 0  \n",
       "4                                 0  \n",
       "5                                 0  "
      ]
     },
     "execution_count": 129,
     "metadata": {},
     "output_type": "execute_result"
    }
   ],
   "source": [
    "bool_vals = ['host_is_superhost', 'host_has_profile_pic','host_identity_verified','is_location_exact','instant_bookable','require_guest_profile_picture','require_guest_phone_verification']\n",
    "features[bool_vals] = np.where(features[bool_vals]=='t', 1, 0)\n",
    "features[bool_vals].head()"
   ]
  },
  {
   "cell_type": "markdown",
   "metadata": {},
   "source": [
    "These will all become boolean 1/0 to indicate whether there is a text entry in this field"
   ]
  },
  {
   "cell_type": "code",
   "execution_count": 130,
   "metadata": {
    "execution": {
     "iopub.execute_input": "2023-01-02T06:57:51.900449Z",
     "iopub.status.busy": "2023-01-02T06:57:51.899509Z",
     "iopub.status.idle": "2023-01-02T06:57:51.907144Z",
     "shell.execute_reply": "2023-01-02T06:57:51.905550Z",
     "shell.execute_reply.started": "2023-01-02T06:57:51.900396Z"
    }
   },
   "outputs": [],
   "source": [
    "# Function to convert text/descriptive columns to 1/0\n",
    "def bool_text(text):\n",
    "    '''\n",
    "    Function to convert text/descriptive columns to 1/0\n",
    "    INPUT: text - String that needs to be converted to 1/0\n",
    "    OUTPUT: 0 or 1 - Returns 0 if no text passed, 1 if there is text\n",
    "    '''\n",
    "    if not text:\n",
    "        return 0\n",
    "    else:\n",
    "        return 1"
   ]
  },
  {
   "cell_type": "code",
   "execution_count": 131,
   "metadata": {
    "execution": {
     "iopub.execute_input": "2023-01-02T06:57:51.909583Z",
     "iopub.status.busy": "2023-01-02T06:57:51.909015Z",
     "iopub.status.idle": "2023-01-02T06:57:51.941579Z",
     "shell.execute_reply": "2023-01-02T06:57:51.940241Z",
     "shell.execute_reply.started": "2023-01-02T06:57:51.909498Z"
    }
   },
   "outputs": [
    {
     "data": {
      "text/html": [
       "<div>\n",
       "<style scoped>\n",
       "    .dataframe tbody tr th:only-of-type {\n",
       "        vertical-align: middle;\n",
       "    }\n",
       "\n",
       "    .dataframe tbody tr th {\n",
       "        vertical-align: top;\n",
       "    }\n",
       "\n",
       "    .dataframe thead th {\n",
       "        text-align: right;\n",
       "    }\n",
       "</style>\n",
       "<table border=\"1\" class=\"dataframe\">\n",
       "  <thead>\n",
       "    <tr style=\"text-align: right;\">\n",
       "      <th></th>\n",
       "      <th>name</th>\n",
       "      <th>summary</th>\n",
       "      <th>space</th>\n",
       "      <th>description</th>\n",
       "      <th>transit</th>\n",
       "    </tr>\n",
       "  </thead>\n",
       "  <tbody>\n",
       "    <tr>\n",
       "      <th>0</th>\n",
       "      <td>1</td>\n",
       "      <td>1</td>\n",
       "      <td>1</td>\n",
       "      <td>1</td>\n",
       "      <td>1</td>\n",
       "    </tr>\n",
       "    <tr>\n",
       "      <th>1</th>\n",
       "      <td>1</td>\n",
       "      <td>1</td>\n",
       "      <td>1</td>\n",
       "      <td>1</td>\n",
       "      <td>1</td>\n",
       "    </tr>\n",
       "    <tr>\n",
       "      <th>2</th>\n",
       "      <td>1</td>\n",
       "      <td>1</td>\n",
       "      <td>1</td>\n",
       "      <td>1</td>\n",
       "      <td>1</td>\n",
       "    </tr>\n",
       "    <tr>\n",
       "      <th>4</th>\n",
       "      <td>1</td>\n",
       "      <td>1</td>\n",
       "      <td>1</td>\n",
       "      <td>1</td>\n",
       "      <td>1</td>\n",
       "    </tr>\n",
       "    <tr>\n",
       "      <th>5</th>\n",
       "      <td>1</td>\n",
       "      <td>1</td>\n",
       "      <td>1</td>\n",
       "      <td>1</td>\n",
       "      <td>1</td>\n",
       "    </tr>\n",
       "  </tbody>\n",
       "</table>\n",
       "</div>"
      ],
      "text/plain": [
       "   name  summary  space  description  transit\n",
       "0     1        1      1            1        1\n",
       "1     1        1      1            1        1\n",
       "2     1        1      1            1        1\n",
       "4     1        1      1            1        1\n",
       "5     1        1      1            1        1"
      ]
     },
     "execution_count": 131,
     "metadata": {},
     "output_type": "execute_result"
    }
   ],
   "source": [
    "text_cols = ['name','summary','space','description','transit']\n",
    "for col in text_cols:\n",
    "    features[col] = features[col].apply(bool_text)\n",
    "features[text_cols].head()"
   ]
  },
  {
   "cell_type": "markdown",
   "metadata": {},
   "source": [
    "Now that some of the categorical values are handled with Boolean values, we can move on to the more complex variables. I will drop host_neighbourhood because this value likely has little impact on rating calculation."
   ]
  },
  {
   "cell_type": "code",
   "execution_count": 132,
   "metadata": {
    "execution": {
     "iopub.execute_input": "2023-01-02T06:57:51.943589Z",
     "iopub.status.busy": "2023-01-02T06:57:51.943132Z",
     "iopub.status.idle": "2023-01-02T06:57:51.951898Z",
     "shell.execute_reply": "2023-01-02T06:57:51.950529Z",
     "shell.execute_reply.started": "2023-01-02T06:57:51.943555Z"
    }
   },
   "outputs": [],
   "source": [
    "features.drop(['host_neighbourhood'],axis = 1, inplace = True)"
   ]
  },
  {
   "cell_type": "code",
   "execution_count": 133,
   "metadata": {
    "execution": {
     "iopub.execute_input": "2023-01-02T06:57:51.954090Z",
     "iopub.status.busy": "2023-01-02T06:57:51.953711Z",
     "iopub.status.idle": "2023-01-02T06:57:51.992377Z",
     "shell.execute_reply": "2023-01-02T06:57:51.991084Z",
     "shell.execute_reply.started": "2023-01-02T06:57:51.954055Z"
    }
   },
   "outputs": [
    {
     "data": {
      "text/html": [
       "<div>\n",
       "<style scoped>\n",
       "    .dataframe tbody tr th:only-of-type {\n",
       "        vertical-align: middle;\n",
       "    }\n",
       "\n",
       "    .dataframe tbody tr th {\n",
       "        vertical-align: top;\n",
       "    }\n",
       "\n",
       "    .dataframe thead th {\n",
       "        text-align: right;\n",
       "    }\n",
       "</style>\n",
       "<table border=\"1\" class=\"dataframe\">\n",
       "  <thead>\n",
       "    <tr style=\"text-align: right;\">\n",
       "      <th></th>\n",
       "      <th>host_response_time</th>\n",
       "      <th>neighbourhood_group_cleansed</th>\n",
       "      <th>property_type</th>\n",
       "      <th>room_type</th>\n",
       "      <th>bed_type</th>\n",
       "      <th>amenities</th>\n",
       "      <th>cancellation_policy</th>\n",
       "    </tr>\n",
       "  </thead>\n",
       "  <tbody>\n",
       "    <tr>\n",
       "      <th>count</th>\n",
       "      <td>2859</td>\n",
       "      <td>3171</td>\n",
       "      <td>3171</td>\n",
       "      <td>3171</td>\n",
       "      <td>3171</td>\n",
       "      <td>3171</td>\n",
       "      <td>3171</td>\n",
       "    </tr>\n",
       "    <tr>\n",
       "      <th>unique</th>\n",
       "      <td>4</td>\n",
       "      <td>17</td>\n",
       "      <td>16</td>\n",
       "      <td>3</td>\n",
       "      <td>5</td>\n",
       "      <td>2733</td>\n",
       "      <td>3</td>\n",
       "    </tr>\n",
       "    <tr>\n",
       "      <th>top</th>\n",
       "      <td>within an hour</td>\n",
       "      <td>Other neighborhoods</td>\n",
       "      <td>House</td>\n",
       "      <td>Entire home/apt</td>\n",
       "      <td>Real Bed</td>\n",
       "      <td>{}</td>\n",
       "      <td>strict</td>\n",
       "    </tr>\n",
       "    <tr>\n",
       "      <th>freq</th>\n",
       "      <td>1521</td>\n",
       "      <td>656</td>\n",
       "      <td>1460</td>\n",
       "      <td>2125</td>\n",
       "      <td>3043</td>\n",
       "      <td>23</td>\n",
       "      <td>1257</td>\n",
       "    </tr>\n",
       "  </tbody>\n",
       "</table>\n",
       "</div>"
      ],
      "text/plain": [
       "       host_response_time neighbourhood_group_cleansed property_type  \\\n",
       "count                2859                         3171          3171   \n",
       "unique                  4                           17            16   \n",
       "top        within an hour          Other neighborhoods         House   \n",
       "freq                 1521                          656          1460   \n",
       "\n",
       "              room_type  bed_type amenities cancellation_policy  \n",
       "count              3171      3171      3171                3171  \n",
       "unique                3         5      2733                   3  \n",
       "top     Entire home/apt  Real Bed        {}              strict  \n",
       "freq               2125      3043        23                1257  "
      ]
     },
     "execution_count": 133,
     "metadata": {},
     "output_type": "execute_result"
    }
   ],
   "source": [
    "#Examine the spread of unique values in each categorical variable\n",
    "cat_cols = ['host_response_time',\n",
    "'neighbourhood_group_cleansed',\n",
    "'property_type',\n",
    "'room_type',\n",
    "'bed_type',\n",
    "'amenities',\n",
    "'cancellation_policy']\n",
    "features[cat_cols].describe()"
   ]
  },
  {
   "cell_type": "markdown",
   "metadata": {},
   "source": [
    "Since ammenities is a large fram we separate it in its own dataframe to clean it up and then merge it back with the features."
   ]
  },
  {
   "cell_type": "code",
   "execution_count": 134,
   "metadata": {
    "execution": {
     "iopub.execute_input": "2023-01-02T06:57:51.995088Z",
     "iopub.status.busy": "2023-01-02T06:57:51.994597Z",
     "iopub.status.idle": "2023-01-02T06:57:52.037915Z",
     "shell.execute_reply": "2023-01-02T06:57:52.036484Z",
     "shell.execute_reply.started": "2023-01-02T06:57:51.995034Z"
    }
   },
   "outputs": [
    {
     "data": {
      "text/html": [
       "<div>\n",
       "<style scoped>\n",
       "    .dataframe tbody tr th:only-of-type {\n",
       "        vertical-align: middle;\n",
       "    }\n",
       "\n",
       "    .dataframe tbody tr th {\n",
       "        vertical-align: top;\n",
       "    }\n",
       "\n",
       "    .dataframe thead th {\n",
       "        text-align: right;\n",
       "    }\n",
       "</style>\n",
       "<table border=\"1\" class=\"dataframe\">\n",
       "  <thead>\n",
       "    <tr style=\"text-align: right;\">\n",
       "      <th></th>\n",
       "      <th>0</th>\n",
       "      <th>1</th>\n",
       "      <th>2</th>\n",
       "      <th>3</th>\n",
       "      <th>4</th>\n",
       "      <th>5</th>\n",
       "      <th>6</th>\n",
       "      <th>7</th>\n",
       "      <th>8</th>\n",
       "      <th>9</th>\n",
       "      <th>...</th>\n",
       "      <th>20</th>\n",
       "      <th>21</th>\n",
       "      <th>22</th>\n",
       "      <th>23</th>\n",
       "      <th>24</th>\n",
       "      <th>25</th>\n",
       "      <th>26</th>\n",
       "      <th>27</th>\n",
       "      <th>28</th>\n",
       "      <th>29</th>\n",
       "    </tr>\n",
       "  </thead>\n",
       "  <tbody>\n",
       "    <tr>\n",
       "      <th>0</th>\n",
       "      <td>{TV</td>\n",
       "      <td>\"Cable TV\"</td>\n",
       "      <td>Internet</td>\n",
       "      <td>\"Wireless Internet\"</td>\n",
       "      <td>\"Air Conditioning\"</td>\n",
       "      <td>Kitchen</td>\n",
       "      <td>Heating</td>\n",
       "      <td>\"Family/Kid Friendly\"</td>\n",
       "      <td>Washer</td>\n",
       "      <td>Dryer}</td>\n",
       "      <td>...</td>\n",
       "      <td>None</td>\n",
       "      <td>None</td>\n",
       "      <td>None</td>\n",
       "      <td>None</td>\n",
       "      <td>None</td>\n",
       "      <td>None</td>\n",
       "      <td>None</td>\n",
       "      <td>None</td>\n",
       "      <td>None</td>\n",
       "      <td>None</td>\n",
       "    </tr>\n",
       "    <tr>\n",
       "      <th>1</th>\n",
       "      <td>{TV</td>\n",
       "      <td>Internet</td>\n",
       "      <td>\"Wireless Internet\"</td>\n",
       "      <td>Kitchen</td>\n",
       "      <td>\"Free Parking on Premises\"</td>\n",
       "      <td>\"Buzzer/Wireless Intercom\"</td>\n",
       "      <td>Heating</td>\n",
       "      <td>\"Family/Kid Friendly\"</td>\n",
       "      <td>Washer</td>\n",
       "      <td>Dryer</td>\n",
       "      <td>...</td>\n",
       "      <td>None</td>\n",
       "      <td>None</td>\n",
       "      <td>None</td>\n",
       "      <td>None</td>\n",
       "      <td>None</td>\n",
       "      <td>None</td>\n",
       "      <td>None</td>\n",
       "      <td>None</td>\n",
       "      <td>None</td>\n",
       "      <td>None</td>\n",
       "    </tr>\n",
       "    <tr>\n",
       "      <th>2</th>\n",
       "      <td>{TV</td>\n",
       "      <td>\"Cable TV\"</td>\n",
       "      <td>Internet</td>\n",
       "      <td>\"Wireless Internet\"</td>\n",
       "      <td>\"Air Conditioning\"</td>\n",
       "      <td>Kitchen</td>\n",
       "      <td>\"Free Parking on Premises\"</td>\n",
       "      <td>\"Pets Allowed\"</td>\n",
       "      <td>\"Pets live on this property\"</td>\n",
       "      <td>Dog(s)</td>\n",
       "      <td>...</td>\n",
       "      <td>Shampoo}</td>\n",
       "      <td>None</td>\n",
       "      <td>None</td>\n",
       "      <td>None</td>\n",
       "      <td>None</td>\n",
       "      <td>None</td>\n",
       "      <td>None</td>\n",
       "      <td>None</td>\n",
       "      <td>None</td>\n",
       "      <td>None</td>\n",
       "    </tr>\n",
       "    <tr>\n",
       "      <th>4</th>\n",
       "      <td>{TV</td>\n",
       "      <td>\"Cable TV\"</td>\n",
       "      <td>Internet</td>\n",
       "      <td>\"Wireless Internet\"</td>\n",
       "      <td>Kitchen</td>\n",
       "      <td>Heating</td>\n",
       "      <td>\"Family/Kid Friendly\"</td>\n",
       "      <td>\"Smoke Detector\"</td>\n",
       "      <td>\"Carbon Monoxide Detector\"</td>\n",
       "      <td>\"First Aid Kit\"</td>\n",
       "      <td>...</td>\n",
       "      <td>None</td>\n",
       "      <td>None</td>\n",
       "      <td>None</td>\n",
       "      <td>None</td>\n",
       "      <td>None</td>\n",
       "      <td>None</td>\n",
       "      <td>None</td>\n",
       "      <td>None</td>\n",
       "      <td>None</td>\n",
       "      <td>None</td>\n",
       "    </tr>\n",
       "    <tr>\n",
       "      <th>5</th>\n",
       "      <td>{\"Wireless Internet\"</td>\n",
       "      <td>\"Free Parking on Premises\"</td>\n",
       "      <td>Heating</td>\n",
       "      <td>\"Smoke Detector\"</td>\n",
       "      <td>Essentials</td>\n",
       "      <td>Shampoo}</td>\n",
       "      <td>None</td>\n",
       "      <td>None</td>\n",
       "      <td>None</td>\n",
       "      <td>None</td>\n",
       "      <td>...</td>\n",
       "      <td>None</td>\n",
       "      <td>None</td>\n",
       "      <td>None</td>\n",
       "      <td>None</td>\n",
       "      <td>None</td>\n",
       "      <td>None</td>\n",
       "      <td>None</td>\n",
       "      <td>None</td>\n",
       "      <td>None</td>\n",
       "      <td>None</td>\n",
       "    </tr>\n",
       "  </tbody>\n",
       "</table>\n",
       "<p>5 rows × 30 columns</p>\n",
       "</div>"
      ],
      "text/plain": [
       "                     0                           1                    2   \\\n",
       "0                   {TV                  \"Cable TV\"             Internet   \n",
       "1                   {TV                    Internet  \"Wireless Internet\"   \n",
       "2                   {TV                  \"Cable TV\"             Internet   \n",
       "4                   {TV                  \"Cable TV\"             Internet   \n",
       "5  {\"Wireless Internet\"  \"Free Parking on Premises\"              Heating   \n",
       "\n",
       "                    3                           4   \\\n",
       "0  \"Wireless Internet\"          \"Air Conditioning\"   \n",
       "1              Kitchen  \"Free Parking on Premises\"   \n",
       "2  \"Wireless Internet\"          \"Air Conditioning\"   \n",
       "4  \"Wireless Internet\"                     Kitchen   \n",
       "5     \"Smoke Detector\"                  Essentials   \n",
       "\n",
       "                           5                           6   \\\n",
       "0                     Kitchen                     Heating   \n",
       "1  \"Buzzer/Wireless Intercom\"                     Heating   \n",
       "2                     Kitchen  \"Free Parking on Premises\"   \n",
       "4                     Heating       \"Family/Kid Friendly\"   \n",
       "5                    Shampoo}                        None   \n",
       "\n",
       "                      7                             8                9   ...  \\\n",
       "0  \"Family/Kid Friendly\"                        Washer           Dryer}  ...   \n",
       "1  \"Family/Kid Friendly\"                        Washer            Dryer  ...   \n",
       "2         \"Pets Allowed\"  \"Pets live on this property\"           Dog(s)  ...   \n",
       "4       \"Smoke Detector\"    \"Carbon Monoxide Detector\"  \"First Aid Kit\"  ...   \n",
       "5                   None                          None             None  ...   \n",
       "\n",
       "         20    21    22    23    24    25    26    27    28    29  \n",
       "0      None  None  None  None  None  None  None  None  None  None  \n",
       "1      None  None  None  None  None  None  None  None  None  None  \n",
       "2  Shampoo}  None  None  None  None  None  None  None  None  None  \n",
       "4      None  None  None  None  None  None  None  None  None  None  \n",
       "5      None  None  None  None  None  None  None  None  None  None  \n",
       "\n",
       "[5 rows x 30 columns]"
      ]
     },
     "execution_count": 134,
     "metadata": {},
     "output_type": "execute_result"
    }
   ],
   "source": [
    "amenities = features['amenities'].str.split(',',expand=True)\n",
    "amenities.head()"
   ]
  },
  {
   "cell_type": "code",
   "execution_count": 135,
   "metadata": {
    "execution": {
     "iopub.execute_input": "2023-01-02T06:57:52.040151Z",
     "iopub.status.busy": "2023-01-02T06:57:52.039679Z",
     "iopub.status.idle": "2023-01-02T06:57:52.218895Z",
     "shell.execute_reply": "2023-01-02T06:57:52.218039Z",
     "shell.execute_reply.started": "2023-01-02T06:57:52.040107Z"
    }
   },
   "outputs": [
    {
     "data": {
      "text/html": [
       "<div>\n",
       "<style scoped>\n",
       "    .dataframe tbody tr th:only-of-type {\n",
       "        vertical-align: middle;\n",
       "    }\n",
       "\n",
       "    .dataframe tbody tr th {\n",
       "        vertical-align: top;\n",
       "    }\n",
       "\n",
       "    .dataframe thead th {\n",
       "        text-align: right;\n",
       "    }\n",
       "</style>\n",
       "<table border=\"1\" class=\"dataframe\">\n",
       "  <thead>\n",
       "    <tr style=\"text-align: right;\">\n",
       "      <th></th>\n",
       "      <th>0</th>\n",
       "      <th>1</th>\n",
       "      <th>2</th>\n",
       "      <th>3</th>\n",
       "      <th>4</th>\n",
       "      <th>5</th>\n",
       "      <th>6</th>\n",
       "      <th>7</th>\n",
       "      <th>8</th>\n",
       "      <th>9</th>\n",
       "      <th>...</th>\n",
       "      <th>20</th>\n",
       "      <th>21</th>\n",
       "      <th>22</th>\n",
       "      <th>23</th>\n",
       "      <th>24</th>\n",
       "      <th>25</th>\n",
       "      <th>26</th>\n",
       "      <th>27</th>\n",
       "      <th>28</th>\n",
       "      <th>29</th>\n",
       "    </tr>\n",
       "  </thead>\n",
       "  <tbody>\n",
       "    <tr>\n",
       "      <th>0</th>\n",
       "      <td>TV</td>\n",
       "      <td>Cable TV</td>\n",
       "      <td>Internet</td>\n",
       "      <td>Wireless Internet</td>\n",
       "      <td>Air Conditioning</td>\n",
       "      <td>Kitchen</td>\n",
       "      <td>Heating</td>\n",
       "      <td>FamilyKid Friendly</td>\n",
       "      <td>Washer</td>\n",
       "      <td>Dryer</td>\n",
       "      <td>...</td>\n",
       "      <td>None</td>\n",
       "      <td>None</td>\n",
       "      <td>None</td>\n",
       "      <td>None</td>\n",
       "      <td>None</td>\n",
       "      <td>None</td>\n",
       "      <td>None</td>\n",
       "      <td>None</td>\n",
       "      <td>None</td>\n",
       "      <td>None</td>\n",
       "    </tr>\n",
       "    <tr>\n",
       "      <th>1</th>\n",
       "      <td>TV</td>\n",
       "      <td>Internet</td>\n",
       "      <td>Wireless Internet</td>\n",
       "      <td>Kitchen</td>\n",
       "      <td>Free Parking on Premises</td>\n",
       "      <td>BuzzerWireless Intercom</td>\n",
       "      <td>Heating</td>\n",
       "      <td>FamilyKid Friendly</td>\n",
       "      <td>Washer</td>\n",
       "      <td>Dryer</td>\n",
       "      <td>...</td>\n",
       "      <td>None</td>\n",
       "      <td>None</td>\n",
       "      <td>None</td>\n",
       "      <td>None</td>\n",
       "      <td>None</td>\n",
       "      <td>None</td>\n",
       "      <td>None</td>\n",
       "      <td>None</td>\n",
       "      <td>None</td>\n",
       "      <td>None</td>\n",
       "    </tr>\n",
       "    <tr>\n",
       "      <th>2</th>\n",
       "      <td>TV</td>\n",
       "      <td>Cable TV</td>\n",
       "      <td>Internet</td>\n",
       "      <td>Wireless Internet</td>\n",
       "      <td>Air Conditioning</td>\n",
       "      <td>Kitchen</td>\n",
       "      <td>Free Parking on Premises</td>\n",
       "      <td>Pets Allowed</td>\n",
       "      <td>Pets live on this property</td>\n",
       "      <td>Dogs</td>\n",
       "      <td>...</td>\n",
       "      <td>Shampoo</td>\n",
       "      <td>None</td>\n",
       "      <td>None</td>\n",
       "      <td>None</td>\n",
       "      <td>None</td>\n",
       "      <td>None</td>\n",
       "      <td>None</td>\n",
       "      <td>None</td>\n",
       "      <td>None</td>\n",
       "      <td>None</td>\n",
       "    </tr>\n",
       "    <tr>\n",
       "      <th>4</th>\n",
       "      <td>TV</td>\n",
       "      <td>Cable TV</td>\n",
       "      <td>Internet</td>\n",
       "      <td>Wireless Internet</td>\n",
       "      <td>Kitchen</td>\n",
       "      <td>Heating</td>\n",
       "      <td>FamilyKid Friendly</td>\n",
       "      <td>Smoke Detector</td>\n",
       "      <td>Carbon Monoxide Detector</td>\n",
       "      <td>First Aid Kit</td>\n",
       "      <td>...</td>\n",
       "      <td>None</td>\n",
       "      <td>None</td>\n",
       "      <td>None</td>\n",
       "      <td>None</td>\n",
       "      <td>None</td>\n",
       "      <td>None</td>\n",
       "      <td>None</td>\n",
       "      <td>None</td>\n",
       "      <td>None</td>\n",
       "      <td>None</td>\n",
       "    </tr>\n",
       "    <tr>\n",
       "      <th>5</th>\n",
       "      <td>Wireless Internet</td>\n",
       "      <td>Free Parking on Premises</td>\n",
       "      <td>Heating</td>\n",
       "      <td>Smoke Detector</td>\n",
       "      <td>Essentials</td>\n",
       "      <td>Shampoo</td>\n",
       "      <td>None</td>\n",
       "      <td>None</td>\n",
       "      <td>None</td>\n",
       "      <td>None</td>\n",
       "      <td>...</td>\n",
       "      <td>None</td>\n",
       "      <td>None</td>\n",
       "      <td>None</td>\n",
       "      <td>None</td>\n",
       "      <td>None</td>\n",
       "      <td>None</td>\n",
       "      <td>None</td>\n",
       "      <td>None</td>\n",
       "      <td>None</td>\n",
       "      <td>None</td>\n",
       "    </tr>\n",
       "  </tbody>\n",
       "</table>\n",
       "<p>5 rows × 30 columns</p>\n",
       "</div>"
      ],
      "text/plain": [
       "                  0                         1                  2   \\\n",
       "0                 TV                  Cable TV           Internet   \n",
       "1                 TV                  Internet  Wireless Internet   \n",
       "2                 TV                  Cable TV           Internet   \n",
       "4                 TV                  Cable TV           Internet   \n",
       "5  Wireless Internet  Free Parking on Premises            Heating   \n",
       "\n",
       "                  3                         4                        5   \\\n",
       "0  Wireless Internet          Air Conditioning                  Kitchen   \n",
       "1            Kitchen  Free Parking on Premises  BuzzerWireless Intercom   \n",
       "2  Wireless Internet          Air Conditioning                  Kitchen   \n",
       "4  Wireless Internet                   Kitchen                  Heating   \n",
       "5     Smoke Detector                Essentials                  Shampoo   \n",
       "\n",
       "                         6                   7                           8   \\\n",
       "0                   Heating  FamilyKid Friendly                      Washer   \n",
       "1                   Heating  FamilyKid Friendly                      Washer   \n",
       "2  Free Parking on Premises        Pets Allowed  Pets live on this property   \n",
       "4        FamilyKid Friendly      Smoke Detector    Carbon Monoxide Detector   \n",
       "5                      None                None                        None   \n",
       "\n",
       "              9   ...       20    21    22    23    24    25    26    27  \\\n",
       "0          Dryer  ...     None  None  None  None  None  None  None  None   \n",
       "1          Dryer  ...     None  None  None  None  None  None  None  None   \n",
       "2           Dogs  ...  Shampoo  None  None  None  None  None  None  None   \n",
       "4  First Aid Kit  ...     None  None  None  None  None  None  None  None   \n",
       "5           None  ...     None  None  None  None  None  None  None  None   \n",
       "\n",
       "     28    29  \n",
       "0  None  None  \n",
       "1  None  None  \n",
       "2  None  None  \n",
       "4  None  None  \n",
       "5  None  None  \n",
       "\n",
       "[5 rows x 30 columns]"
      ]
     },
     "execution_count": 135,
     "metadata": {},
     "output_type": "execute_result"
    }
   ],
   "source": [
    "#Remove quotes, brackets, etc. from amenities\n",
    "amenities.replace('[^\\w\\s]','', regex=True, inplace = True)\n",
    "amenities.head()"
   ]
  },
  {
   "cell_type": "code",
   "execution_count": 136,
   "metadata": {
    "execution": {
     "iopub.execute_input": "2023-01-02T06:57:52.221179Z",
     "iopub.status.busy": "2023-01-02T06:57:52.220157Z",
     "iopub.status.idle": "2023-01-02T06:57:52.240893Z",
     "shell.execute_reply": "2023-01-02T06:57:52.239864Z",
     "shell.execute_reply.started": "2023-01-02T06:57:52.221141Z"
    }
   },
   "outputs": [
    {
     "name": "stdout",
     "output_type": "stream",
     "text": [
      "['Smoking Allowed', 'Pets live on this property', 'Breakfast', 'Cable TV', 'Dogs', 'Suitable for Events', 'Other pets', 'Hair Dryer', 'TV', 'Essentials', 'Doorman', 'Pets Allowed', 'Cats', 'Wheelchair Accessible', 'Elevator in Building', 'Wireless Internet', 'Gym', 'First Aid Kit', 'Air Conditioning', 'Carbon Monoxide Detector', 'Kitchen', 'Free Parking on Premises', 'Hangers', 'Safety Card', 'Internet', 'Dryer', 'Pool', 'Laptop Friendly Workspace', 'Lock on Bedroom Door', 'Fire Extinguisher', 'Heating', 'Washer  Dryer', 'Iron', 'FamilyKid Friendly', 'Smoke Detector', 'Shampoo', 'Hot Tub', '24Hour Checkin', 'BuzzerWireless Intercom', None, 'Indoor Fireplace', 'Washer']\n"
     ]
    }
   ],
   "source": [
    "amenities_names = [amenities[i].unique().tolist() for i in amenities.columns.values]\n",
    "#amenities_name\n",
    "\n",
    "import itertools\n",
    "#Creates a list of all the amenities extracted\n",
    "all_amenities=list(itertools.chain.from_iterable(amenities_names))\n",
    "\n",
    "#Uses set() to get unique values only\n",
    "amenities_unique = set(all_amenities)\n",
    "\n",
    "#Remove 'None' and ''\n",
    "amenities_unique = list(set(amenities_unique) - {'', 'None'})\n",
    "print(amenities_unique)"
   ]
  },
  {
   "cell_type": "code",
   "execution_count": 137,
   "metadata": {
    "execution": {
     "iopub.execute_input": "2023-01-02T06:57:52.242698Z",
     "iopub.status.busy": "2023-01-02T06:57:52.242283Z",
     "iopub.status.idle": "2023-01-02T06:57:52.832447Z",
     "shell.execute_reply": "2023-01-02T06:57:52.831327Z",
     "shell.execute_reply.started": "2023-01-02T06:57:52.242664Z"
    }
   },
   "outputs": [],
   "source": [
    "#Create individual columns for each ammenity\n",
    "for num in amenities.columns.values:\n",
    "    for amenity in amenities_unique:\n",
    "        amenities[amenity] = np.where(amenities[num] == amenity, 1, 0)\n",
    "\n",
    "#Drops the numeric columns\n",
    "amenities.drop(columns=[x for x in range(30)],inplace=True)"
   ]
  },
  {
   "cell_type": "code",
   "execution_count": 138,
   "metadata": {
    "execution": {
     "iopub.execute_input": "2023-01-02T06:57:52.834494Z",
     "iopub.status.busy": "2023-01-02T06:57:52.834020Z",
     "iopub.status.idle": "2023-01-02T06:57:52.854343Z",
     "shell.execute_reply": "2023-01-02T06:57:52.852929Z",
     "shell.execute_reply.started": "2023-01-02T06:57:52.834431Z"
    }
   },
   "outputs": [
    {
     "data": {
      "text/html": [
       "<div>\n",
       "<style scoped>\n",
       "    .dataframe tbody tr th:only-of-type {\n",
       "        vertical-align: middle;\n",
       "    }\n",
       "\n",
       "    .dataframe tbody tr th {\n",
       "        vertical-align: top;\n",
       "    }\n",
       "\n",
       "    .dataframe thead th {\n",
       "        text-align: right;\n",
       "    }\n",
       "</style>\n",
       "<table border=\"1\" class=\"dataframe\">\n",
       "  <thead>\n",
       "    <tr style=\"text-align: right;\">\n",
       "      <th></th>\n",
       "      <th>Smoking Allowed</th>\n",
       "      <th>Pets live on this property</th>\n",
       "      <th>Breakfast</th>\n",
       "      <th>Cable TV</th>\n",
       "      <th>Dogs</th>\n",
       "      <th>Suitable for Events</th>\n",
       "      <th>Other pets</th>\n",
       "      <th>Hair Dryer</th>\n",
       "      <th>TV</th>\n",
       "      <th>Essentials</th>\n",
       "      <th>...</th>\n",
       "      <th>Iron</th>\n",
       "      <th>FamilyKid Friendly</th>\n",
       "      <th>Smoke Detector</th>\n",
       "      <th>Shampoo</th>\n",
       "      <th>Hot Tub</th>\n",
       "      <th>24Hour Checkin</th>\n",
       "      <th>BuzzerWireless Intercom</th>\n",
       "      <th>NaN</th>\n",
       "      <th>Indoor Fireplace</th>\n",
       "      <th>Washer</th>\n",
       "    </tr>\n",
       "  </thead>\n",
       "  <tbody>\n",
       "    <tr>\n",
       "      <th>0</th>\n",
       "      <td>0</td>\n",
       "      <td>0</td>\n",
       "      <td>0</td>\n",
       "      <td>0</td>\n",
       "      <td>0</td>\n",
       "      <td>0</td>\n",
       "      <td>0</td>\n",
       "      <td>0</td>\n",
       "      <td>0</td>\n",
       "      <td>0</td>\n",
       "      <td>...</td>\n",
       "      <td>0</td>\n",
       "      <td>0</td>\n",
       "      <td>0</td>\n",
       "      <td>0</td>\n",
       "      <td>0</td>\n",
       "      <td>0</td>\n",
       "      <td>0</td>\n",
       "      <td>0</td>\n",
       "      <td>0</td>\n",
       "      <td>0</td>\n",
       "    </tr>\n",
       "    <tr>\n",
       "      <th>1</th>\n",
       "      <td>0</td>\n",
       "      <td>0</td>\n",
       "      <td>0</td>\n",
       "      <td>0</td>\n",
       "      <td>0</td>\n",
       "      <td>0</td>\n",
       "      <td>0</td>\n",
       "      <td>0</td>\n",
       "      <td>0</td>\n",
       "      <td>0</td>\n",
       "      <td>...</td>\n",
       "      <td>0</td>\n",
       "      <td>0</td>\n",
       "      <td>0</td>\n",
       "      <td>0</td>\n",
       "      <td>0</td>\n",
       "      <td>0</td>\n",
       "      <td>0</td>\n",
       "      <td>0</td>\n",
       "      <td>0</td>\n",
       "      <td>0</td>\n",
       "    </tr>\n",
       "    <tr>\n",
       "      <th>2</th>\n",
       "      <td>0</td>\n",
       "      <td>0</td>\n",
       "      <td>0</td>\n",
       "      <td>0</td>\n",
       "      <td>0</td>\n",
       "      <td>0</td>\n",
       "      <td>0</td>\n",
       "      <td>0</td>\n",
       "      <td>0</td>\n",
       "      <td>0</td>\n",
       "      <td>...</td>\n",
       "      <td>0</td>\n",
       "      <td>0</td>\n",
       "      <td>0</td>\n",
       "      <td>0</td>\n",
       "      <td>0</td>\n",
       "      <td>0</td>\n",
       "      <td>0</td>\n",
       "      <td>0</td>\n",
       "      <td>0</td>\n",
       "      <td>0</td>\n",
       "    </tr>\n",
       "    <tr>\n",
       "      <th>4</th>\n",
       "      <td>0</td>\n",
       "      <td>0</td>\n",
       "      <td>0</td>\n",
       "      <td>0</td>\n",
       "      <td>0</td>\n",
       "      <td>0</td>\n",
       "      <td>0</td>\n",
       "      <td>0</td>\n",
       "      <td>0</td>\n",
       "      <td>0</td>\n",
       "      <td>...</td>\n",
       "      <td>0</td>\n",
       "      <td>0</td>\n",
       "      <td>0</td>\n",
       "      <td>0</td>\n",
       "      <td>0</td>\n",
       "      <td>0</td>\n",
       "      <td>0</td>\n",
       "      <td>0</td>\n",
       "      <td>0</td>\n",
       "      <td>0</td>\n",
       "    </tr>\n",
       "    <tr>\n",
       "      <th>5</th>\n",
       "      <td>0</td>\n",
       "      <td>0</td>\n",
       "      <td>0</td>\n",
       "      <td>0</td>\n",
       "      <td>0</td>\n",
       "      <td>0</td>\n",
       "      <td>0</td>\n",
       "      <td>0</td>\n",
       "      <td>0</td>\n",
       "      <td>0</td>\n",
       "      <td>...</td>\n",
       "      <td>0</td>\n",
       "      <td>0</td>\n",
       "      <td>0</td>\n",
       "      <td>0</td>\n",
       "      <td>0</td>\n",
       "      <td>0</td>\n",
       "      <td>0</td>\n",
       "      <td>0</td>\n",
       "      <td>0</td>\n",
       "      <td>0</td>\n",
       "    </tr>\n",
       "  </tbody>\n",
       "</table>\n",
       "<p>5 rows × 42 columns</p>\n",
       "</div>"
      ],
      "text/plain": [
       "   Smoking Allowed  Pets live on this property  Breakfast  Cable TV  Dogs  \\\n",
       "0                0                           0          0         0     0   \n",
       "1                0                           0          0         0     0   \n",
       "2                0                           0          0         0     0   \n",
       "4                0                           0          0         0     0   \n",
       "5                0                           0          0         0     0   \n",
       "\n",
       "   Suitable for Events  Other pets  Hair Dryer  TV  Essentials  ...  Iron  \\\n",
       "0                    0           0           0   0           0  ...     0   \n",
       "1                    0           0           0   0           0  ...     0   \n",
       "2                    0           0           0   0           0  ...     0   \n",
       "4                    0           0           0   0           0  ...     0   \n",
       "5                    0           0           0   0           0  ...     0   \n",
       "\n",
       "   FamilyKid Friendly  Smoke Detector  Shampoo  Hot Tub  24Hour Checkin  \\\n",
       "0                   0               0        0        0               0   \n",
       "1                   0               0        0        0               0   \n",
       "2                   0               0        0        0               0   \n",
       "4                   0               0        0        0               0   \n",
       "5                   0               0        0        0               0   \n",
       "\n",
       "   BuzzerWireless Intercom  NaN  Indoor Fireplace  Washer  \n",
       "0                        0    0                 0       0  \n",
       "1                        0    0                 0       0  \n",
       "2                        0    0                 0       0  \n",
       "4                        0    0                 0       0  \n",
       "5                        0    0                 0       0  \n",
       "\n",
       "[5 rows x 42 columns]"
      ]
     },
     "execution_count": 138,
     "metadata": {},
     "output_type": "execute_result"
    }
   ],
   "source": [
    "amenities.head()"
   ]
  },
  {
   "cell_type": "markdown",
   "metadata": {},
   "source": [
    "Now we can merge this dataframe with features"
   ]
  },
  {
   "cell_type": "code",
   "execution_count": 139,
   "metadata": {
    "execution": {
     "iopub.execute_input": "2023-01-02T06:57:52.856785Z",
     "iopub.status.busy": "2023-01-02T06:57:52.856069Z",
     "iopub.status.idle": "2023-01-02T06:57:52.892680Z",
     "shell.execute_reply": "2023-01-02T06:57:52.891471Z",
     "shell.execute_reply.started": "2023-01-02T06:57:52.856724Z"
    }
   },
   "outputs": [
    {
     "data": {
      "text/html": [
       "<div>\n",
       "<style scoped>\n",
       "    .dataframe tbody tr th:only-of-type {\n",
       "        vertical-align: middle;\n",
       "    }\n",
       "\n",
       "    .dataframe tbody tr th {\n",
       "        vertical-align: top;\n",
       "    }\n",
       "\n",
       "    .dataframe thead th {\n",
       "        text-align: right;\n",
       "    }\n",
       "</style>\n",
       "<table border=\"1\" class=\"dataframe\">\n",
       "  <thead>\n",
       "    <tr style=\"text-align: right;\">\n",
       "      <th></th>\n",
       "      <th>name</th>\n",
       "      <th>summary</th>\n",
       "      <th>space</th>\n",
       "      <th>description</th>\n",
       "      <th>transit</th>\n",
       "      <th>host_response_time</th>\n",
       "      <th>host_response_rate</th>\n",
       "      <th>host_is_superhost</th>\n",
       "      <th>host_listings_count</th>\n",
       "      <th>host_total_listings_count</th>\n",
       "      <th>...</th>\n",
       "      <th>Iron</th>\n",
       "      <th>FamilyKid Friendly</th>\n",
       "      <th>Smoke Detector</th>\n",
       "      <th>Shampoo</th>\n",
       "      <th>Hot Tub</th>\n",
       "      <th>24Hour Checkin</th>\n",
       "      <th>BuzzerWireless Intercom</th>\n",
       "      <th>NaN</th>\n",
       "      <th>Indoor Fireplace</th>\n",
       "      <th>Washer</th>\n",
       "    </tr>\n",
       "  </thead>\n",
       "  <tbody>\n",
       "    <tr>\n",
       "      <th>0</th>\n",
       "      <td>1</td>\n",
       "      <td>1</td>\n",
       "      <td>1</td>\n",
       "      <td>1</td>\n",
       "      <td>1</td>\n",
       "      <td>within a few hours</td>\n",
       "      <td>0.96</td>\n",
       "      <td>0</td>\n",
       "      <td>3.0</td>\n",
       "      <td>3.0</td>\n",
       "      <td>...</td>\n",
       "      <td>0</td>\n",
       "      <td>0</td>\n",
       "      <td>0</td>\n",
       "      <td>0</td>\n",
       "      <td>0</td>\n",
       "      <td>0</td>\n",
       "      <td>0</td>\n",
       "      <td>0</td>\n",
       "      <td>0</td>\n",
       "      <td>0</td>\n",
       "    </tr>\n",
       "    <tr>\n",
       "      <th>1</th>\n",
       "      <td>1</td>\n",
       "      <td>1</td>\n",
       "      <td>1</td>\n",
       "      <td>1</td>\n",
       "      <td>1</td>\n",
       "      <td>within an hour</td>\n",
       "      <td>0.98</td>\n",
       "      <td>1</td>\n",
       "      <td>6.0</td>\n",
       "      <td>6.0</td>\n",
       "      <td>...</td>\n",
       "      <td>0</td>\n",
       "      <td>0</td>\n",
       "      <td>0</td>\n",
       "      <td>0</td>\n",
       "      <td>0</td>\n",
       "      <td>0</td>\n",
       "      <td>0</td>\n",
       "      <td>0</td>\n",
       "      <td>0</td>\n",
       "      <td>0</td>\n",
       "    </tr>\n",
       "    <tr>\n",
       "      <th>2</th>\n",
       "      <td>1</td>\n",
       "      <td>1</td>\n",
       "      <td>1</td>\n",
       "      <td>1</td>\n",
       "      <td>1</td>\n",
       "      <td>within a few hours</td>\n",
       "      <td>0.67</td>\n",
       "      <td>0</td>\n",
       "      <td>2.0</td>\n",
       "      <td>2.0</td>\n",
       "      <td>...</td>\n",
       "      <td>0</td>\n",
       "      <td>0</td>\n",
       "      <td>0</td>\n",
       "      <td>0</td>\n",
       "      <td>0</td>\n",
       "      <td>0</td>\n",
       "      <td>0</td>\n",
       "      <td>0</td>\n",
       "      <td>0</td>\n",
       "      <td>0</td>\n",
       "    </tr>\n",
       "    <tr>\n",
       "      <th>4</th>\n",
       "      <td>1</td>\n",
       "      <td>1</td>\n",
       "      <td>1</td>\n",
       "      <td>1</td>\n",
       "      <td>1</td>\n",
       "      <td>within an hour</td>\n",
       "      <td>1.00</td>\n",
       "      <td>0</td>\n",
       "      <td>2.0</td>\n",
       "      <td>2.0</td>\n",
       "      <td>...</td>\n",
       "      <td>0</td>\n",
       "      <td>0</td>\n",
       "      <td>0</td>\n",
       "      <td>0</td>\n",
       "      <td>0</td>\n",
       "      <td>0</td>\n",
       "      <td>0</td>\n",
       "      <td>0</td>\n",
       "      <td>0</td>\n",
       "      <td>0</td>\n",
       "    </tr>\n",
       "    <tr>\n",
       "      <th>5</th>\n",
       "      <td>1</td>\n",
       "      <td>1</td>\n",
       "      <td>1</td>\n",
       "      <td>1</td>\n",
       "      <td>1</td>\n",
       "      <td>NaN</td>\n",
       "      <td>NaN</td>\n",
       "      <td>0</td>\n",
       "      <td>1.0</td>\n",
       "      <td>1.0</td>\n",
       "      <td>...</td>\n",
       "      <td>0</td>\n",
       "      <td>0</td>\n",
       "      <td>0</td>\n",
       "      <td>0</td>\n",
       "      <td>0</td>\n",
       "      <td>0</td>\n",
       "      <td>0</td>\n",
       "      <td>0</td>\n",
       "      <td>0</td>\n",
       "      <td>0</td>\n",
       "    </tr>\n",
       "  </tbody>\n",
       "</table>\n",
       "<p>5 rows × 85 columns</p>\n",
       "</div>"
      ],
      "text/plain": [
       "   name  summary  space  description  transit  host_response_time  \\\n",
       "0     1        1      1            1        1  within a few hours   \n",
       "1     1        1      1            1        1      within an hour   \n",
       "2     1        1      1            1        1  within a few hours   \n",
       "4     1        1      1            1        1      within an hour   \n",
       "5     1        1      1            1        1                 NaN   \n",
       "\n",
       "   host_response_rate  host_is_superhost  host_listings_count  \\\n",
       "0                0.96                  0                  3.0   \n",
       "1                0.98                  1                  6.0   \n",
       "2                0.67                  0                  2.0   \n",
       "4                1.00                  0                  2.0   \n",
       "5                 NaN                  0                  1.0   \n",
       "\n",
       "   host_total_listings_count  ...  Iron  FamilyKid Friendly Smoke Detector  \\\n",
       "0                        3.0  ...     0                   0              0   \n",
       "1                        6.0  ...     0                   0              0   \n",
       "2                        2.0  ...     0                   0              0   \n",
       "4                        2.0  ...     0                   0              0   \n",
       "5                        1.0  ...     0                   0              0   \n",
       "\n",
       "   Shampoo Hot Tub 24Hour Checkin  BuzzerWireless Intercom  NaN  \\\n",
       "0        0       0              0                        0    0   \n",
       "1        0       0              0                        0    0   \n",
       "2        0       0              0                        0    0   \n",
       "4        0       0              0                        0    0   \n",
       "5        0       0              0                        0    0   \n",
       "\n",
       "   Indoor Fireplace  Washer  \n",
       "0                 0       0  \n",
       "1                 0       0  \n",
       "2                 0       0  \n",
       "4                 0       0  \n",
       "5                 0       0  \n",
       "\n",
       "[5 rows x 85 columns]"
      ]
     },
     "execution_count": 139,
     "metadata": {},
     "output_type": "execute_result"
    }
   ],
   "source": [
    "# Merges amenities with features based on index\n",
    "features = features.join(amenities, how = 'left')\n",
    "\n",
    "# Drop amenities\n",
    "features.drop(['amenities'], axis = 1, inplace = True)\n",
    "features.head()"
   ]
  },
  {
   "cell_type": "markdown",
   "metadata": {},
   "source": [
    "Now we can get dummies for the rest of the categorical variables"
   ]
  },
  {
   "cell_type": "code",
   "execution_count": 140,
   "metadata": {
    "execution": {
     "iopub.execute_input": "2023-01-02T06:57:52.895503Z",
     "iopub.status.busy": "2023-01-02T06:57:52.894736Z",
     "iopub.status.idle": "2023-01-02T06:57:52.933852Z",
     "shell.execute_reply": "2023-01-02T06:57:52.932486Z",
     "shell.execute_reply.started": "2023-01-02T06:57:52.895436Z"
    }
   },
   "outputs": [
    {
     "data": {
      "text/html": [
       "<div>\n",
       "<style scoped>\n",
       "    .dataframe tbody tr th:only-of-type {\n",
       "        vertical-align: middle;\n",
       "    }\n",
       "\n",
       "    .dataframe tbody tr th {\n",
       "        vertical-align: top;\n",
       "    }\n",
       "\n",
       "    .dataframe thead th {\n",
       "        text-align: right;\n",
       "    }\n",
       "</style>\n",
       "<table border=\"1\" class=\"dataframe\">\n",
       "  <thead>\n",
       "    <tr style=\"text-align: right;\">\n",
       "      <th></th>\n",
       "      <th>name</th>\n",
       "      <th>summary</th>\n",
       "      <th>space</th>\n",
       "      <th>description</th>\n",
       "      <th>transit</th>\n",
       "      <th>host_response_rate</th>\n",
       "      <th>host_is_superhost</th>\n",
       "      <th>host_listings_count</th>\n",
       "      <th>host_total_listings_count</th>\n",
       "      <th>host_has_profile_pic</th>\n",
       "      <th>...</th>\n",
       "      <th>room_type_Private room</th>\n",
       "      <th>room_type_Shared room</th>\n",
       "      <th>bed_type_Airbed</th>\n",
       "      <th>bed_type_Couch</th>\n",
       "      <th>bed_type_Futon</th>\n",
       "      <th>bed_type_Pull-out Sofa</th>\n",
       "      <th>bed_type_Real Bed</th>\n",
       "      <th>cancellation_policy_flexible</th>\n",
       "      <th>cancellation_policy_moderate</th>\n",
       "      <th>cancellation_policy_strict</th>\n",
       "    </tr>\n",
       "  </thead>\n",
       "  <tbody>\n",
       "    <tr>\n",
       "      <th>0</th>\n",
       "      <td>1</td>\n",
       "      <td>1</td>\n",
       "      <td>1</td>\n",
       "      <td>1</td>\n",
       "      <td>1</td>\n",
       "      <td>0.96</td>\n",
       "      <td>0</td>\n",
       "      <td>3.0</td>\n",
       "      <td>3.0</td>\n",
       "      <td>1</td>\n",
       "      <td>...</td>\n",
       "      <td>0</td>\n",
       "      <td>0</td>\n",
       "      <td>0</td>\n",
       "      <td>0</td>\n",
       "      <td>0</td>\n",
       "      <td>0</td>\n",
       "      <td>1</td>\n",
       "      <td>0</td>\n",
       "      <td>1</td>\n",
       "      <td>0</td>\n",
       "    </tr>\n",
       "    <tr>\n",
       "      <th>1</th>\n",
       "      <td>1</td>\n",
       "      <td>1</td>\n",
       "      <td>1</td>\n",
       "      <td>1</td>\n",
       "      <td>1</td>\n",
       "      <td>0.98</td>\n",
       "      <td>1</td>\n",
       "      <td>6.0</td>\n",
       "      <td>6.0</td>\n",
       "      <td>1</td>\n",
       "      <td>...</td>\n",
       "      <td>0</td>\n",
       "      <td>0</td>\n",
       "      <td>0</td>\n",
       "      <td>0</td>\n",
       "      <td>0</td>\n",
       "      <td>0</td>\n",
       "      <td>1</td>\n",
       "      <td>0</td>\n",
       "      <td>0</td>\n",
       "      <td>1</td>\n",
       "    </tr>\n",
       "    <tr>\n",
       "      <th>2</th>\n",
       "      <td>1</td>\n",
       "      <td>1</td>\n",
       "      <td>1</td>\n",
       "      <td>1</td>\n",
       "      <td>1</td>\n",
       "      <td>0.67</td>\n",
       "      <td>0</td>\n",
       "      <td>2.0</td>\n",
       "      <td>2.0</td>\n",
       "      <td>1</td>\n",
       "      <td>...</td>\n",
       "      <td>0</td>\n",
       "      <td>0</td>\n",
       "      <td>0</td>\n",
       "      <td>0</td>\n",
       "      <td>0</td>\n",
       "      <td>0</td>\n",
       "      <td>1</td>\n",
       "      <td>0</td>\n",
       "      <td>0</td>\n",
       "      <td>1</td>\n",
       "    </tr>\n",
       "    <tr>\n",
       "      <th>4</th>\n",
       "      <td>1</td>\n",
       "      <td>1</td>\n",
       "      <td>1</td>\n",
       "      <td>1</td>\n",
       "      <td>1</td>\n",
       "      <td>1.00</td>\n",
       "      <td>0</td>\n",
       "      <td>2.0</td>\n",
       "      <td>2.0</td>\n",
       "      <td>1</td>\n",
       "      <td>...</td>\n",
       "      <td>0</td>\n",
       "      <td>0</td>\n",
       "      <td>0</td>\n",
       "      <td>0</td>\n",
       "      <td>0</td>\n",
       "      <td>0</td>\n",
       "      <td>1</td>\n",
       "      <td>0</td>\n",
       "      <td>0</td>\n",
       "      <td>1</td>\n",
       "    </tr>\n",
       "    <tr>\n",
       "      <th>5</th>\n",
       "      <td>1</td>\n",
       "      <td>1</td>\n",
       "      <td>1</td>\n",
       "      <td>1</td>\n",
       "      <td>1</td>\n",
       "      <td>NaN</td>\n",
       "      <td>0</td>\n",
       "      <td>1.0</td>\n",
       "      <td>1.0</td>\n",
       "      <td>1</td>\n",
       "      <td>...</td>\n",
       "      <td>1</td>\n",
       "      <td>0</td>\n",
       "      <td>0</td>\n",
       "      <td>0</td>\n",
       "      <td>0</td>\n",
       "      <td>0</td>\n",
       "      <td>1</td>\n",
       "      <td>0</td>\n",
       "      <td>0</td>\n",
       "      <td>1</td>\n",
       "    </tr>\n",
       "  </tbody>\n",
       "</table>\n",
       "<p>5 rows × 127 columns</p>\n",
       "</div>"
      ],
      "text/plain": [
       "   name  summary  space  description  transit  host_response_rate  \\\n",
       "0     1        1      1            1        1                0.96   \n",
       "1     1        1      1            1        1                0.98   \n",
       "2     1        1      1            1        1                0.67   \n",
       "4     1        1      1            1        1                1.00   \n",
       "5     1        1      1            1        1                 NaN   \n",
       "\n",
       "   host_is_superhost  host_listings_count  host_total_listings_count  \\\n",
       "0                  0                  3.0                        3.0   \n",
       "1                  1                  6.0                        6.0   \n",
       "2                  0                  2.0                        2.0   \n",
       "4                  0                  2.0                        2.0   \n",
       "5                  0                  1.0                        1.0   \n",
       "\n",
       "   host_has_profile_pic  ...  room_type_Private room  room_type_Shared room  \\\n",
       "0                     1  ...                       0                      0   \n",
       "1                     1  ...                       0                      0   \n",
       "2                     1  ...                       0                      0   \n",
       "4                     1  ...                       0                      0   \n",
       "5                     1  ...                       1                      0   \n",
       "\n",
       "   bed_type_Airbed  bed_type_Couch  bed_type_Futon  bed_type_Pull-out Sofa  \\\n",
       "0                0               0               0                       0   \n",
       "1                0               0               0                       0   \n",
       "2                0               0               0                       0   \n",
       "4                0               0               0                       0   \n",
       "5                0               0               0                       0   \n",
       "\n",
       "   bed_type_Real Bed  cancellation_policy_flexible  \\\n",
       "0                  1                             0   \n",
       "1                  1                             0   \n",
       "2                  1                             0   \n",
       "4                  1                             0   \n",
       "5                  1                             0   \n",
       "\n",
       "   cancellation_policy_moderate  cancellation_policy_strict  \n",
       "0                             1                           0  \n",
       "1                             0                           1  \n",
       "2                             0                           1  \n",
       "4                             0                           1  \n",
       "5                             0                           1  \n",
       "\n",
       "[5 rows x 127 columns]"
      ]
     },
     "execution_count": 140,
     "metadata": {},
     "output_type": "execute_result"
    }
   ],
   "source": [
    "#Dummies for rest of categorical\n",
    "cat_cols = ['host_response_time',\n",
    "'neighbourhood_group_cleansed',\n",
    "'property_type',\n",
    "'room_type',\n",
    "'bed_type',\n",
    "'cancellation_policy']\n",
    "\n",
    "features = pd.get_dummies(features, columns=cat_cols)\n",
    "features.head()"
   ]
  },
  {
   "cell_type": "code",
   "execution_count": 141,
   "metadata": {
    "execution": {
     "iopub.execute_input": "2023-01-02T06:57:52.936145Z",
     "iopub.status.busy": "2023-01-02T06:57:52.935627Z",
     "iopub.status.idle": "2023-01-02T06:57:52.978224Z",
     "shell.execute_reply": "2023-01-02T06:57:52.976555Z",
     "shell.execute_reply.started": "2023-01-02T06:57:52.935975Z"
    }
   },
   "outputs": [
    {
     "name": "stdout",
     "output_type": "stream",
     "text": [
      "host_response_rate has 312 null values\n",
      "bathrooms has 12 null values\n",
      "bedrooms has 6 null values\n",
      "review_scores_accuracy has 11 null values\n",
      "review_scores_cleanliness has 6 null values\n",
      "review_scores_checkin has 11 null values\n",
      "review_scores_communication has 4 null values\n",
      "review_scores_location has 8 null values\n",
      "review_scores_value has 9 null values\n"
     ]
    }
   ],
   "source": [
    "#Find columns that still have null values\n",
    "for column in features:\n",
    "    if features[column].isnull().any():\n",
    "       print('{0} has {1} null values'.format(column, features[column].isnull().sum()))"
   ]
  },
  {
   "cell_type": "markdown",
   "metadata": {},
   "source": [
    "With these columns, we can approach the NaN values differently based on the type of information we can get from them:\n",
    "\n",
    "**Impute with median:** (host_response_rate)\n",
    "\n",
    "**Fill with 1:** (bathrooms, bedrooms)\n",
    "\n",
    "**Fill with 0:** (review_scores_accuracy, review_scores_cleanliness, review_scores_checkin, review_scores_communication, review_scores_location, review_scores_value)\n",
    "\n"
   ]
  },
  {
   "cell_type": "code",
   "execution_count": 142,
   "metadata": {
    "execution": {
     "iopub.execute_input": "2023-01-02T06:57:52.980160Z",
     "iopub.status.busy": "2023-01-02T06:57:52.979780Z",
     "iopub.status.idle": "2023-01-02T06:57:52.992342Z",
     "shell.execute_reply": "2023-01-02T06:57:52.990970Z",
     "shell.execute_reply.started": "2023-01-02T06:57:52.980115Z"
    }
   },
   "outputs": [],
   "source": [
    "#Fill with 0 or 1\n",
    "values = {'review_scores_accuracy': 0, 'review_scores_cleanliness': 0, 'review_scores_checkin': 0, 'review_scores_communication': 0, \n",
    " 'review_scores_location': 0,'review_scores_value': 0, 'bathrooms': 1, 'bedrooms': 1}\n",
    "features.fillna(value=values, inplace = True)"
   ]
  },
  {
   "cell_type": "code",
   "execution_count": 143,
   "metadata": {
    "execution": {
     "iopub.execute_input": "2023-01-02T06:57:52.994952Z",
     "iopub.status.busy": "2023-01-02T06:57:52.994396Z",
     "iopub.status.idle": "2023-01-02T06:57:53.009216Z",
     "shell.execute_reply": "2023-01-02T06:57:53.007675Z",
     "shell.execute_reply.started": "2023-01-02T06:57:52.994898Z"
    }
   },
   "outputs": [
    {
     "data": {
      "text/plain": [
       "0"
      ]
     },
     "execution_count": 143,
     "metadata": {},
     "output_type": "execute_result"
    }
   ],
   "source": [
    "#Impute host_response_rate with median\n",
    "features['host_response_rate'].fillna(value = features.host_response_rate.median(), inplace = True)\n",
    "features.host_response_rate.isna().sum()"
   ]
  },
  {
   "cell_type": "code",
   "execution_count": 144,
   "metadata": {
    "execution": {
     "iopub.execute_input": "2023-01-02T06:57:53.011522Z",
     "iopub.status.busy": "2023-01-02T06:57:53.010920Z",
     "iopub.status.idle": "2023-01-02T06:57:53.025256Z",
     "shell.execute_reply": "2023-01-02T06:57:53.023653Z",
     "shell.execute_reply.started": "2023-01-02T06:57:53.011453Z"
    }
   },
   "outputs": [
    {
     "data": {
      "text/plain": [
       "0"
      ]
     },
     "execution_count": 144,
     "metadata": {},
     "output_type": "execute_result"
    }
   ],
   "source": [
    "features.isna().any().sum()"
   ]
  },
  {
   "cell_type": "code",
   "execution_count": 145,
   "metadata": {
    "execution": {
     "iopub.execute_input": "2023-01-02T06:57:53.027606Z",
     "iopub.status.busy": "2023-01-02T06:57:53.026846Z",
     "iopub.status.idle": "2023-01-02T06:57:53.273014Z",
     "shell.execute_reply": "2023-01-02T06:57:53.271706Z",
     "shell.execute_reply.started": "2023-01-02T06:57:53.027553Z"
    }
   },
   "outputs": [
    {
     "name": "stdout",
     "output_type": "stream",
     "text": [
      "<class 'pandas.core.frame.DataFrame'>\n",
      "Int64Index: 3171 entries, 0 to 3814\n",
      "Columns: 127 entries, name to cancellation_policy_strict\n",
      "dtypes: float64(15), int64(64), uint8(48)\n",
      "memory usage: 2.2 MB\n"
     ]
    }
   ],
   "source": [
    "features.astype(str)\n",
    "features.info()"
   ]
  },
  {
   "cell_type": "markdown",
   "metadata": {},
   "source": [
    "### Modeling<a id='modeling'></a>"
   ]
  },
  {
   "cell_type": "code",
   "execution_count": 146,
   "metadata": {
    "execution": {
     "iopub.execute_input": "2023-01-02T06:57:53.274915Z",
     "iopub.status.busy": "2023-01-02T06:57:53.274510Z",
     "iopub.status.idle": "2023-01-02T06:57:53.288147Z",
     "shell.execute_reply": "2023-01-02T06:57:53.286549Z",
     "shell.execute_reply.started": "2023-01-02T06:57:53.274880Z"
    },
    "scrolled": true
   },
   "outputs": [
    {
     "name": "stdout",
     "output_type": "stream",
     "text": [
      "(2219, 127) (2219,)\n",
      "(952, 127) (952,)\n"
     ]
    }
   ],
   "source": [
    "#split into training and test sets\n",
    "X_train, X_test, y_train, y_test = train_test_split(features, target, test_size = .30, random_state=42) \n",
    "\n",
    "print(X_train.shape, y_train.shape)\n",
    "print(X_test.shape, y_test.shape)"
   ]
  },
  {
   "cell_type": "code",
   "execution_count": 147,
   "metadata": {
    "execution": {
     "iopub.execute_input": "2023-01-02T06:57:53.290733Z",
     "iopub.status.busy": "2023-01-02T06:57:53.290178Z",
     "iopub.status.idle": "2023-01-02T06:57:53.297190Z",
     "shell.execute_reply": "2023-01-02T06:57:53.295614Z",
     "shell.execute_reply.started": "2023-01-02T06:57:53.290684Z"
    }
   },
   "outputs": [],
   "source": [
    "# Instantiate linear regression model and fit it to training data set\n",
    "lm_model = LinearRegression(normalize=True)\n",
    "lm_model.fit(X_train, y_train)"
   ]
  },
  {
   "cell_type": "code",
   "execution_count": 148,
   "metadata": {
    "execution": {
     "iopub.execute_input": "2023-01-02T06:57:53.299684Z",
     "iopub.status.busy": "2023-01-02T06:57:53.299184Z",
     "iopub.status.idle": "2023-01-02T06:57:53.357730Z",
     "shell.execute_reply": "2023-01-02T06:57:53.356063Z",
     "shell.execute_reply.started": "2023-01-02T06:57:53.299638Z"
    }
   },
   "outputs": [
    {
     "name": "stdout",
     "output_type": "stream",
     "text": [
      "The rsquared score on the training data was 0.5053668356383458.The rsquared score on the test data was 0.3757866224489471.\n"
     ]
    }
   ],
   "source": [
    "# Predict and score the model\n",
    "y_train_preds = lm_model.predict(X_train)\n",
    "y_test_preds = lm_model.predict(X_test) \n",
    "train_score = r2_score(y_train, y_train_preds)\n",
    "test_score = r2_score(y_test,y_test_preds)\n",
    "print(\"The rsquared score on the training data was {}.The rsquared score on the test data was {}.\".format(train_score, test_score))"
   ]
  },
  {
   "cell_type": "code",
   "execution_count": 149,
   "metadata": {
    "execution": {
     "iopub.execute_input": "2023-01-02T06:57:53.361069Z",
     "iopub.status.busy": "2023-01-02T06:57:53.360113Z",
     "iopub.status.idle": "2023-01-02T06:57:53.405571Z",
     "shell.execute_reply": "2023-01-02T06:57:53.403692Z",
     "shell.execute_reply.started": "2023-01-02T06:57:53.361001Z"
    }
   },
   "outputs": [
    {
     "name": "stdout",
     "output_type": "stream",
     "text": [
      "The rsquared score on the training data was 0.5053668356383458.  The rsquared score on the test data was 0.3757866224489471.\n"
     ]
    }
   ],
   "source": [
    "# Predict and score the model\n",
    "y_train_preds = lm_model.predict(X_train)\n",
    "y_test_preds = lm_model.predict(X_test) \n",
    "train_score = r2_score(y_train, y_train_preds)\n",
    "test_score = r2_score(y_test,y_test_preds)\n",
    "print(\"The rsquared score on the training data was {}.  The rsquared score on the test data was {}.\".format(train_score, test_score))"
   ]
  },
  {
   "cell_type": "code",
   "execution_count": 150,
   "metadata": {
    "execution": {
     "iopub.execute_input": "2023-01-02T06:57:53.410579Z",
     "iopub.status.busy": "2023-01-02T06:57:53.408097Z",
     "iopub.status.idle": "2023-01-02T06:57:53.473652Z",
     "shell.execute_reply": "2023-01-02T06:57:53.471992Z",
     "shell.execute_reply.started": "2023-01-02T06:57:53.410504Z"
    }
   },
   "outputs": [
    {
     "data": {
      "text/html": [
       "<div>\n",
       "<style scoped>\n",
       "    .dataframe tbody tr th:only-of-type {\n",
       "        vertical-align: middle;\n",
       "    }\n",
       "\n",
       "    .dataframe tbody tr th {\n",
       "        vertical-align: top;\n",
       "    }\n",
       "\n",
       "    .dataframe thead th {\n",
       "        text-align: right;\n",
       "    }\n",
       "</style>\n",
       "<table border=\"1\" class=\"dataframe\">\n",
       "  <thead>\n",
       "    <tr style=\"text-align: right;\">\n",
       "      <th></th>\n",
       "      <th>est_int</th>\n",
       "      <th>coefs</th>\n",
       "      <th>abs_coefs</th>\n",
       "    </tr>\n",
       "  </thead>\n",
       "  <tbody>\n",
       "    <tr>\n",
       "      <th>1</th>\n",
       "      <td>summary</td>\n",
       "      <td>-1.601447e+15</td>\n",
       "      <td>1.601447e+15</td>\n",
       "    </tr>\n",
       "    <tr>\n",
       "      <th>2</th>\n",
       "      <td>space</td>\n",
       "      <td>-8.747481e+14</td>\n",
       "      <td>8.747481e+14</td>\n",
       "    </tr>\n",
       "    <tr>\n",
       "      <th>71</th>\n",
       "      <td>Smoke Detector</td>\n",
       "      <td>-6.685070e+14</td>\n",
       "      <td>6.685070e+14</td>\n",
       "    </tr>\n",
       "    <tr>\n",
       "      <th>40</th>\n",
       "      <td>Cable TV</td>\n",
       "      <td>-5.773036e+14</td>\n",
       "      <td>5.773036e+14</td>\n",
       "    </tr>\n",
       "    <tr>\n",
       "      <th>4</th>\n",
       "      <td>transit</td>\n",
       "      <td>3.692436e+14</td>\n",
       "      <td>3.692436e+14</td>\n",
       "    </tr>\n",
       "    <tr>\n",
       "      <th>56</th>\n",
       "      <td>Carbon Monoxide Detector</td>\n",
       "      <td>3.392226e+14</td>\n",
       "      <td>3.392226e+14</td>\n",
       "    </tr>\n",
       "    <tr>\n",
       "      <th>119</th>\n",
       "      <td>bed_type_Airbed</td>\n",
       "      <td>-3.272732e+14</td>\n",
       "      <td>3.272732e+14</td>\n",
       "    </tr>\n",
       "    <tr>\n",
       "      <th>122</th>\n",
       "      <td>bed_type_Pull-out Sofa</td>\n",
       "      <td>-3.272732e+14</td>\n",
       "      <td>3.272732e+14</td>\n",
       "    </tr>\n",
       "    <tr>\n",
       "      <th>121</th>\n",
       "      <td>bed_type_Futon</td>\n",
       "      <td>-3.272732e+14</td>\n",
       "      <td>3.272732e+14</td>\n",
       "    </tr>\n",
       "    <tr>\n",
       "      <th>123</th>\n",
       "      <td>bed_type_Real Bed</td>\n",
       "      <td>-3.272732e+14</td>\n",
       "      <td>3.272732e+14</td>\n",
       "    </tr>\n",
       "    <tr>\n",
       "      <th>120</th>\n",
       "      <td>bed_type_Couch</td>\n",
       "      <td>-3.272732e+14</td>\n",
       "      <td>3.272732e+14</td>\n",
       "    </tr>\n",
       "    <tr>\n",
       "      <th>50</th>\n",
       "      <td>Wheelchair Accessible</td>\n",
       "      <td>-2.792705e+14</td>\n",
       "      <td>2.792705e+14</td>\n",
       "    </tr>\n",
       "    <tr>\n",
       "      <th>45</th>\n",
       "      <td>TV</td>\n",
       "      <td>2.468418e+14</td>\n",
       "      <td>2.468418e+14</td>\n",
       "    </tr>\n",
       "    <tr>\n",
       "      <th>39</th>\n",
       "      <td>Breakfast</td>\n",
       "      <td>-2.313523e+14</td>\n",
       "      <td>2.313523e+14</td>\n",
       "    </tr>\n",
       "    <tr>\n",
       "      <th>54</th>\n",
       "      <td>First Aid Kit</td>\n",
       "      <td>-2.192967e+14</td>\n",
       "      <td>2.192967e+14</td>\n",
       "    </tr>\n",
       "    <tr>\n",
       "      <th>63</th>\n",
       "      <td>Pool</td>\n",
       "      <td>-2.191389e+14</td>\n",
       "      <td>2.191389e+14</td>\n",
       "    </tr>\n",
       "    <tr>\n",
       "      <th>47</th>\n",
       "      <td>Doorman</td>\n",
       "      <td>-1.652445e+14</td>\n",
       "      <td>1.652445e+14</td>\n",
       "    </tr>\n",
       "    <tr>\n",
       "      <th>42</th>\n",
       "      <td>Suitable for Events</td>\n",
       "      <td>-1.556334e+14</td>\n",
       "      <td>1.556334e+14</td>\n",
       "    </tr>\n",
       "    <tr>\n",
       "      <th>118</th>\n",
       "      <td>room_type_Shared room</td>\n",
       "      <td>1.551050e+14</td>\n",
       "      <td>1.551050e+14</td>\n",
       "    </tr>\n",
       "    <tr>\n",
       "      <th>117</th>\n",
       "      <td>room_type_Private room</td>\n",
       "      <td>1.551050e+14</td>\n",
       "      <td>1.551050e+14</td>\n",
       "    </tr>\n",
       "  </tbody>\n",
       "</table>\n",
       "</div>"
      ],
      "text/plain": [
       "                      est_int         coefs     abs_coefs\n",
       "1                     summary -1.601447e+15  1.601447e+15\n",
       "2                       space -8.747481e+14  8.747481e+14\n",
       "71             Smoke Detector -6.685070e+14  6.685070e+14\n",
       "40                   Cable TV -5.773036e+14  5.773036e+14\n",
       "4                     transit  3.692436e+14  3.692436e+14\n",
       "56   Carbon Monoxide Detector  3.392226e+14  3.392226e+14\n",
       "119           bed_type_Airbed -3.272732e+14  3.272732e+14\n",
       "122    bed_type_Pull-out Sofa -3.272732e+14  3.272732e+14\n",
       "121            bed_type_Futon -3.272732e+14  3.272732e+14\n",
       "123         bed_type_Real Bed -3.272732e+14  3.272732e+14\n",
       "120            bed_type_Couch -3.272732e+14  3.272732e+14\n",
       "50      Wheelchair Accessible -2.792705e+14  2.792705e+14\n",
       "45                         TV  2.468418e+14  2.468418e+14\n",
       "39                  Breakfast -2.313523e+14  2.313523e+14\n",
       "54              First Aid Kit -2.192967e+14  2.192967e+14\n",
       "63                       Pool -2.191389e+14  2.191389e+14\n",
       "47                    Doorman -1.652445e+14  1.652445e+14\n",
       "42        Suitable for Events -1.556334e+14  1.556334e+14\n",
       "118     room_type_Shared room  1.551050e+14  1.551050e+14\n",
       "117    room_type_Private room  1.551050e+14  1.551050e+14"
      ]
     },
     "execution_count": 150,
     "metadata": {},
     "output_type": "execute_result"
    }
   ],
   "source": [
    "def coef_weights(coefficients, X_train):\n",
    "    '''\n",
    "    Function to get coefficients back for each of the features\n",
    "    INPUT:\n",
    "    coefficients - the coefficients of the linear model \n",
    "    X_train - the training data, so the column names can be used\n",
    "    OUTPUT:\n",
    "    coefs_df - a dataframe holding the coefficient, estimate, and abs(estimate)\n",
    "    \n",
    "    Provides a dataframe that can be used to understand the most influential coefficients\n",
    "    '''\n",
    "    coefs_df = pd.DataFrame()\n",
    "    coefs_df['est_int'] = X_train.columns\n",
    "    coefs_df['coefs'] = lm_model.coef_\n",
    "    coefs_df['abs_coefs'] = np.abs(lm_model.coef_)\n",
    "    coefs_df = coefs_df.sort_values('abs_coefs', ascending=False)\n",
    "    return coefs_df\n",
    "\n",
    "#Use the function\n",
    "coef_df = coef_weights(lm_model.coef_, X_train)\n",
    "\n",
    "#A quick look at the top results\n",
    "coef_df.head(20)"
   ]
  },
  {
   "cell_type": "markdown",
   "metadata": {},
   "source": [
    "### Evaluation<a id='evaluation'></a>"
   ]
  },
  {
   "cell_type": "markdown",
   "metadata": {},
   "source": [
    "* I got an r-squared value of ~0.50 for the training data and ~0.37 for the test data, indicating that there is a significant amount of variance between the data and a linear model.\n",
    "* The highest coefficient was transit, indicating that this factor has the greatest effect on rating in this model, followed by top ranked amenities. \n",
    "* This model doesn't necessarily prove that there is a strong relationship between any of the variables tested and the rating of an AirBnB. \n",
    "* In more tests, i would further attempt to modify this calculation by perhaps taking out the amenities and handling some of the variables differently (imputing with mean instead of median).\n",
    "* In conclusion it doesn't hurt for Seattle homeowners attached to AirBnB to consider give transit weight when posting their listings as well as the amenities available in order to increase their ratings by chance."
   ]
  },
  {
   "cell_type": "markdown",
   "metadata": {},
   "source": [
    "### Acknowledgements\n",
    "- Udacity Data Science Nanodegree contents.\n",
    "- This data was made publicly available by Kaggle (https://www.kaggle.com/airbnb/seattle/data).\n"
   ]
  }
 ],
 "metadata": {
  "kernelspec": {
   "display_name": "Python 3 (ipykernel)",
   "language": "python",
   "name": "python3"
  },
  "language_info": {
   "codemirror_mode": {
    "name": "ipython",
    "version": 3
   },
   "file_extension": ".py",
   "mimetype": "text/x-python",
   "name": "python",
   "nbconvert_exporter": "python",
   "pygments_lexer": "ipython3",
   "version": "3.9.12"
  }
 },
 "nbformat": 4,
 "nbformat_minor": 4
}
